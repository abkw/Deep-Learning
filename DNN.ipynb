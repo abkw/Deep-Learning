{
  "nbformat": 4,
  "nbformat_minor": 0,
  "metadata": {
    "accelerator": "GPU",
    "colab": {
      "name": "DNN_Lab_Final.ipynb",
      "provenance": [],
      "collapsed_sections": [],
      "toc_visible": true,
      "machine_shape": "hm"
    },
    "kernelspec": {
      "display_name": "Python 3.5",
      "language": "python",
      "name": "python3"
    },
    "language_info": {
      "codemirror_mode": {
        "name": "ipython",
        "version": 3
      },
      "file_extension": ".py",
      "mimetype": "text/x-python",
      "name": "python",
      "nbconvert_exporter": "python",
      "pygments_lexer": "ipython3",
      "version": "3.5.6"
    }
  },
  "cells": [
    {
      "cell_type": "markdown",
      "metadata": {
        "colab_type": "text",
        "id": "I53QLYjPEsz_"
      },
      "source": [
        "# Deep Neural Networks Laboration\n",
        "\n",
        "Data used in this laboration are from the Kitsune Network Attack Dataset, https://archive.ics.uci.edu/ml/datasets/Kitsune+Network+Attack+Dataset . We will focus on the 'Mirai' part of the dataset. Your task is to make a DNN that can classify if each attack is benign or malicious. The dataset has 116 covariates, but to make it a bit more difficult we will remove the first 24 covariates.\n",
        "\n",
        "You need to answer all questions in this notebook."
      ]
    },
    {
      "cell_type": "markdown",
      "metadata": {
        "colab_type": "text",
        "id": "zcSV6buOEs0A"
      },
      "source": [
        "# Part 1: Get the data\n",
        "\n",
        "Use `wget` in the terminal of your cloud machine (in the same directory as where you have saved this notebook) to download the data, i.e.\n",
        "\n",
        "wget https://archive.ics.uci.edu/ml/machine-learning-databases/00516/mirai/Mirai_dataset.csv.gz\n",
        "\n",
        "wget https://archive.ics.uci.edu/ml/machine-learning-databases/00516/mirai/Mirai_labels.csv.gz\n",
        "\n",
        "Then unpack the files using `gunzip` in the terminal, i.e.\n",
        "\n",
        "gunzip Mirai_dataset.csv.gz\n",
        "\n",
        "gunzip Mirai_labels.csv.gz"
      ]
    },
    {
      "cell_type": "code",
      "metadata": {
        "colab_type": "code",
        "id": "LUFWJAtnMK5z",
        "outputId": "7a1869dd-d325-471c-ed94-70a87b3d3192",
        "colab": {
          "base_uri": "https://localhost:8080/",
          "height": 224
        }
      },
      "source": [
        "# This is google colab Command - Remove On Azure\n",
        "!wget https://archive.ics.uci.edu/ml/machine-learning-databases/00516/mirai/Mirai_labels.csv.gz"
      ],
      "execution_count": 159,
      "outputs": [
        {
          "output_type": "stream",
          "text": [
            "--2020-05-12 00:36:45--  https://archive.ics.uci.edu/ml/machine-learning-databases/00516/mirai/Mirai_labels.csv.gz\n",
            "Resolving archive.ics.uci.edu (archive.ics.uci.edu)... 128.195.10.252\n",
            "Connecting to archive.ics.uci.edu (archive.ics.uci.edu)|128.195.10.252|:443... connected.\n",
            "HTTP request sent, awaiting response... 200 OK\n",
            "Length: 2281 (2.2K) [application/x-httpd-php]\n",
            "Saving to: ‘Mirai_labels.csv.gz.1’\n",
            "\n",
            "\rMirai_labels.csv.gz   0%[                    ]       0  --.-KB/s               \rMirai_labels.csv.gz 100%[===================>]   2.23K  --.-KB/s    in 0s      \n",
            "\n",
            "2020-05-12 00:36:46 (67.5 MB/s) - ‘Mirai_labels.csv.gz.1’ saved [2281/2281]\n",
            "\n"
          ],
          "name": "stdout"
        }
      ]
    },
    {
      "cell_type": "code",
      "metadata": {
        "colab_type": "code",
        "id": "KYek49HAL6ZH",
        "outputId": "d1e6d6e2-4279-4627-cb1c-bd1b61ece2b9",
        "colab": {
          "base_uri": "https://localhost:8080/",
          "height": 224
        }
      },
      "source": [
        "# This is google colab Command - Remove On Azure\n",
        "!wget https://archive.ics.uci.edu/ml/machine-learning-databases/00516/mirai/Mirai_dataset.csv.gz"
      ],
      "execution_count": 160,
      "outputs": [
        {
          "output_type": "stream",
          "text": [
            "--2020-05-12 00:36:49--  https://archive.ics.uci.edu/ml/machine-learning-databases/00516/mirai/Mirai_dataset.csv.gz\n",
            "Resolving archive.ics.uci.edu (archive.ics.uci.edu)... 128.195.10.252\n",
            "Connecting to archive.ics.uci.edu (archive.ics.uci.edu)|128.195.10.252|:443... connected.\n",
            "HTTP request sent, awaiting response... 200 OK\n",
            "Length: 328662266 (313M) [application/x-httpd-php]\n",
            "Saving to: ‘Mirai_dataset.csv.gz.1’\n",
            "\n",
            "Mirai_dataset.csv.g 100%[===================>] 313.44M  22.3MB/s    in 15s     \n",
            "\n",
            "2020-05-12 00:37:05 (20.8 MB/s) - ‘Mirai_dataset.csv.gz.1’ saved [328662266/328662266]\n",
            "\n"
          ],
          "name": "stdout"
        }
      ]
    },
    {
      "cell_type": "code",
      "metadata": {
        "colab_type": "code",
        "id": "m53IU04QMbDk",
        "colab": {
          "base_uri": "https://localhost:8080/",
          "height": 85
        },
        "outputId": "55e819b4-a01d-4af9-9ac4-f5dffede5ff0"
      },
      "source": [
        "# This is google colab Command - Remove On Azure\n",
        "!gunzip Mirai_dataset.csv.gz\n",
        "\n",
        "!gunzip Mirai_labels.csv.gz"
      ],
      "execution_count": 161,
      "outputs": [
        {
          "output_type": "stream",
          "text": [
            "gzip: Mirai_dataset.csv already exists; do you wish to overwrite (y or n)? n\n",
            "\tnot overwritten\n",
            "gzip: Mirai_labels.csv already exists; do you wish to overwrite (y or n)? n\n",
            "\tnot overwritten\n"
          ],
          "name": "stdout"
        }
      ]
    },
    {
      "cell_type": "markdown",
      "metadata": {
        "colab_type": "text",
        "id": "KiiFUGbqEs0B"
      },
      "source": [
        "# Part 2: Get a graphics card\n",
        "\n",
        "Lets make sure that our script can see the graphics card that will be used. The graphics cards will perform all the time consuming calculations in every training iteration."
      ]
    },
    {
      "cell_type": "code",
      "metadata": {
        "colab_type": "code",
        "id": "OVz82jrNEs0C",
        "colab": {}
      },
      "source": [
        "import os\n",
        "import warnings\n",
        "\n",
        "# Ignore FutureWarning from numpy\n",
        "warnings.simplefilter(action='ignore', category=FutureWarning)\n",
        "\n",
        "import keras.backend as K\n",
        "import tensorflow as tf\n",
        "\n",
        "os.environ[\"CUDA_DEVICE_ORDER\"]=\"PCI_BUS_ID\";\n",
        " \n",
        "# The GPU id to use, usually either \"0\" or \"1\";\n",
        "os.environ[\"CUDA_VISIBLE_DEVICES\"]=\"0\";\n",
        "\n",
        "# Allow growth of GPU memory, otherwise it will always look like all the memory is being used\n",
        "physical_devices = tf.config.experimental.list_physical_devices('GPU')\n",
        "tf.config.experimental.set_memory_growth(physical_devices[0], True) "
      ],
      "execution_count": 0,
      "outputs": []
    },
    {
      "cell_type": "markdown",
      "metadata": {
        "colab_type": "text",
        "id": "df_JtpvDEs0H"
      },
      "source": [
        "# Part 3: Hardware\n",
        "\n",
        "In deep learning, the computer hardware is very important. You should always know what kind of hardware you are working on.\n",
        "\n",
        "Question 1: What graphics card is available in the cloud machine? Run 'nvidia-smi' in the terminal. \n",
        "\n",
        "Question 2: Google the name of the graphics card, how many CUDA cores does it have?\n",
        "\n",
        "Question 3: How much memory does the graphics card have?\n",
        "\n",
        "Question 4: What is stored in the GPU memory while training a DNN ?\n",
        "\n",
        "Question 5: What CPU is available in the cloud machine? How many cores does it have? Run 'lscpu' in the terminal.\n",
        "\n",
        "Question 6: How much CPU memory (RAM) is available in the cloud machine? Run 'free -g' in the terminal."
      ]
    },
    {
      "cell_type": "code",
      "metadata": {
        "id": "6hxz6zbUkHhY",
        "colab_type": "code",
        "colab": {}
      },
      "source": [
        "#Answer 1: The graphic card is: Tesla K80"
      ],
      "execution_count": 0,
      "outputs": []
    },
    {
      "cell_type": "code",
      "metadata": {
        "id": "SFBZwmPWkHhc",
        "colab_type": "code",
        "colab": {}
      },
      "source": [
        "#Answer 2: The number of CUDA cores is 4992"
      ],
      "execution_count": 0,
      "outputs": []
    },
    {
      "cell_type": "code",
      "metadata": {
        "id": "cExHDyvVkHhg",
        "colab_type": "code",
        "colab": {}
      },
      "source": [
        "#Answer 3: The size of memory is 12 GB"
      ],
      "execution_count": 0,
      "outputs": []
    },
    {
      "cell_type": "code",
      "metadata": {
        "id": "pR80tfhQkHhi",
        "colab_type": "code",
        "colab": {}
      },
      "source": [
        "#Answer 4: What is stored in the GPU is the mini batch and we could store trainable parameters\n",
        "# The Gradient of the parameters , Intermediate outputs and Activations for different layers."
      ],
      "execution_count": 0,
      "outputs": []
    },
    {
      "cell_type": "code",
      "metadata": {
        "id": "M8gsdAKPkHhl",
        "colab_type": "code",
        "colab": {}
      },
      "source": [
        "#Answer 5: We have 6 CPUs (Intel(R) Xeon(R) CPU E5-2690 v3 @ 2.60GHz) with speed of 2596.989, with 6 cores each, and one thread per core"
      ],
      "execution_count": 0,
      "outputs": []
    },
    {
      "cell_type": "code",
      "metadata": {
        "id": "zYOiS28-kHho",
        "colab_type": "code",
        "colab": {}
      },
      "source": [
        "#Answer 6: The totla RAM size is 55 GB, and the available is 53 GB."
      ],
      "execution_count": 0,
      "outputs": []
    },
    {
      "cell_type": "markdown",
      "metadata": {
        "colab_type": "text",
        "id": "_THPTMckEs0I"
      },
      "source": [
        "# Part 4: Load the data\n",
        "\n",
        "Load the dataset from the csv files, it will take some time since it is almost 1.4 GB. \n",
        "\n",
        "We will use the function `genfromtxt` to load the data.\n",
        "\n",
        "https://docs.scipy.org/doc/numpy/reference/generated/numpy.genfromtxt.html\n",
        "\n",
        "Load the data from csv files the first time, then save the data as numpy files for faster loading the next time.\n",
        "\n",
        "\n"
      ]
    },
    {
      "cell_type": "code",
      "metadata": {
        "colab_type": "code",
        "id": "ayVVtn3yEs0J",
        "outputId": "e86b53b7-1e25-45fa-ee56-13ddf0ace267",
        "colab": {
          "base_uri": "https://localhost:8080/",
          "height": 85
        }
      },
      "source": [
        "from numpy import genfromtxt\n",
        "import numpy as np\n",
        "\n",
        "# Load data from file\n",
        "covariates = genfromtxt('Mirai_dataset.csv',delimiter=\",\")\n",
        "labels = genfromtxt('Mirai_labels.csv',delimiter=\",\")\n",
        "\n",
        "X = covariates\n",
        "Y = labels\n",
        "\n",
        "\n",
        "\n",
        "# Save data as numpy arrays, for faster loading in future calls to this cell\n",
        "np.save('Mirai_data.npy', X)\n",
        "np.save('Mirai_labels.npy', Y)\n",
        "\n",
        "# Load data from numpy arrays, for faster loading\n",
        "X = np.load('Mirai_data.npy')\n",
        "Y = np.load('Mirai_labels.npy')\n",
        "\n",
        "\n",
        "# Remove the first 24 covariates\n",
        "remove_cols = np.array([range(24)])\n",
        "X = np.delete(X, remove_cols, 1) # column wise (axis = 1)\n",
        "\n",
        "# Print the number of examples of each class\n",
        "print('The covariates have size {}.'.format(X.shape))\n",
        "print('The labels have size {}.'.format(Y.shape))\n",
        "print(\"The number of class 0 is {}\".format(len(Y[Y==0])))\n",
        "print(\"The number of class 1 is {}\".format(len(Y[Y==1])))"
      ],
      "execution_count": 169,
      "outputs": [
        {
          "output_type": "stream",
          "text": [
            "The covariates have size (764137, 92).\n",
            "The labels have size (764137,).\n",
            "The number of class 0 is 121621\n",
            "The number of class 1 is 642516\n"
          ],
          "name": "stdout"
        }
      ]
    },
    {
      "cell_type": "markdown",
      "metadata": {
        "colab_type": "text",
        "id": "hUtR7ZxQEs0N"
      },
      "source": [
        "# Part 5: How good is a naive classifier?\n",
        "\n",
        "Question 7: Given the distribution of examples, how high classification performance can a naive classifier obtain? The naive classifier will assume that all examples belong to one class. Note: you do not need to make a naive classifier, this is a theoretical question, just to understand how good performance we can obtain by random chance."
      ]
    },
    {
      "cell_type": "markdown",
      "metadata": {
        "colab_type": "text",
        "id": "6e36mdYM43TX"
      },
      "source": [
        "**Highest Classification performance can be  =  # class 1 examples / Total Examples**\n",
        "\n",
        "**642516 / 764137 = 84%**"
      ]
    },
    {
      "cell_type": "code",
      "metadata": {
        "colab_type": "code",
        "id": "4fZR8fgjEs0R",
        "outputId": "7eaf9374-c012-42f4-a1d1-5f4a8bcfd39b",
        "colab": {
          "base_uri": "https://localhost:8080/",
          "height": 51
        }
      },
      "source": [
        "# It is common to have NaNs in the data, lets check for it. Hint: np.isnan()\n",
        "\n",
        "    \n",
        "# Print the number of NaNs (not a number) in the labels\n",
        "print('Number of NaNs in the covariates {}.'.format(np.count_nonzero(np.isnan(Y))))\n",
        "\n",
        "# Print the number of NaNs in the covariates\n",
        "print('Number of NaNs in the labels {}.'.format(np.count_nonzero(np.isnan(X))))\n",
        "\n",
        "#The values are zeros because we already removed the NaNs from the data."
      ],
      "execution_count": 170,
      "outputs": [
        {
          "output_type": "stream",
          "text": [
            "Number of NaNs in the covariates 0.\n",
            "Number of NaNs in the labels 0.\n"
          ],
          "name": "stdout"
        }
      ]
    },
    {
      "cell_type": "markdown",
      "metadata": {
        "colab_type": "text",
        "id": "4cnbJn2qEs0V"
      },
      "source": [
        "# Part 6: Preprocessing\n",
        "\n",
        "Lets do some simple preprocessing"
      ]
    },
    {
      "cell_type": "code",
      "metadata": {
        "colab_type": "code",
        "id": "J_9leHd1Es0W",
        "colab": {}
      },
      "source": [
        "# Convert covariates to floats\n",
        "X_floats = X.astype(float)\n",
        "\n",
        "# Convert labels to ints\n",
        "Y_floats = Y.astype(int)\n",
        "\n",
        "# Remove mean of each covariate (column) and\n",
        "# Divide each covariate (column) by its standard deviation\n",
        "X_floats = (X_floats - np.mean(X_floats,axis=0)) / np.std(X_floats,axis=0)\n",
        "\n",
        "\n",
        "####### Alternative Approach ########\n",
        "# for ind in range(X.shape[1]):\n",
        "#     X_floats[ind] = X_floats[ind] - np.mean(X_floats[ind])\n",
        "#     # Divide each covariate (column) by its standard deviation\n",
        "#     X_floats[ind] = X_floats[ind] / np.std(X_floats[ind])\n",
        "#     print(np.mean(X_floats[ind]))\n",
        "#     print(np.std(X_floats[ind]))\n",
        "\n",
        "\n",
        "# for ind in range(X.shape[1]):\n",
        "#     colMean = np.mean(X_floats[:,ind])\n",
        "#     colStd = np.std(X_floats[:,ind])\n",
        "#     X_floats[:,ind] = (X_floats[:,ind] - colMean) / colStd\n",
        "#     Divide each covariate (column) by its standard deviation\n",
        "#     X_floats[:,ind] = X_floats[:,ind] / np.std(X_floats[:,ind])\n",
        "#     print(np.mean(X_floats[:,ind]))\n",
        "#     print(np.std(X_floats[:,ind]))\n",
        "\n",
        "####### Alternative Approach ########\n",
        "\n",
        "# Check that mean is 0 and standard deviation is 1 for all covariates, by printing mean and std\n",
        "#The mean value is very close to zero, and the standard deviation is 1 for all covariates"
      ],
      "execution_count": 0,
      "outputs": []
    },
    {
      "cell_type": "markdown",
      "metadata": {
        "colab_type": "text",
        "id": "DZx-zfMJEs0a"
      },
      "source": [
        "# Part 7: Split the dataset\n",
        "\n",
        "Use the first 70% of the dataset for training, leave the other 30% for validation and test, call the variables\n",
        "\n",
        "Xtrain (70%)\n",
        "\n",
        "Xtemp  (30%)\n",
        "\n",
        "Ytrain (70%)\n",
        "\n",
        "Ytemp  (30%)\n"
      ]
    },
    {
      "cell_type": "code",
      "metadata": {
        "colab_type": "code",
        "id": "eq68R-XkEs0b",
        "outputId": "4bca570b-165f-43f6-a728-7ddda3b481df",
        "colab": {
          "base_uri": "https://localhost:8080/",
          "height": 153
        }
      },
      "source": [
        "# Your code\n",
        "import sklearn as sk\n",
        "from sklearn.model_selection import train_test_split\n",
        "Xtrain, Xtemp, Ytrain, Ytemp = train_test_split(X_floats, Y_floats, train_size=0.7,shuffle=False)\n",
        "# Ytrain, Ytemp = train_test_split(Y_floats, train_size=0.70, test_size=0.30)\n",
        "print('Xtrain has size {}.'.format(Xtrain.shape))\n",
        "print('Ytrain has size {}.'.format(Ytrain.shape))\n",
        "\n",
        "print('Xtemp has size {}.'.format(Xtemp.shape))\n",
        "print('Ytemp has size {}.'.format(Ytemp.shape))\n",
        "\n",
        "# Print the number of examples of each class, for the training data and the remaining 30%\n",
        "\n",
        "# print(\"The number of class 0 is {}\".format(len(Ytrain[Ytrain==0])))\n",
        "# print(\"The number of class 1 is {}\".format(len(Ytrain[Ytrain==1])))\n",
        "\n",
        "for i in range(2):\n",
        "\n",
        "    print(\"Number of training examples for class {} is {}\" .format(i,np.sum(Ytrain == i)))\n",
        "\n",
        "    print(\"Number of validation examples for class {} is {}\" .format(i,np.sum(Ytemp == i)))"
      ],
      "execution_count": 172,
      "outputs": [
        {
          "output_type": "stream",
          "text": [
            "Xtrain has size (534895, 92).\n",
            "Ytrain has size (534895,).\n",
            "Xtemp has size (229242, 92).\n",
            "Ytemp has size (229242,).\n",
            "Number of training examples for class 0 is 121621\n",
            "Number of validation examples for class 0 is 0\n",
            "Number of training examples for class 1 is 413274\n",
            "Number of validation examples for class 1 is 229242\n"
          ],
          "name": "stdout"
        }
      ]
    },
    {
      "cell_type": "markdown",
      "metadata": {
        "colab_type": "text",
        "id": "0N7q-CeEEs0f"
      },
      "source": [
        "# Part 8: Number of examples per class\n",
        "\n",
        "Question 8: Can we use the dataset as it is? Why not?\n",
        "\n",
        "**Actually We could see that there were 0 examples for class 1 in the validation set. Since we need some validation examples for class 0 we can't use dataset as it it.**\n",
        "\n",
        "\n",
        "\n",
        "Lets randomly shuffle the data, to get some examples of each class in training data and in the remaining 30%. Use the function `shuffle` in scikit learn\n",
        "\n",
        "https://scikit-learn.org/stable/modules/generated/sklearn.utils.shuffle.html"
      ]
    },
    {
      "cell_type": "code",
      "metadata": {
        "colab_type": "code",
        "id": "obZ_H32JEs0g",
        "outputId": "4d826cdc-836a-4964-d67f-33ccc45f0a9a",
        "colab": {
          "base_uri": "https://localhost:8080/",
          "height": 102
        }
      },
      "source": [
        "from sklearn.utils import shuffle\n",
        "from scipy.sparse import coo_matrix\n",
        "\n",
        "#We can't use the data as it is, we have to shuffle it first, \n",
        "#and it also has NaNs fields which effect the training process, so we need to remove those first.\n",
        "\n",
        "# Randomly shuffle data, to get both classes in training and testing\n",
        "X_coo = coo_matrix(X_floats)\n",
        "\n",
        "X_floats, X_coo, Y_floats = shuffle(X_floats, X_coo, Y_floats, random_state=0)\n",
        "\n",
        "\n",
        "# Divide the data into training and validation/test again\n",
        "Xtrain, Xtemp, Ytrain, Ytemp = train_test_split(X_floats, Y_floats, train_size=0.7,shuffle=False)\n",
        "# Xtrain, Xtemp = train_test_split(X_floats, train_size=0.70, test_size=0.30)\n",
        "# Ytrain, Ytemp = train_test_split(Y_floats, train_size=0.70, test_size=0.30)\n",
        "\n",
        "# Print the number of examples of each class, for the training data and the remaining 30%\n",
        "print(\"Training Data: The number of class 0 after shuffeling is {}\".format(len(Ytrain[Ytrain==0])))\n",
        "print(\"Training Data: The number of class 1 after shuffeling is {}\".format(len(Ytrain[Ytrain==1])))\n",
        "\n",
        "print('--------------------------------------')\n",
        "print(\"Testing Data: The number of class 0 after shuffeling is {}\".format(len(Ytemp[Ytemp==0])))\n",
        "print(\"Testing Data: The number of class 1 after shuffeling is {}\".format(len(Ytemp[Ytemp==1])))"
      ],
      "execution_count": 173,
      "outputs": [
        {
          "output_type": "stream",
          "text": [
            "Training Data: The number of class 0 after shuffeling is 85010\n",
            "Training Data: The number of class 1 after shuffeling is 449885\n",
            "--------------------------------------\n",
            "Testing Data: The number of class 0 after shuffeling is 36611\n",
            "Testing Data: The number of class 1 after shuffeling is 192631\n"
          ],
          "name": "stdout"
        }
      ]
    },
    {
      "cell_type": "markdown",
      "metadata": {
        "colab_type": "text",
        "id": "bvNOiLc_Es0j"
      },
      "source": [
        "#  Part 9: Split non-training data data into validation and test\n",
        "Split your non-training data (Xtemp, Ytemp) into 50% validation (Xval, Yval) and 50% testing (Xtest, Ytest), we use a function from scikit learn. \n",
        "\n",
        "https://scikit-learn.org/stable/modules/generated/sklearn.model_selection.train_test_split.html\n"
      ]
    },
    {
      "cell_type": "code",
      "metadata": {
        "colab_type": "code",
        "id": "8DRq87vWEs0k",
        "outputId": "886212a6-e08c-41ce-ae49-0e612ec65fae",
        "colab": {
          "base_uri": "https://localhost:8080/",
          "height": 34
        }
      },
      "source": [
        "from sklearn.model_selection import train_test_split\n",
        "\n",
        "Xtest, Xval, Ytest, Yval = train_test_split(Xtemp, Ytemp, test_size=0.5)\n",
        "# Yval, Ytest = train_test_split(Ytemp, train_size=0.50, test_size=0.50)\n",
        "\n",
        "\n",
        "print('The validation and test data have size {}, {}, {} and {}'.format(Xval.shape, Xtest.shape, Yval.shape, Ytest.shape))"
      ],
      "execution_count": 174,
      "outputs": [
        {
          "output_type": "stream",
          "text": [
            "The validation and test data have size (114621, 92), (114621, 92), (114621,) and (114621,)\n"
          ],
          "name": "stdout"
        }
      ]
    },
    {
      "cell_type": "markdown",
      "metadata": {
        "colab_type": "text",
        "id": "QXu9oNXYEs0p"
      },
      "source": [
        "# Part 10: DNN classification\n",
        "\n",
        "Finish this code to create a first version of the classifier using a DNN. Start with a simple network with 2 dense layers (with 20 nodes each), using sigmoid activation functions. The final dense layer should have a single node and a sigmoid activation function. We start with the SGD optimizer.\n",
        "\n",
        "Relevant functions are\n",
        "\n",
        "`model.add()`, adds a layer to the network\n",
        "\n",
        "`Dense()`, a dense network layer\n",
        "\n",
        "`model.compile()`, compile the model, add \" metrics=['accuracy'] \" to print the classification accuracy during the training\n",
        "\n",
        "`model.fit()`, train the model with some training data\n",
        "\n",
        "`model.evaluate()`, apply the trained model to some test data\n",
        "\n",
        "See https://keras.io/layers/core/ for information on how the `Dense()` function works\n",
        "\n",
        "Import a relevant cost / loss function for binary classification from keras.losses (https://keras.io/losses/)\n",
        "\n",
        "See https://keras.io/models/model/ for how to compile, train and evaluate the model"
      ]
    },
    {
      "cell_type": "code",
      "metadata": {
        "colab_type": "code",
        "id": "R5feiMv7Es0q",
        "colab": {}
      },
      "source": [
        "from keras.models import Sequential, Model\n",
        "from keras.layers import Input, Dense, Activation, Dropout\n",
        "from keras.optimizers import SGD, Adam\n",
        "from keras.losses import binary_crossentropy as BC\n",
        "from keras.layers.normalization import BatchNormalization\n",
        "\n",
        "# Set seed from random number generator, for better comparisons\n",
        "from numpy.random import seed\n",
        "seed(123)\n",
        "\n",
        "\n",
        "def build_DNN(input_shape, n_layers, n_nodes, act_fun='sigmoid', optimizer='sgd', learning_rate=0.01, \n",
        "              use_bn=False, use_dropout=False, use_custom_dropout=False):\n",
        "    # Setup optimizer, depending on input parameter string\n",
        "    opti = SGD(lr=learning_rate)\n",
        "    if optimizer == 'adam':\n",
        "        opti = Adam(lr=learning_rate)\n",
        "    \n",
        "    # Setup a sequential model\n",
        "    model = Sequential()\n",
        "\n",
        "    # Add layers to the model, using the input parameters of the build_DNN function\n",
        "    \n",
        "    # Add first layer, requires input shape\n",
        "    model.add(Dense(n_nodes, activation = act_fun, input_dim = input_shape))\n",
        "    if use_bn == True:\n",
        "        model.add(BatchNormalization())\n",
        "    if use_dropout == True:\n",
        "        model.add(Dropout(0.5))\n",
        "    if use_custom_dropout == True:\n",
        "        model.add(myDropout(0.5))\n",
        "    \n",
        "    \n",
        "    # Add remaining layers, do not require input shape\n",
        "    for i in range(n_layers-1):\n",
        "        model.add(Dense(n_nodes, activation = act_fun))\n",
        "        if use_bn == True:\n",
        "            model.add(BatchNormalization())\n",
        "        if use_dropout == True:\n",
        "            model.add(Dropout(0.5))\n",
        "        if use_custom_dropout == True:\n",
        "            model.add(myDropout(0.5))\n",
        "    \n",
        "           \n",
        "    # Final layer\n",
        "    model.add(Dense(1, activation = 'sigmoid'))\n",
        "    '''\n",
        "    if use_bn == True:\n",
        "        model.add(BatchNormalization())\n",
        "    \n",
        "    '''\n",
        "    \n",
        "    # Compile model\n",
        "    model.compile(optimizer = opti,loss = BC, metrics=['accuracy'])\n",
        "\n",
        "    return model"
      ],
      "execution_count": 0,
      "outputs": []
    },
    {
      "cell_type": "code",
      "metadata": {
        "colab_type": "code",
        "id": "3guvKMJxEs0t",
        "colab": {}
      },
      "source": [
        "# Lets define a help function for plotting the training results\n",
        "\n",
        "# IMPORTANT NOTE\n",
        "# The history unfortunately behaves a bit randomly for every user\n",
        "# If the plots for accuracy and loss look mixed, change the order of\n",
        "# val_loss, val_acc, loss, acc\n",
        "# until the plots look as they \"should\"\n",
        "\n",
        "import matplotlib.pyplot as plt\n",
        "def plot_results(history):\n",
        "    val_loss, val_acc, loss, acc = history.history.values()\n",
        "\n",
        "    plt.figure(figsize=(10,4))\n",
        "    plt.xlabel('Epochs')\n",
        "    plt.ylabel('Loss')\n",
        "    plt.plot(loss)\n",
        "    plt.plot(val_loss)\n",
        "    plt.legend(['Training','Validation'])\n",
        "\n",
        "    plt.figure(figsize=(10,4))\n",
        "    plt.xlabel('Epochs')\n",
        "    plt.ylabel('Accuracy')\n",
        "    plt.plot(acc)\n",
        "    plt.plot(val_acc)\n",
        "    plt.legend(['Training','Validation'])\n",
        "\n",
        "    plt.show()\n"
      ],
      "execution_count": 0,
      "outputs": []
    },
    {
      "cell_type": "markdown",
      "metadata": {
        "colab_type": "text",
        "id": "HGm9bxb5Es0y"
      },
      "source": [
        "# Part 11: Train the DNN\n",
        "\n",
        "Time to train the DNN, we start simple with 2 layers with 2 nodes each, learning rate 0.1."
      ]
    },
    {
      "cell_type": "markdown",
      "metadata": {
        "colab_type": "text",
        "id": "DfCiRJiREs0y"
      },
      "source": [
        "### 2 layers, 20 nodes"
      ]
    },
    {
      "cell_type": "code",
      "metadata": {
        "colab_type": "code",
        "id": "BrK3wc2xEs0z",
        "scrolled": true,
        "outputId": "e5b5c555-0b6f-4dbe-b4f4-659c6d495105",
        "colab": {
          "base_uri": "https://localhost:8080/",
          "height": 972
        }
      },
      "source": [
        "# Setup some training parameters\n",
        "batch_size = 10000\n",
        "epochs = 20\n",
        "\n",
        "input_shape = Xtrain.shape[1]\n",
        "\n",
        "# Build the model\n",
        "model1 = build_DNN(input_shape = input_shape,\n",
        "                   n_layers = 2,\n",
        "                   n_nodes = 20,\n",
        "                   learning_rate = 0.1)\n",
        "\n",
        "# Train the model, provide training data and validation data\n",
        "history1 = model1.fit(x = Xtrain,\n",
        "                      y = Ytrain,\n",
        "                      validation_data = (Xval,Yval),\n",
        "                      epochs = epochs,\n",
        "                      batch_size = batch_size)\n",
        "model1.summary()"
      ],
      "execution_count": 177,
      "outputs": [
        {
          "output_type": "stream",
          "text": [
            "Train on 534895 samples, validate on 114621 samples\n",
            "Epoch 1/20\n",
            "534895/534895 [==============================] - 1s 1us/step - loss: 0.4351 - accuracy: 0.8411 - val_loss: 0.4053 - val_accuracy: 0.8404\n",
            "Epoch 2/20\n",
            "534895/534895 [==============================] - 1s 1us/step - loss: 0.3874 - accuracy: 0.8411 - val_loss: 0.3692 - val_accuracy: 0.8404\n",
            "Epoch 3/20\n",
            "534895/534895 [==============================] - 1s 1us/step - loss: 0.3470 - accuracy: 0.8411 - val_loss: 0.3245 - val_accuracy: 0.8404\n",
            "Epoch 4/20\n",
            "534895/534895 [==============================] - 1s 1us/step - loss: 0.3010 - accuracy: 0.8411 - val_loss: 0.2791 - val_accuracy: 0.8404\n",
            "Epoch 5/20\n",
            "534895/534895 [==============================] - 1s 1us/step - loss: 0.2601 - accuracy: 0.8472 - val_loss: 0.2444 - val_accuracy: 0.8560\n",
            "Epoch 6/20\n",
            "534895/534895 [==============================] - 1s 1us/step - loss: 0.2320 - accuracy: 0.8634 - val_loss: 0.2228 - val_accuracy: 0.8753\n",
            "Epoch 7/20\n",
            "534895/534895 [==============================] - 1s 1us/step - loss: 0.2152 - accuracy: 0.8810 - val_loss: 0.2100 - val_accuracy: 0.8906\n",
            "Epoch 8/20\n",
            "534895/534895 [==============================] - 1s 1us/step - loss: 0.2050 - accuracy: 0.8944 - val_loss: 0.2021 - val_accuracy: 0.8975\n",
            "Epoch 9/20\n",
            "534895/534895 [==============================] - 1s 1us/step - loss: 0.1984 - accuracy: 0.9000 - val_loss: 0.1966 - val_accuracy: 0.9019\n",
            "Epoch 10/20\n",
            "534895/534895 [==============================] - 1s 1us/step - loss: 0.1937 - accuracy: 0.9025 - val_loss: 0.1925 - val_accuracy: 0.9027\n",
            "Epoch 11/20\n",
            "534895/534895 [==============================] - 1s 1us/step - loss: 0.1900 - accuracy: 0.9032 - val_loss: 0.1891 - val_accuracy: 0.9031\n",
            "Epoch 12/20\n",
            "534895/534895 [==============================] - 1s 1us/step - loss: 0.1870 - accuracy: 0.9039 - val_loss: 0.1864 - val_accuracy: 0.9046\n",
            "Epoch 13/20\n",
            "534895/534895 [==============================] - 1s 1us/step - loss: 0.1845 - accuracy: 0.9052 - val_loss: 0.1840 - val_accuracy: 0.9051\n",
            "Epoch 14/20\n",
            "534895/534895 [==============================] - 1s 1us/step - loss: 0.1823 - accuracy: 0.9058 - val_loss: 0.1818 - val_accuracy: 0.9056\n",
            "Epoch 15/20\n",
            "534895/534895 [==============================] - 1s 1us/step - loss: 0.1803 - accuracy: 0.9064 - val_loss: 0.1800 - val_accuracy: 0.9062\n",
            "Epoch 16/20\n",
            "534895/534895 [==============================] - 1s 1us/step - loss: 0.1786 - accuracy: 0.9071 - val_loss: 0.1783 - val_accuracy: 0.9070\n",
            "Epoch 17/20\n",
            "534895/534895 [==============================] - 1s 1us/step - loss: 0.1770 - accuracy: 0.9077 - val_loss: 0.1767 - val_accuracy: 0.9078\n",
            "Epoch 18/20\n",
            "534895/534895 [==============================] - 1s 1us/step - loss: 0.1756 - accuracy: 0.9084 - val_loss: 0.1754 - val_accuracy: 0.9083\n",
            "Epoch 19/20\n",
            "534895/534895 [==============================] - 1s 1us/step - loss: 0.1744 - accuracy: 0.9088 - val_loss: 0.1741 - val_accuracy: 0.9084\n",
            "Epoch 20/20\n",
            "534895/534895 [==============================] - 1s 1us/step - loss: 0.1733 - accuracy: 0.9091 - val_loss: 0.1731 - val_accuracy: 0.9087\n",
            "Model: \"sequential_43\"\n",
            "_________________________________________________________________\n",
            "Layer (type)                 Output Shape              Param #   \n",
            "=================================================================\n",
            "dense_215 (Dense)            (None, 20)                1860      \n",
            "_________________________________________________________________\n",
            "dense_216 (Dense)            (None, 20)                420       \n",
            "_________________________________________________________________\n",
            "dense_217 (Dense)            (None, 1)                 21        \n",
            "=================================================================\n",
            "Total params: 2,301\n",
            "Trainable params: 2,301\n",
            "Non-trainable params: 0\n",
            "_________________________________________________________________\n"
          ],
          "name": "stdout"
        }
      ]
    },
    {
      "cell_type": "code",
      "metadata": {
        "colab_type": "code",
        "id": "x-y0CicLEs06",
        "outputId": "ca43ac6e-e46b-4c91-9cd6-c895f6912584",
        "colab": {
          "base_uri": "https://localhost:8080/",
          "height": 68
        }
      },
      "source": [
        "# Evaluate the model on the test data\n",
        "score = model1.evaluate(x = Xtest, \n",
        "                        y = Ytest)\n",
        "\n",
        "print('Test loss: %.4f' % score[0])\n",
        "print('Test accuracy: %.4f' % score[1])"
      ],
      "execution_count": 178,
      "outputs": [
        {
          "output_type": "stream",
          "text": [
            "114621/114621 [==============================] - 4s 36us/step\n",
            "Test loss: 0.1719\n",
            "Test accuracy: 0.9103\n"
          ],
          "name": "stdout"
        }
      ]
    },
    {
      "cell_type": "code",
      "metadata": {
        "colab_type": "code",
        "id": "GN-qQBbYEs09",
        "outputId": "319437d2-94e2-426e-f04e-652bb4c6427c",
        "colab": {
          "base_uri": "https://localhost:8080/",
          "height": 541
        }
      },
      "source": [
        "# Plot the history from the training run\n",
        "plot_results(history1)\n",
        "#plot_results_mod(history1)"
      ],
      "execution_count": 179,
      "outputs": [
        {
          "output_type": "display_data",
          "data": {
            "image/png": "[encoded data removed]",
            "text/plain": [
              "<Figure size 720x288 with 1 Axes>"
            ]
          },
          "metadata": {
            "tags": [],
            "needs_background": "light"
          }
        },
        {
          "output_type": "display_data",
          "data": {
            "image/png": "[encoded data removed]",
            "text/plain": [
              "<Figure size 720x288 with 1 Axes>"
            ]
          },
          "metadata": {
            "tags": [],
            "needs_background": "light"
          }
        }
      ]
    },
    {
      "cell_type": "markdown",
      "metadata": {
        "colab_type": "text",
        "id": "De2xKguFEs1A"
      },
      "source": [
        "# Part 12: More questions\n",
        "\n",
        "Question 9: What happens if you add several Dense layers without specifying the activation function?\n",
        "\n",
        "**Without the activation, Dense layer is acting as a linear layer. We could use these layers to reduce dimensionality**\n",
        "\n",
        "\n",
        "Question 10: How are the weights in each dense layer initialized as default? How are the bias weights initialized?\n",
        "\n",
        "**The default kernel initializer is 'glorot_uniform', it's also called Xavier uniform initializer, and it draws the weight from a uniform distribution. and the default bias intializer is 'zeros'.**\n"
      ]
    },
    {
      "cell_type": "markdown",
      "metadata": {
        "colab_type": "text",
        "id": "md8Xh4U9Es1A"
      },
      "source": [
        "# Part 13: Balancing the classes\n",
        "\n",
        "This dataset is rather unbalanced, we need to define class weights so that the training pays more attention to the class with fewer samples. We use a function in scikit learn\n",
        "\n",
        "https://scikit-learn.org/stable/modules/generated/sklearn.utils.class_weight.compute_class_weight.html"
      ]
    },
    {
      "cell_type": "code",
      "metadata": {
        "colab_type": "code",
        "id": "lchboZZnEs1B",
        "outputId": "6fbe66ac-eadd-4854-d168-c8247fcea214",
        "colab": {
          "base_uri": "https://localhost:8080/",
          "height": 34
        }
      },
      "source": [
        "from sklearn.utils import class_weight\n",
        "\n",
        "# Calculate class weights\n",
        "class_weights_set = class_weight.compute_class_weight('balanced',\n",
        "                                                      np.unique(Ytrain),\n",
        "                                                      Ytrain)\n",
        "\n",
        "# Print the class weights\n",
        "print(class_weights_set)\n"
      ],
      "execution_count": 180,
      "outputs": [
        {
          "output_type": "stream",
          "text": [
            "[3.14607105 0.5944797 ]\n"
          ],
          "name": "stdout"
        }
      ]
    },
    {
      "cell_type": "markdown",
      "metadata": {
        "colab_type": "text",
        "id": "Kjl09RDFEs1E"
      },
      "source": [
        "### 2 layers, 20 nodes, class weights"
      ]
    },
    {
      "cell_type": "code",
      "metadata": {
        "colab_type": "code",
        "id": "B0eqnXY_Es1F",
        "outputId": "13b9ae6f-5408-4c80-9cb4-c805b35eff4f",
        "scrolled": true,
        "colab": {
          "base_uri": "https://localhost:8080/",
          "height": 972
        }
      },
      "source": [
        "# Setup some training parameters\n",
        "batch_size = 10000\n",
        "epochs = 20\n",
        "input_shape = Xtrain.shape[1]\n",
        "\n",
        "# Build and train model\n",
        "model2 = build_DNN(input_shape = input_shape,\n",
        "                   n_layers = 2,\n",
        "                   n_nodes = 20)\n",
        "\n",
        "history2 = model2.fit(x = Xtrain,\n",
        "                      y = Ytrain,\n",
        "                      validation_data = (Xval,Yval),\n",
        "                      epochs = epochs,\n",
        "                      batch_size = batch_size,\n",
        "                      class_weight = class_weights_set)\n",
        "model2.summary()"
      ],
      "execution_count": 181,
      "outputs": [
        {
          "output_type": "stream",
          "text": [
            "Train on 534895 samples, validate on 114621 samples\n",
            "Epoch 1/20\n",
            "534895/534895 [==============================] - 1s 1us/step - loss: 0.5941 - accuracy: 0.7520 - val_loss: 0.5003 - val_accuracy: 0.8404\n",
            "Epoch 2/20\n",
            "534895/534895 [==============================] - 1s 1us/step - loss: 0.4685 - accuracy: 0.8411 - val_loss: 0.4481 - val_accuracy: 0.8404\n",
            "Epoch 3/20\n",
            "534895/534895 [==============================] - 1s 1us/step - loss: 0.4380 - accuracy: 0.8411 - val_loss: 0.4317 - val_accuracy: 0.8404\n",
            "Epoch 4/20\n",
            "534895/534895 [==============================] - 1s 1us/step - loss: 0.4267 - accuracy: 0.8411 - val_loss: 0.4241 - val_accuracy: 0.8404\n",
            "Epoch 5/20\n",
            "534895/534895 [==============================] - 1s 1us/step - loss: 0.4205 - accuracy: 0.8411 - val_loss: 0.4189 - val_accuracy: 0.8404\n",
            "Epoch 6/20\n",
            "534895/534895 [==============================] - 1s 1us/step - loss: 0.4158 - accuracy: 0.8411 - val_loss: 0.4146 - val_accuracy: 0.8404\n",
            "Epoch 7/20\n",
            "534895/534895 [==============================] - 1s 1us/step - loss: 0.4115 - accuracy: 0.8411 - val_loss: 0.4104 - val_accuracy: 0.8404\n",
            "Epoch 8/20\n",
            "534895/534895 [==============================] - 1s 1us/step - loss: 0.4074 - accuracy: 0.8411 - val_loss: 0.4063 - val_accuracy: 0.8404\n",
            "Epoch 9/20\n",
            "534895/534895 [==============================] - 1s 1us/step - loss: 0.4033 - accuracy: 0.8411 - val_loss: 0.4022 - val_accuracy: 0.8404\n",
            "Epoch 10/20\n",
            "534895/534895 [==============================] - 1s 1us/step - loss: 0.3992 - accuracy: 0.8411 - val_loss: 0.3980 - val_accuracy: 0.8404\n",
            "Epoch 11/20\n",
            "534895/534895 [==============================] - 1s 1us/step - loss: 0.3950 - accuracy: 0.8411 - val_loss: 0.3938 - val_accuracy: 0.8404\n",
            "Epoch 12/20\n",
            "534895/534895 [==============================] - 1s 1us/step - loss: 0.3907 - accuracy: 0.8411 - val_loss: 0.3894 - val_accuracy: 0.8404\n",
            "Epoch 13/20\n",
            "534895/534895 [==============================] - 1s 1us/step - loss: 0.3862 - accuracy: 0.8411 - val_loss: 0.3849 - val_accuracy: 0.8404\n",
            "Epoch 14/20\n",
            "534895/534895 [==============================] - 1s 1us/step - loss: 0.3817 - accuracy: 0.8411 - val_loss: 0.3804 - val_accuracy: 0.8404\n",
            "Epoch 15/20\n",
            "534895/534895 [==============================] - 1s 1us/step - loss: 0.3772 - accuracy: 0.8411 - val_loss: 0.3757 - val_accuracy: 0.8404\n",
            "Epoch 16/20\n",
            "534895/534895 [==============================] - 1s 1us/step - loss: 0.3725 - accuracy: 0.8411 - val_loss: 0.3710 - val_accuracy: 0.8404\n",
            "Epoch 17/20\n",
            "534895/534895 [==============================] - 1s 1us/step - loss: 0.3677 - accuracy: 0.8411 - val_loss: 0.3662 - val_accuracy: 0.8404\n",
            "Epoch 18/20\n",
            "534895/534895 [==============================] - 1s 1us/step - loss: 0.3628 - accuracy: 0.8411 - val_loss: 0.3613 - val_accuracy: 0.8404\n",
            "Epoch 19/20\n",
            "534895/534895 [==============================] - 1s 1us/step - loss: 0.3579 - accuracy: 0.8411 - val_loss: 0.3563 - val_accuracy: 0.8404\n",
            "Epoch 20/20\n",
            "534895/534895 [==============================] - 1s 1us/step - loss: 0.3529 - accuracy: 0.8411 - val_loss: 0.3512 - val_accuracy: 0.8404\n",
            "Model: \"sequential_44\"\n",
            "_________________________________________________________________\n",
            "Layer (type)                 Output Shape              Param #   \n",
            "=================================================================\n",
            "dense_218 (Dense)            (None, 20)                1860      \n",
            "_________________________________________________________________\n",
            "dense_219 (Dense)            (None, 20)                420       \n",
            "_________________________________________________________________\n",
            "dense_220 (Dense)            (None, 1)                 21        \n",
            "=================================================================\n",
            "Total params: 2,301\n",
            "Trainable params: 2,301\n",
            "Non-trainable params: 0\n",
            "_________________________________________________________________\n"
          ],
          "name": "stdout"
        }
      ]
    },
    {
      "cell_type": "code",
      "metadata": {
        "colab_type": "code",
        "id": "JS137OtyEs1K",
        "outputId": "0d0a6713-4ad9-4541-9019-2c7513fb54b2",
        "colab": {
          "base_uri": "https://localhost:8080/",
          "height": 68
        }
      },
      "source": [
        "# Evaluate model on test data\n",
        "score = model2.evaluate(x = Xtest, \n",
        "                        y = Ytest)\n",
        "\n",
        "print('Test loss: %.4f' % score[0])\n",
        "print('Test accuracy: %.4f' % score[1])"
      ],
      "execution_count": 182,
      "outputs": [
        {
          "output_type": "stream",
          "text": [
            "114621/114621 [==============================] - 4s 36us/step\n",
            "Test loss: 0.3514\n",
            "Test accuracy: 0.8402\n"
          ],
          "name": "stdout"
        }
      ]
    },
    {
      "cell_type": "code",
      "metadata": {
        "colab_type": "code",
        "id": "kCN24x1VEs1O",
        "outputId": "c36c230b-cc32-4da5-d8cc-8e6d7c848a1d",
        "colab": {
          "base_uri": "https://localhost:8080/",
          "height": 541
        }
      },
      "source": [
        "plot_results(history2)"
      ],
      "execution_count": 183,
      "outputs": [
        {
          "output_type": "display_data",
          "data": {
            "image/png": "[encoded data removed]",
            "text/plain": [
              "<Figure size 720x288 with 1 Axes>"
            ]
          },
          "metadata": {
            "tags": [],
            "needs_background": "light"
          }
        },
        {
          "output_type": "display_data",
          "data": {
            "image/png": "[encoded data removed]",
            "text/plain": [
              "<Figure size 720x288 with 1 Axes>"
            ]
          },
          "metadata": {
            "tags": [],
            "needs_background": "light"
          }
        }
      ]
    },
    {
      "cell_type": "markdown",
      "metadata": {
        "colab_type": "text",
        "id": "6U5rtwcSEs1S"
      },
      "source": [
        "# Part 14: More questions\n",
        "\n",
        "Question 11: Why do we have to use a batch size? Why can't we simply use all data at once? This is more relevant for even larger datasets.\n",
        "\n",
        "**we use batch size because we can't fit all the data in the GPU memory, so we divide it into batches**\n",
        "\n",
        "Question 12: How busy is the GPU for a batch size of 100? How much GPU memory is used? Hint: run 'nvidia-smi' on the cloud computer a few times during training.\n",
        "**The GPU memory used is: 158,335 MB, and the GPU utilization went up to 32 %**\n",
        "\n",
        "Question 13: What is the processing time for one training epoch when the batch size is 100? What is the processing time for one epoch when the batch size is 1,000? What is the processing time for one epoch when the batch size is 10,000? Explain the results.   \n",
        "\n",
        "**The processing time for one training epoch and 100 batch size is: 12 seconds  \n",
        "The processing time for one training epoch and 1000 batch size is: 2 seconds    \n",
        "The processing time for one training epoch and 10000 batch size is: 1 second**\n",
        "\n",
        "**When we use large batch size, we keep the GPU bussy by utilizing all the 4992 cores, whilst when we give the GPU a small batch size it will not use its full capacity, so the more data we give to the GPU the more decrease in time we will see in the training**\n",
        "\n",
        "Question 14: How many times are the weights in the DNN updated in each training epoch if the batch size is 100? How many times are the weights in the DNN updated in each training epoch if the batch size is 1,000? How many times are the weights in the DNN updated in each training epoch if the batch size is 10,000?  \n",
        "\n",
        "**The number of times the weight are updated in the DNN when using a batch size of 100 is: 5348.95  \n",
        "The number of times the weight are updated in the DNN when using a batch size of 1000 is: 534.895  \n",
        "The number of times the weight are updated in the DNN when using a batch size of 10000 is: 53.4895**\n",
        "\n",
        "Question 15: What limits how large the batch size can be?\n",
        "\n",
        "**The following can effect the size of batch:  \n",
        "1- Available GPU memory bytes  \n",
        "2- Size of tensors  \n",
        "3- Trainable parameters)**\n",
        "\n",
        "**The GPU memory and the RAM**\n",
        "\n",
        "Question 16: Generally speaking, how is the learning rate related to the batch size? If the batch size is decreased, how should the learning rate be changed?\n",
        "\n",
        "**Batch size and the learning rate is closely releated. Hence Low batch sizemay need smaller learning rate as gradient is more certain. And also Large batch size, may need larger learning rate, because of fewer weight updates in total**\n",
        "\n",
        "Lets use a batch size of 10,000 from now on, and a learning rate of 0.1."
      ]
    },
    {
      "cell_type": "code",
      "metadata": {
        "id": "nqJnqgc6kHic",
        "colab_type": "code",
        "outputId": "1eea1ba4-6127-4cb7-e954-824e65774a60",
        "colab": {
          "base_uri": "https://localhost:8080/",
          "height": 972
        }
      },
      "source": [
        "# This is for testing the GPU memory with a batch size of 100\n",
        "batch_size = 10000\n",
        "epochs = 20\n",
        "#14  how many times weights are updated with 100 batch size\n",
        "#13 testing with one training epoch and a batch size of 100\n",
        "#epochs = 1\n",
        "#13 testing with one epoch and a 1000 batch size\n",
        "#batch_size = 1000\n",
        "#14 how many times weights are updated with 1000 batch size\n",
        "#13 testing with one epoch and a 10000 batch size\n",
        "#batch_size = 10000\n",
        "#14 how many times weights are updated with 10000 batch size\n",
        "input_shape = Xtrain.shape[1]\n",
        "\n",
        "# Build and train model\n",
        "model2 = build_DNN(input_shape = input_shape,\n",
        "                   n_layers = 2,\n",
        "                   n_nodes = 20,\n",
        "                   learning_rate = 0.1)\n",
        "\n",
        "history2 = model2.fit(x = Xtrain,\n",
        "                      y = Ytrain,\n",
        "                      validation_data = (Xval,Yval),\n",
        "                      epochs = epochs,\n",
        "                      batch_size = batch_size,\n",
        "                      verbose = 1)\n",
        "model2.summary()"
      ],
      "execution_count": 184,
      "outputs": [
        {
          "output_type": "stream",
          "text": [
            "Train on 534895 samples, validate on 114621 samples\n",
            "Epoch 1/20\n",
            "534895/534895 [==============================] - 1s 1us/step - loss: 0.4460 - accuracy: 0.8159 - val_loss: 0.4006 - val_accuracy: 0.8404\n",
            "Epoch 2/20\n",
            "534895/534895 [==============================] - 1s 1us/step - loss: 0.3767 - accuracy: 0.8411 - val_loss: 0.3515 - val_accuracy: 0.8404\n",
            "Epoch 3/20\n",
            "534895/534895 [==============================] - 1s 1us/step - loss: 0.3236 - accuracy: 0.8411 - val_loss: 0.2963 - val_accuracy: 0.8404\n",
            "Epoch 4/20\n",
            "534895/534895 [==============================] - 1s 1us/step - loss: 0.2721 - accuracy: 0.8414 - val_loss: 0.2512 - val_accuracy: 0.8451\n",
            "Epoch 5/20\n",
            "534895/534895 [==============================] - 1s 1us/step - loss: 0.2356 - accuracy: 0.8567 - val_loss: 0.2236 - val_accuracy: 0.8721\n",
            "Epoch 6/20\n",
            "534895/534895 [==============================] - 1s 1us/step - loss: 0.2146 - accuracy: 0.8868 - val_loss: 0.2082 - val_accuracy: 0.8982\n",
            "Epoch 7/20\n",
            "534895/534895 [==============================] - 1s 1us/step - loss: 0.2027 - accuracy: 0.9027 - val_loss: 0.1992 - val_accuracy: 0.9051\n",
            "Epoch 8/20\n",
            "534895/534895 [==============================] - 1s 1us/step - loss: 0.1954 - accuracy: 0.9058 - val_loss: 0.1933 - val_accuracy: 0.9057\n",
            "Epoch 9/20\n",
            "534895/534895 [==============================] - 1s 1us/step - loss: 0.1904 - accuracy: 0.9061 - val_loss: 0.1891 - val_accuracy: 0.9060\n",
            "Epoch 10/20\n",
            "534895/534895 [==============================] - 1s 1us/step - loss: 0.1868 - accuracy: 0.9065 - val_loss: 0.1858 - val_accuracy: 0.9064\n",
            "Epoch 11/20\n",
            "534895/534895 [==============================] - 1s 1us/step - loss: 0.1839 - accuracy: 0.9070 - val_loss: 0.1832 - val_accuracy: 0.9071\n",
            "Epoch 12/20\n",
            "534895/534895 [==============================] - 1s 1us/step - loss: 0.1815 - accuracy: 0.9077 - val_loss: 0.1811 - val_accuracy: 0.9075\n",
            "Epoch 13/20\n",
            "534895/534895 [==============================] - 1s 1us/step - loss: 0.1796 - accuracy: 0.9080 - val_loss: 0.1793 - val_accuracy: 0.9079\n",
            "Epoch 14/20\n",
            "534895/534895 [==============================] - 1s 1us/step - loss: 0.1779 - accuracy: 0.9083 - val_loss: 0.1777 - val_accuracy: 0.9081\n",
            "Epoch 15/20\n",
            "534895/534895 [==============================] - 1s 1us/step - loss: 0.1765 - accuracy: 0.9084 - val_loss: 0.1764 - val_accuracy: 0.9083\n",
            "Epoch 16/20\n",
            "534895/534895 [==============================] - 1s 1us/step - loss: 0.1753 - accuracy: 0.9087 - val_loss: 0.1752 - val_accuracy: 0.9085\n",
            "Epoch 17/20\n",
            "534895/534895 [==============================] - 1s 1us/step - loss: 0.1742 - accuracy: 0.9088 - val_loss: 0.1742 - val_accuracy: 0.9085\n",
            "Epoch 18/20\n",
            "534895/534895 [==============================] - 1s 1us/step - loss: 0.1732 - accuracy: 0.9089 - val_loss: 0.1732 - val_accuracy: 0.9087\n",
            "Epoch 19/20\n",
            "534895/534895 [==============================] - 1s 1us/step - loss: 0.1723 - accuracy: 0.9092 - val_loss: 0.1724 - val_accuracy: 0.9089\n",
            "Epoch 20/20\n",
            "534895/534895 [==============================] - 1s 1us/step - loss: 0.1715 - accuracy: 0.9093 - val_loss: 0.1716 - val_accuracy: 0.9090\n",
            "Model: \"sequential_45\"\n",
            "_________________________________________________________________\n",
            "Layer (type)                 Output Shape              Param #   \n",
            "=================================================================\n",
            "dense_221 (Dense)            (None, 20)                1860      \n",
            "_________________________________________________________________\n",
            "dense_222 (Dense)            (None, 20)                420       \n",
            "_________________________________________________________________\n",
            "dense_223 (Dense)            (None, 1)                 21        \n",
            "=================================================================\n",
            "Total params: 2,301\n",
            "Trainable params: 2,301\n",
            "Non-trainable params: 0\n",
            "_________________________________________________________________\n"
          ],
          "name": "stdout"
        }
      ]
    },
    {
      "cell_type": "markdown",
      "metadata": {
        "colab_type": "text",
        "id": "dQmX6djEEs1S"
      },
      "source": [
        "# Part 15: Increasing the complexity\n",
        "\n",
        "Lets try some different configurations of number of layers and number of nodes per layer.\n",
        "\n",
        "Question 17: How many trainable parameters does the network with 4 dense layers with 50 nodes each have, compared to the initial network with 2 layers and 20 nodes per layer? Hint: use model.summary()\n",
        "\n",
        "**4 Dense Layer with 50 Nodes - Trainable params: 3,141**\n",
        "\n",
        "**2 Dense Layer with 20 Nodes - Trainable params: 2,301**"
      ]
    },
    {
      "cell_type": "markdown",
      "metadata": {
        "colab_type": "text",
        "id": "OKdB3jxSEs1S"
      },
      "source": [
        "### 4 layers, 20 nodes, class weights"
      ]
    },
    {
      "cell_type": "code",
      "metadata": {
        "colab_type": "code",
        "id": "fm08-PzFEs1T",
        "scrolled": true,
        "outputId": "2f96f82b-b2c3-414b-8c4b-66ede27e746f",
        "colab": {
          "base_uri": "https://localhost:8080/",
          "height": 1000
        }
      },
      "source": [
        "# Setup some training parameters\n",
        "batch_size = 10000\n",
        "epochs = 20\n",
        "input_shape = Xtrain.shape[1]\n",
        "\n",
        "# Build and train model\n",
        "model3 = build_DNN(input_shape = input_shape,\n",
        "                   n_layers = 4,\n",
        "                   n_nodes = 20,\n",
        "                   learning_rate = 0.1)\n",
        "\n",
        "history3 = model3.fit(x = Xtrain,\n",
        "                      y = Ytrain,\n",
        "                      validation_data = (Xval,Yval),\n",
        "                      epochs = epochs,\n",
        "                      batch_size = batch_size,\n",
        "                      class_weight = class_weights_set)\n",
        "model3.summary()"
      ],
      "execution_count": 185,
      "outputs": [
        {
          "output_type": "stream",
          "text": [
            "Train on 534895 samples, validate on 114621 samples\n",
            "Epoch 1/20\n",
            "534895/534895 [==============================] - 1s 1us/step - loss: 0.4732 - accuracy: 0.8022 - val_loss: 0.4392 - val_accuracy: 0.8404\n",
            "Epoch 2/20\n",
            "534895/534895 [==============================] - 1s 1us/step - loss: 0.4380 - accuracy: 0.8411 - val_loss: 0.4391 - val_accuracy: 0.8404\n",
            "Epoch 3/20\n",
            "534895/534895 [==============================] - 1s 1us/step - loss: 0.4379 - accuracy: 0.8411 - val_loss: 0.4389 - val_accuracy: 0.8404\n",
            "Epoch 4/20\n",
            "534895/534895 [==============================] - 1s 1us/step - loss: 0.4378 - accuracy: 0.8411 - val_loss: 0.4388 - val_accuracy: 0.8404\n",
            "Epoch 5/20\n",
            "534895/534895 [==============================] - 1s 1us/step - loss: 0.4376 - accuracy: 0.8411 - val_loss: 0.4386 - val_accuracy: 0.8404\n",
            "Epoch 6/20\n",
            "534895/534895 [==============================] - 1s 1us/step - loss: 0.4375 - accuracy: 0.8411 - val_loss: 0.4385 - val_accuracy: 0.8404\n",
            "Epoch 7/20\n",
            "534895/534895 [==============================] - 1s 1us/step - loss: 0.4374 - accuracy: 0.8411 - val_loss: 0.4384 - val_accuracy: 0.8404\n",
            "Epoch 8/20\n",
            "534895/534895 [==============================] - 1s 1us/step - loss: 0.4372 - accuracy: 0.8411 - val_loss: 0.4382 - val_accuracy: 0.8404\n",
            "Epoch 9/20\n",
            "534895/534895 [==============================] - 1s 1us/step - loss: 0.4371 - accuracy: 0.8411 - val_loss: 0.4381 - val_accuracy: 0.8404\n",
            "Epoch 10/20\n",
            "534895/534895 [==============================] - 1s 1us/step - loss: 0.4369 - accuracy: 0.8411 - val_loss: 0.4379 - val_accuracy: 0.8404\n",
            "Epoch 11/20\n",
            "534895/534895 [==============================] - 1s 1us/step - loss: 0.4367 - accuracy: 0.8411 - val_loss: 0.4377 - val_accuracy: 0.8404\n",
            "Epoch 12/20\n",
            "534895/534895 [==============================] - 1s 1us/step - loss: 0.4365 - accuracy: 0.8411 - val_loss: 0.4375 - val_accuracy: 0.8404\n",
            "Epoch 13/20\n",
            "534895/534895 [==============================] - 1s 1us/step - loss: 0.4363 - accuracy: 0.8411 - val_loss: 0.4373 - val_accuracy: 0.8404\n",
            "Epoch 14/20\n",
            "534895/534895 [==============================] - 1s 1us/step - loss: 0.4361 - accuracy: 0.8411 - val_loss: 0.4371 - val_accuracy: 0.8404\n",
            "Epoch 15/20\n",
            "534895/534895 [==============================] - 1s 1us/step - loss: 0.4359 - accuracy: 0.8411 - val_loss: 0.4368 - val_accuracy: 0.8404\n",
            "Epoch 16/20\n",
            "534895/534895 [==============================] - 1s 1us/step - loss: 0.4356 - accuracy: 0.8411 - val_loss: 0.4365 - val_accuracy: 0.8404\n",
            "Epoch 17/20\n",
            "534895/534895 [==============================] - 1s 1us/step - loss: 0.4353 - accuracy: 0.8411 - val_loss: 0.4362 - val_accuracy: 0.8404\n",
            "Epoch 18/20\n",
            "534895/534895 [==============================] - 1s 1us/step - loss: 0.4349 - accuracy: 0.8411 - val_loss: 0.4358 - val_accuracy: 0.8404\n",
            "Epoch 19/20\n",
            "534895/534895 [==============================] - 1s 1us/step - loss: 0.4345 - accuracy: 0.8411 - val_loss: 0.4353 - val_accuracy: 0.8404\n",
            "Epoch 20/20\n",
            "534895/534895 [==============================] - 1s 1us/step - loss: 0.4340 - accuracy: 0.8411 - val_loss: 0.4348 - val_accuracy: 0.8404\n",
            "Model: \"sequential_46\"\n",
            "_________________________________________________________________\n",
            "Layer (type)                 Output Shape              Param #   \n",
            "=================================================================\n",
            "dense_224 (Dense)            (None, 20)                1860      \n",
            "_________________________________________________________________\n",
            "dense_225 (Dense)            (None, 20)                420       \n",
            "_________________________________________________________________\n",
            "dense_226 (Dense)            (None, 20)                420       \n",
            "_________________________________________________________________\n",
            "dense_227 (Dense)            (None, 20)                420       \n",
            "_________________________________________________________________\n",
            "dense_228 (Dense)            (None, 1)                 21        \n",
            "=================================================================\n",
            "Total params: 3,141\n",
            "Trainable params: 3,141\n",
            "Non-trainable params: 0\n",
            "_________________________________________________________________\n"
          ],
          "name": "stdout"
        }
      ]
    },
    {
      "cell_type": "code",
      "metadata": {
        "colab_type": "code",
        "id": "BvIH7F5TEs1V",
        "outputId": "3f405904-b484-4b26-dfd4-b371f433ac53",
        "colab": {
          "base_uri": "https://localhost:8080/",
          "height": 68
        }
      },
      "source": [
        "# Evaluate model on test data\n",
        "score = model3.evaluate(x = Xtest, \n",
        "                        y = Ytest)\n",
        "\n",
        "print('Test loss: %.4f' % score[0])\n",
        "print('Test accuracy: %.4f' % score[1])"
      ],
      "execution_count": 186,
      "outputs": [
        {
          "output_type": "stream",
          "text": [
            "114621/114621 [==============================] - 4s 38us/step\n",
            "Test loss: 0.4352\n",
            "Test accuracy: 0.8402\n"
          ],
          "name": "stdout"
        }
      ]
    },
    {
      "cell_type": "code",
      "metadata": {
        "colab_type": "code",
        "id": "TvJP5diwEs1X",
        "outputId": "818b56eb-674f-4013-f4dc-751d23cb98f7",
        "colab": {
          "base_uri": "https://localhost:8080/",
          "height": 545
        }
      },
      "source": [
        "plot_results(history3)"
      ],
      "execution_count": 187,
      "outputs": [
        {
          "output_type": "display_data",
          "data": {
            "image/png": "[encoded data removed]",
            "text/plain": [
              "<Figure size 720x288 with 1 Axes>"
            ]
          },
          "metadata": {
            "tags": [],
            "needs_background": "light"
          }
        },
        {
          "output_type": "display_data",
          "data": {
            "image/png": "[encoded data removed]",
            "text/plain": [
              "<Figure size 720x288 with 1 Axes>"
            ]
          },
          "metadata": {
            "tags": [],
            "needs_background": "light"
          }
        }
      ]
    },
    {
      "cell_type": "markdown",
      "metadata": {
        "colab_type": "text",
        "id": "BidQKgM2Es1a"
      },
      "source": [
        "### 2 layers, 50 nodes, class weights"
      ]
    },
    {
      "cell_type": "code",
      "metadata": {
        "colab_type": "code",
        "id": "7eUxR4T9Es1b",
        "scrolled": true,
        "outputId": "714de233-8d3f-4642-c1ff-a7b55c246c75",
        "colab": {
          "base_uri": "https://localhost:8080/",
          "height": 972
        }
      },
      "source": [
        "# Setup some training parameters\n",
        "batch_size = 10000\n",
        "epochs = 20\n",
        "input_shape = Xtrain.shape[1]\n",
        "\n",
        "# Build and train model\n",
        "model4 = build_DNN(input_shape = input_shape,\n",
        "                   n_layers = 2,\n",
        "                   n_nodes = 50,\n",
        "                   learning_rate = 0.1)\n",
        "\n",
        "history4 = model4.fit(x = Xtrain,\n",
        "                      y = Ytrain,\n",
        "                      validation_data = (Xval,Yval),\n",
        "                      epochs = epochs,\n",
        "                      batch_size = batch_size,\n",
        "                      class_weight = class_weights_set)\n",
        "model4.summary()"
      ],
      "execution_count": 216,
      "outputs": [
        {
          "output_type": "stream",
          "text": [
            "Train on 534895 samples, validate on 114621 samples\n",
            "Epoch 1/20\n",
            "534895/534895 [==============================] - 1s 1us/step - loss: 0.4190 - accuracy: 0.8411 - val_loss: 0.3817 - val_accuracy: 0.8404\n",
            "Epoch 2/20\n",
            "534895/534895 [==============================] - 1s 1us/step - loss: 0.3459 - accuracy: 0.8411 - val_loss: 0.3087 - val_accuracy: 0.8404\n",
            "Epoch 3/20\n",
            "534895/534895 [==============================] - 1s 1us/step - loss: 0.2754 - accuracy: 0.8459 - val_loss: 0.2469 - val_accuracy: 0.8536\n",
            "Epoch 4/20\n",
            "534895/534895 [==============================] - 1s 1us/step - loss: 0.2284 - accuracy: 0.8653 - val_loss: 0.2150 - val_accuracy: 0.8801\n",
            "Epoch 5/20\n",
            "534895/534895 [==============================] - 1s 1us/step - loss: 0.2063 - accuracy: 0.8888 - val_loss: 0.2006 - val_accuracy: 0.8973\n",
            "Epoch 6/20\n",
            "534895/534895 [==============================] - 1s 1us/step - loss: 0.1959 - accuracy: 0.9015 - val_loss: 0.1931 - val_accuracy: 0.9028\n",
            "Epoch 7/20\n",
            "534895/534895 [==============================] - 1s 1us/step - loss: 0.1900 - accuracy: 0.9037 - val_loss: 0.1885 - val_accuracy: 0.9042\n",
            "Epoch 8/20\n",
            "534895/534895 [==============================] - 1s 1us/step - loss: 0.1861 - accuracy: 0.9048 - val_loss: 0.1851 - val_accuracy: 0.9053\n",
            "Epoch 9/20\n",
            "534895/534895 [==============================] - 1s 1us/step - loss: 0.1832 - accuracy: 0.9061 - val_loss: 0.1825 - val_accuracy: 0.9065\n",
            "Epoch 10/20\n",
            "534895/534895 [==============================] - 1s 1us/step - loss: 0.1808 - accuracy: 0.9070 - val_loss: 0.1803 - val_accuracy: 0.9071\n",
            "Epoch 11/20\n",
            "534895/534895 [==============================] - 1s 1us/step - loss: 0.1789 - accuracy: 0.9076 - val_loss: 0.1785 - val_accuracy: 0.9075\n",
            "Epoch 12/20\n",
            "534895/534895 [==============================] - 1s 1us/step - loss: 0.1772 - accuracy: 0.9077 - val_loss: 0.1770 - val_accuracy: 0.9077\n",
            "Epoch 13/20\n",
            "534895/534895 [==============================] - 1s 1us/step - loss: 0.1758 - accuracy: 0.9079 - val_loss: 0.1756 - val_accuracy: 0.9075\n",
            "Epoch 14/20\n",
            "534895/534895 [==============================] - 1s 1us/step - loss: 0.1746 - accuracy: 0.9079 - val_loss: 0.1744 - val_accuracy: 0.9076\n",
            "Epoch 15/20\n",
            "534895/534895 [==============================] - 1s 1us/step - loss: 0.1735 - accuracy: 0.9081 - val_loss: 0.1733 - val_accuracy: 0.9076\n",
            "Epoch 16/20\n",
            "534895/534895 [==============================] - 1s 1us/step - loss: 0.1725 - accuracy: 0.9081 - val_loss: 0.1724 - val_accuracy: 0.9078\n",
            "Epoch 17/20\n",
            "534895/534895 [==============================] - 1s 1us/step - loss: 0.1717 - accuracy: 0.9082 - val_loss: 0.1716 - val_accuracy: 0.9077\n",
            "Epoch 18/20\n",
            "534895/534895 [==============================] - 1s 1us/step - loss: 0.1709 - accuracy: 0.9083 - val_loss: 0.1708 - val_accuracy: 0.9078\n",
            "Epoch 19/20\n",
            "534895/534895 [==============================] - 1s 1us/step - loss: 0.1702 - accuracy: 0.9084 - val_loss: 0.1701 - val_accuracy: 0.9078\n",
            "Epoch 20/20\n",
            "534895/534895 [==============================] - 1s 1us/step - loss: 0.1695 - accuracy: 0.9085 - val_loss: 0.1695 - val_accuracy: 0.9079\n",
            "Model: \"sequential_65\"\n",
            "_________________________________________________________________\n",
            "Layer (type)                 Output Shape              Param #   \n",
            "=================================================================\n",
            "dense_365 (Dense)            (None, 50)                4650      \n",
            "_________________________________________________________________\n",
            "dense_366 (Dense)            (None, 50)                2550      \n",
            "_________________________________________________________________\n",
            "dense_367 (Dense)            (None, 1)                 51        \n",
            "=================================================================\n",
            "Total params: 7,251\n",
            "Trainable params: 7,251\n",
            "Non-trainable params: 0\n",
            "_________________________________________________________________\n"
          ],
          "name": "stdout"
        }
      ]
    },
    {
      "cell_type": "code",
      "metadata": {
        "colab_type": "code",
        "id": "9KkPYGDvEs1d",
        "outputId": "bd5dceb8-b3cf-43b9-8d22-c15073f79019",
        "colab": {
          "base_uri": "https://localhost:8080/",
          "height": 68
        }
      },
      "source": [
        "# Evaluate model on test data\n",
        "score = model4.evaluate(x = Xtest, \n",
        "                        y = Ytest)\n",
        "\n",
        "print('Test loss: %.4f' % score[0])\n",
        "print('Test accuracy: %.4f' % score[1])"
      ],
      "execution_count": 217,
      "outputs": [
        {
          "output_type": "stream",
          "text": [
            "114621/114621 [==============================] - 4s 38us/step\n",
            "Test loss: 0.1688\n",
            "Test accuracy: 0.9095\n"
          ],
          "name": "stdout"
        }
      ]
    },
    {
      "cell_type": "code",
      "metadata": {
        "colab_type": "code",
        "id": "i9B1sgM3Es1i",
        "outputId": "505aa067-96d3-4aa7-84ed-c9b790b146bd",
        "colab": {
          "base_uri": "https://localhost:8080/",
          "height": 541
        }
      },
      "source": [
        "plot_results(history4)"
      ],
      "execution_count": 218,
      "outputs": [
        {
          "output_type": "display_data",
          "data": {
            "image/png": "[encoded data removed]",
            "text/plain": [
              "<Figure size 720x288 with 1 Axes>"
            ]
          },
          "metadata": {
            "tags": [],
            "needs_background": "light"
          }
        },
        {
          "output_type": "display_data",
          "data": {
            "image/png": "[encoded data removed]",
            "text/plain": [
              "<Figure size 720x288 with 1 Axes>"
            ]
          },
          "metadata": {
            "tags": [],
            "needs_background": "light"
          }
        }
      ]
    },
    {
      "cell_type": "markdown",
      "metadata": {
        "colab_type": "text",
        "id": "scxlLub9Es1k"
      },
      "source": [
        "### 4 layers, 50 nodes, class weights"
      ]
    },
    {
      "cell_type": "code",
      "metadata": {
        "colab_type": "code",
        "id": "yWb2Rik0Es1l",
        "scrolled": true,
        "outputId": "081ea8ba-3f71-4a25-d54f-e4fe3a11a9c8",
        "colab": {
          "base_uri": "https://localhost:8080/",
          "height": 700
        }
      },
      "source": [
        "# Setup some training parameters\n",
        "batch_size = 10000\n",
        "epochs = 10\n",
        "input_shape = Xtrain.shape[1]\n",
        "\n",
        "# Build and train model\n",
        "model5 = build_DNN(input_shape = input_shape,\n",
        "                   n_layers = 4,\n",
        "                   n_nodes = 50,\n",
        "                  learning_rate = 0.1)\n",
        "\n",
        "history5 = model5.fit(x = Xtrain,\n",
        "                      y = Ytrain,\n",
        "                      validation_data = (Xval,Yval),\n",
        "                      epochs = epochs,\n",
        "                      batch_size = batch_size,\n",
        "                      class_weight = class_weights_set)\n",
        "model5.summary()"
      ],
      "execution_count": 191,
      "outputs": [
        {
          "output_type": "stream",
          "text": [
            "Train on 534895 samples, validate on 114621 samples\n",
            "Epoch 1/10\n",
            "534895/534895 [==============================] - 1s 1us/step - loss: 0.4535 - accuracy: 0.8283 - val_loss: 0.4380 - val_accuracy: 0.8404\n",
            "Epoch 2/10\n",
            "534895/534895 [==============================] - 1s 1us/step - loss: 0.4368 - accuracy: 0.8411 - val_loss: 0.4377 - val_accuracy: 0.8404\n",
            "Epoch 3/10\n",
            "534895/534895 [==============================] - 1s 1us/step - loss: 0.4365 - accuracy: 0.8411 - val_loss: 0.4373 - val_accuracy: 0.8404\n",
            "Epoch 4/10\n",
            "534895/534895 [==============================] - 1s 1us/step - loss: 0.4361 - accuracy: 0.8411 - val_loss: 0.4369 - val_accuracy: 0.8404\n",
            "Epoch 5/10\n",
            "534895/534895 [==============================] - 1s 1us/step - loss: 0.4357 - accuracy: 0.8411 - val_loss: 0.4365 - val_accuracy: 0.8404\n",
            "Epoch 6/10\n",
            "534895/534895 [==============================] - 1s 1us/step - loss: 0.4352 - accuracy: 0.8411 - val_loss: 0.4360 - val_accuracy: 0.8404\n",
            "Epoch 7/10\n",
            "534895/534895 [==============================] - 1s 1us/step - loss: 0.4346 - accuracy: 0.8411 - val_loss: 0.4354 - val_accuracy: 0.8404\n",
            "Epoch 8/10\n",
            "534895/534895 [==============================] - 1s 1us/step - loss: 0.4340 - accuracy: 0.8411 - val_loss: 0.4347 - val_accuracy: 0.8404\n",
            "Epoch 9/10\n",
            "534895/534895 [==============================] - 1s 1us/step - loss: 0.4332 - accuracy: 0.8411 - val_loss: 0.4338 - val_accuracy: 0.8404\n",
            "Epoch 10/10\n",
            "534895/534895 [==============================] - 1s 1us/step - loss: 0.4322 - accuracy: 0.8411 - val_loss: 0.4327 - val_accuracy: 0.8404\n",
            "Model: \"sequential_48\"\n",
            "_________________________________________________________________\n",
            "Layer (type)                 Output Shape              Param #   \n",
            "=================================================================\n",
            "dense_232 (Dense)            (None, 50)                4650      \n",
            "_________________________________________________________________\n",
            "dense_233 (Dense)            (None, 50)                2550      \n",
            "_________________________________________________________________\n",
            "dense_234 (Dense)            (None, 50)                2550      \n",
            "_________________________________________________________________\n",
            "dense_235 (Dense)            (None, 50)                2550      \n",
            "_________________________________________________________________\n",
            "dense_236 (Dense)            (None, 1)                 51        \n",
            "=================================================================\n",
            "Total params: 12,351\n",
            "Trainable params: 12,351\n",
            "Non-trainable params: 0\n",
            "_________________________________________________________________\n"
          ],
          "name": "stdout"
        }
      ]
    },
    {
      "cell_type": "code",
      "metadata": {
        "colab_type": "code",
        "id": "HVRT8vo8Es1n",
        "outputId": "15d4048c-61b3-4e98-b1d3-c66b87348be1",
        "colab": {
          "base_uri": "https://localhost:8080/",
          "height": 68
        }
      },
      "source": [
        "# Evaluate model on test data\n",
        "score = model5.evaluate(x = Xtest, \n",
        "                        y = Ytest)\n",
        "\n",
        "print('Test loss: %.4f' % score[0])\n",
        "print('Test accuracy: %.4f' % score[1])"
      ],
      "execution_count": 192,
      "outputs": [
        {
          "output_type": "stream",
          "text": [
            "114621/114621 [==============================] - 4s 38us/step\n",
            "Test loss: 0.4332\n",
            "Test accuracy: 0.8402\n"
          ],
          "name": "stdout"
        }
      ]
    },
    {
      "cell_type": "code",
      "metadata": {
        "colab_type": "code",
        "id": "yhKRMMIqEs1r",
        "outputId": "e92d05f6-3b96-46f9-d6ac-a101c6a4ac81",
        "colab": {
          "base_uri": "https://localhost:8080/",
          "height": 541
        }
      },
      "source": [
        "plot_results(history5)"
      ],
      "execution_count": 193,
      "outputs": [
        {
          "output_type": "display_data",
          "data": {
            "image/png": "[encoded data removed]",
            "text/plain": [
              "<Figure size 720x288 with 1 Axes>"
            ]
          },
          "metadata": {
            "tags": [],
            "needs_background": "light"
          }
        },
        {
          "output_type": "display_data",
          "data": {
            "image/png": "[encoded data removed]",
            "text/plain": [
              "<Figure size 720x288 with 1 Axes>"
            ]
          },
          "metadata": {
            "tags": [],
            "needs_background": "light"
          }
        }
      ]
    },
    {
      "cell_type": "markdown",
      "metadata": {
        "colab_type": "text",
        "id": "dCv65f_TEs1t"
      },
      "source": [
        "# Part 16: Batch normalization\n",
        "\n",
        "Now add batch normalization after each dense layer. Remember to import BatchNormalization from keras.layers. \n",
        "\n",
        "See https://keras.io/layers/normalization/ for information about how to call the function.\n",
        "\n",
        "Question 18: Why is batch normalization important when training deep networks?\n",
        "\n",
        "**Batch Normalizing is a technique for improving speed, performance and stability when training deep neural networks. This standardizes the inputs to a layer for each mini-batch. This has the effect of stabilizing the learning process and dramatically reducing the number of training epochs required to train deep networks.**\n",
        "\n",
        "**Batch Normalization allows the use of higher learning rates while being less careful about initialization, and in some cases it eliminates the need for Dropouts**"
      ]
    },
    {
      "cell_type": "markdown",
      "metadata": {
        "colab_type": "text",
        "id": "Isy4zYRyEs1u"
      },
      "source": [
        "### 2 layers, 20 nodes, class weights, batch normalization"
      ]
    },
    {
      "cell_type": "code",
      "metadata": {
        "colab_type": "code",
        "id": "FN6Sf9VwEs1u",
        "scrolled": true,
        "outputId": "ee2e6859-7eaf-4d19-a0b5-24f20dcc4194",
        "colab": {
          "base_uri": "https://localhost:8080/",
          "height": 1000
        }
      },
      "source": [
        "# Setup some training parameters\n",
        "batch_size = 10000\n",
        "epochs = 20\n",
        "input_shape = Xtrain.shape[1]\n",
        "\n",
        "# Build and train model\n",
        "model6 = build_DNN(input_shape = input_shape,\n",
        "                   n_layers = 2,\n",
        "                   n_nodes = 20,\n",
        "                   learning_rate = 0.1,\n",
        "                   use_bn = True)\n",
        "\n",
        "history6 = model6.fit(x = Xtrain,\n",
        "                      y = Ytrain,\n",
        "                      validation_data = (Xval,Yval),\n",
        "                      epochs = epochs,\n",
        "                      batch_size = batch_size,\n",
        "                      class_weight = class_weights_set)\n",
        "model6.summary()"
      ],
      "execution_count": 194,
      "outputs": [
        {
          "output_type": "stream",
          "text": [
            "Train on 534895 samples, validate on 114621 samples\n",
            "Epoch 1/20\n",
            "534895/534895 [==============================] - 1s 2us/step - loss: 0.3165 - accuracy: 0.8808 - val_loss: 0.5115 - val_accuracy: 0.8404\n",
            "Epoch 2/20\n",
            "534895/534895 [==============================] - 1s 1us/step - loss: 0.1930 - accuracy: 0.9098 - val_loss: 0.3774 - val_accuracy: 0.8404\n",
            "Epoch 3/20\n",
            "534895/534895 [==============================] - 1s 1us/step - loss: 0.1753 - accuracy: 0.9121 - val_loss: 0.3454 - val_accuracy: 0.8404\n",
            "Epoch 4/20\n",
            "534895/534895 [==============================] - 1s 1us/step - loss: 0.1679 - accuracy: 0.9136 - val_loss: 0.3225 - val_accuracy: 0.8404\n",
            "Epoch 5/20\n",
            "534895/534895 [==============================] - 1s 1us/step - loss: 0.1636 - accuracy: 0.9149 - val_loss: 0.2945 - val_accuracy: 0.8404\n",
            "Epoch 6/20\n",
            "534895/534895 [==============================] - 1s 1us/step - loss: 0.1606 - accuracy: 0.9160 - val_loss: 0.2463 - val_accuracy: 0.8428\n",
            "Epoch 7/20\n",
            "534895/534895 [==============================] - 1s 1us/step - loss: 0.1586 - accuracy: 0.9167 - val_loss: 0.2052 - val_accuracy: 0.8585\n",
            "Epoch 8/20\n",
            "534895/534895 [==============================] - 1s 1us/step - loss: 0.1569 - accuracy: 0.9171 - val_loss: 0.1813 - val_accuracy: 0.8723\n",
            "Epoch 9/20\n",
            "534895/534895 [==============================] - 1s 1us/step - loss: 0.1555 - accuracy: 0.9176 - val_loss: 0.1611 - val_accuracy: 0.9055\n",
            "Epoch 10/20\n",
            "534895/534895 [==============================] - 1s 1us/step - loss: 0.1549 - accuracy: 0.9180 - val_loss: 0.1622 - val_accuracy: 0.9017\n",
            "Epoch 11/20\n",
            "534895/534895 [==============================] - 1s 1us/step - loss: 0.1541 - accuracy: 0.9179 - val_loss: 0.1540 - val_accuracy: 0.9175\n",
            "Epoch 12/20\n",
            "534895/534895 [==============================] - 1s 1us/step - loss: 0.1528 - accuracy: 0.9187 - val_loss: 0.1526 - val_accuracy: 0.9183\n",
            "Epoch 13/20\n",
            "534895/534895 [==============================] - 1s 1us/step - loss: 0.1521 - accuracy: 0.9189 - val_loss: 0.1536 - val_accuracy: 0.9176\n",
            "Epoch 14/20\n",
            "534895/534895 [==============================] - 1s 1us/step - loss: 0.1520 - accuracy: 0.9193 - val_loss: 0.1543 - val_accuracy: 0.9183\n",
            "Epoch 15/20\n",
            "534895/534895 [==============================] - 1s 1us/step - loss: 0.1512 - accuracy: 0.9197 - val_loss: 0.1503 - val_accuracy: 0.9198\n",
            "Epoch 16/20\n",
            "534895/534895 [==============================] - 1s 1us/step - loss: 0.1510 - accuracy: 0.9198 - val_loss: 0.1496 - val_accuracy: 0.9194\n",
            "Epoch 17/20\n",
            "534895/534895 [==============================] - 1s 1us/step - loss: 0.1499 - accuracy: 0.9202 - val_loss: 0.1498 - val_accuracy: 0.9213\n",
            "Epoch 18/20\n",
            "534895/534895 [==============================] - 1s 1us/step - loss: 0.1495 - accuracy: 0.9204 - val_loss: 0.1487 - val_accuracy: 0.9214\n",
            "Epoch 19/20\n",
            "534895/534895 [==============================] - 1s 1us/step - loss: 0.1491 - accuracy: 0.9203 - val_loss: 0.1500 - val_accuracy: 0.9211\n",
            "Epoch 20/20\n",
            "534895/534895 [==============================] - 1s 1us/step - loss: 0.1487 - accuracy: 0.9208 - val_loss: 0.1480 - val_accuracy: 0.9225\n",
            "Model: \"sequential_49\"\n",
            "_________________________________________________________________\n",
            "Layer (type)                 Output Shape              Param #   \n",
            "=================================================================\n",
            "dense_237 (Dense)            (None, 20)                1860      \n",
            "_________________________________________________________________\n",
            "batch_normalization_105 (Bat (None, 20)                80        \n",
            "_________________________________________________________________\n",
            "dense_238 (Dense)            (None, 20)                420       \n",
            "_________________________________________________________________\n",
            "batch_normalization_106 (Bat (None, 20)                80        \n",
            "_________________________________________________________________\n",
            "dense_239 (Dense)            (None, 1)                 21        \n",
            "=================================================================\n",
            "Total params: 2,461\n",
            "Trainable params: 2,381\n",
            "Non-trainable params: 80\n",
            "_________________________________________________________________\n"
          ],
          "name": "stdout"
        }
      ]
    },
    {
      "cell_type": "code",
      "metadata": {
        "colab_type": "code",
        "id": "ocjbuWmKEs1y",
        "outputId": "71f72ddd-7909-4916-8e13-9813ee77caa0",
        "colab": {
          "base_uri": "https://localhost:8080/",
          "height": 68
        }
      },
      "source": [
        "# Evaluate model on test data\n",
        "score = model6.evaluate(x = Xtest,\n",
        "                        y = Ytest)\n",
        "\n",
        "print('Test loss: %.4f' % score[0])\n",
        "print('Test accuracy: %.4f' % score[1])"
      ],
      "execution_count": 195,
      "outputs": [
        {
          "output_type": "stream",
          "text": [
            "114621/114621 [==============================] - 6s 51us/step\n",
            "Test loss: 0.1476\n",
            "Test accuracy: 0.9225\n"
          ],
          "name": "stdout"
        }
      ]
    },
    {
      "cell_type": "code",
      "metadata": {
        "colab_type": "code",
        "id": "0jSeRz_dEs11",
        "outputId": "8a3b0c3c-df05-40b5-9301-b0b8bfeed915",
        "colab": {
          "base_uri": "https://localhost:8080/",
          "height": 541
        }
      },
      "source": [
        "plot_results(history6)"
      ],
      "execution_count": 196,
      "outputs": [
        {
          "output_type": "display_data",
          "data": {
            "image/png": "[encoded data removed]",
            "text/plain": [
              "<Figure size 720x288 with 1 Axes>"
            ]
          },
          "metadata": {
            "tags": [],
            "needs_background": "light"
          }
        },
        {
          "output_type": "display_data",
          "data": {
            "image/png": "[encoded data removed]",
            "text/plain": [
              "<Figure size 720x288 with 1 Axes>"
            ]
          },
          "metadata": {
            "tags": [],
            "needs_background": "light"
          }
        }
      ]
    },
    {
      "cell_type": "markdown",
      "metadata": {
        "colab_type": "text",
        "id": "YNyPo9QlEs13"
      },
      "source": [
        "# Part 17: Activation function\n",
        "\n",
        "Try changing the activation function in each layer from sigmoid to ReLU, write down the test accuracy.\n",
        "\n",
        "Note: the last layer should still have a sigmoid activation function."
      ]
    },
    {
      "cell_type": "markdown",
      "metadata": {
        "colab_type": "text",
        "id": "nlGHCvA-Es13"
      },
      "source": [
        "### 2 layers, 20 nodes, class weights, ReLU, no batch normalization"
      ]
    },
    {
      "cell_type": "code",
      "metadata": {
        "colab_type": "code",
        "id": "yygrzwj-Es14",
        "scrolled": true,
        "outputId": "86a84138-4aa8-4909-d4e2-d49b86ea6be8",
        "colab": {
          "base_uri": "https://localhost:8080/",
          "height": 972
        }
      },
      "source": [
        "# Setup some training parameters\n",
        "batch_size = 10000\n",
        "epochs = 20\n",
        "input_shape = Xtrain.shape[1]\n",
        "\n",
        "# Build and train model\n",
        "model7 = build_DNN(input_shape = input_shape,\n",
        "                   n_layers = 2,\n",
        "                   n_nodes = 20,\n",
        "                   use_bn = False,\n",
        "                   learning_rate = 0.1,\n",
        "                   act_fun = 'relu')\n",
        "\n",
        "history7 = model7.fit(x = Xtrain,\n",
        "                      y = Ytrain,\n",
        "                      validation_data = (Xval,Yval),\n",
        "                      epochs = epochs,\n",
        "                      batch_size = batch_size,\n",
        "                      class_weight = class_weights_set)\n",
        "model7.summary()"
      ],
      "execution_count": 197,
      "outputs": [
        {
          "output_type": "stream",
          "text": [
            "Train on 534895 samples, validate on 114621 samples\n",
            "Epoch 1/20\n",
            "534895/534895 [==============================] - 1s 1us/step - loss: 0.2635 - accuracy: 0.8865 - val_loss: 0.1928 - val_accuracy: 0.9027\n",
            "Epoch 2/20\n",
            "534895/534895 [==============================] - 1s 1us/step - loss: 0.1843 - accuracy: 0.9077 - val_loss: 0.1807 - val_accuracy: 0.9093\n",
            "Epoch 3/20\n",
            "534895/534895 [==============================] - 1s 1us/step - loss: 0.1766 - accuracy: 0.9111 - val_loss: 0.1756 - val_accuracy: 0.9122\n",
            "Epoch 4/20\n",
            "534895/534895 [==============================] - 1s 1us/step - loss: 0.1725 - accuracy: 0.9124 - val_loss: 0.1725 - val_accuracy: 0.9124\n",
            "Epoch 5/20\n",
            "534895/534895 [==============================] - 1s 1us/step - loss: 0.1696 - accuracy: 0.9127 - val_loss: 0.1700 - val_accuracy: 0.9133\n",
            "Epoch 6/20\n",
            "534895/534895 [==============================] - 1s 1us/step - loss: 0.1673 - accuracy: 0.9130 - val_loss: 0.1682 - val_accuracy: 0.9128\n",
            "Epoch 7/20\n",
            "534895/534895 [==============================] - 1s 1us/step - loss: 0.1655 - accuracy: 0.9134 - val_loss: 0.1665 - val_accuracy: 0.9139\n",
            "Epoch 8/20\n",
            "534895/534895 [==============================] - 1s 1us/step - loss: 0.1639 - accuracy: 0.9139 - val_loss: 0.1649 - val_accuracy: 0.9144\n",
            "Epoch 9/20\n",
            "534895/534895 [==============================] - 1s 1us/step - loss: 0.1624 - accuracy: 0.9142 - val_loss: 0.1636 - val_accuracy: 0.9147\n",
            "Epoch 10/20\n",
            "534895/534895 [==============================] - 1s 1us/step - loss: 0.1610 - accuracy: 0.9147 - val_loss: 0.1623 - val_accuracy: 0.9153\n",
            "Epoch 11/20\n",
            "534895/534895 [==============================] - 1s 1us/step - loss: 0.1598 - accuracy: 0.9152 - val_loss: 0.1612 - val_accuracy: 0.9157\n",
            "Epoch 12/20\n",
            "534895/534895 [==============================] - 1s 1us/step - loss: 0.1586 - accuracy: 0.9156 - val_loss: 0.1602 - val_accuracy: 0.9160\n",
            "Epoch 13/20\n",
            "534895/534895 [==============================] - 1s 1us/step - loss: 0.1576 - accuracy: 0.9159 - val_loss: 0.1593 - val_accuracy: 0.9164\n",
            "Epoch 14/20\n",
            "534895/534895 [==============================] - 1s 1us/step - loss: 0.1567 - accuracy: 0.9163 - val_loss: 0.1586 - val_accuracy: 0.9167\n",
            "Epoch 15/20\n",
            "534895/534895 [==============================] - 1s 1us/step - loss: 0.1559 - accuracy: 0.9165 - val_loss: 0.1580 - val_accuracy: 0.9166\n",
            "Epoch 16/20\n",
            "534895/534895 [==============================] - 1s 1us/step - loss: 0.1552 - accuracy: 0.9168 - val_loss: 0.1574 - val_accuracy: 0.9167\n",
            "Epoch 17/20\n",
            "534895/534895 [==============================] - 1s 1us/step - loss: 0.1545 - accuracy: 0.9168 - val_loss: 0.1569 - val_accuracy: 0.9170\n",
            "Epoch 18/20\n",
            "534895/534895 [==============================] - 1s 1us/step - loss: 0.1539 - accuracy: 0.9170 - val_loss: 0.1565 - val_accuracy: 0.9172\n",
            "Epoch 19/20\n",
            "534895/534895 [==============================] - 1s 1us/step - loss: 0.1534 - accuracy: 0.9173 - val_loss: 0.1561 - val_accuracy: 0.9175\n",
            "Epoch 20/20\n",
            "534895/534895 [==============================] - 1s 1us/step - loss: 0.1529 - accuracy: 0.9174 - val_loss: 0.1556 - val_accuracy: 0.9177\n",
            "Model: \"sequential_50\"\n",
            "_________________________________________________________________\n",
            "Layer (type)                 Output Shape              Param #   \n",
            "=================================================================\n",
            "dense_240 (Dense)            (None, 20)                1860      \n",
            "_________________________________________________________________\n",
            "dense_241 (Dense)            (None, 20)                420       \n",
            "_________________________________________________________________\n",
            "dense_242 (Dense)            (None, 1)                 21        \n",
            "=================================================================\n",
            "Total params: 2,301\n",
            "Trainable params: 2,301\n",
            "Non-trainable params: 0\n",
            "_________________________________________________________________\n"
          ],
          "name": "stdout"
        }
      ]
    },
    {
      "cell_type": "code",
      "metadata": {
        "colab_type": "code",
        "id": "xZQrct-zEs18",
        "outputId": "ea52e530-1be3-47f0-b562-0e54e42d905f",
        "colab": {
          "base_uri": "https://localhost:8080/",
          "height": 68
        }
      },
      "source": [
        "# Evaluate model on test data\n",
        "score = model7.evaluate(x = Xtest, \n",
        "                        y = Ytest)\n",
        "\n",
        "print('Test loss: %.4f' % score[0])\n",
        "print('Test accuracy: %.4f' % score[1])"
      ],
      "execution_count": 198,
      "outputs": [
        {
          "output_type": "stream",
          "text": [
            "114621/114621 [==============================] - 4s 36us/step\n",
            "Test loss: 0.1529\n",
            "Test accuracy: 0.9184\n"
          ],
          "name": "stdout"
        }
      ]
    },
    {
      "cell_type": "code",
      "metadata": {
        "colab_type": "code",
        "id": "NqtP1kfpEs1-",
        "outputId": "f289a19a-a7b9-4701-8dfe-2026b37c7347",
        "colab": {
          "base_uri": "https://localhost:8080/",
          "height": 541
        }
      },
      "source": [
        "plot_results(history7)"
      ],
      "execution_count": 199,
      "outputs": [
        {
          "output_type": "display_data",
          "data": {
            "image/png": "[encoded data removed]",
            "text/plain": [
              "<Figure size 720x288 with 1 Axes>"
            ]
          },
          "metadata": {
            "tags": [],
            "needs_background": "light"
          }
        },
        {
          "output_type": "display_data",
          "data": {
            "image/png": "[encoded data removed]",
            "text/plain": [
              "<Figure size 720x288 with 1 Axes>"
            ]
          },
          "metadata": {
            "tags": [],
            "needs_background": "light"
          }
        }
      ]
    },
    {
      "cell_type": "markdown",
      "metadata": {
        "colab_type": "text",
        "id": "DSyKiDC4Es2B"
      },
      "source": [
        "# Part 18: Optimizer\n",
        "\n",
        "Try changing the optimizer from SGD to Adam (with learning rate 0.1 as before). Remember to import the Adam optimizer from keras.optimizers. \n",
        "\n",
        "https://keras.io/optimizers/\n"
      ]
    },
    {
      "cell_type": "markdown",
      "metadata": {
        "colab_type": "text",
        "id": "-mvjhAySEs2C"
      },
      "source": [
        "### 2 layers, 20 nodes, class weights, Adam optimizer, no batch normalization, sigmoid activations"
      ]
    },
    {
      "cell_type": "code",
      "metadata": {
        "colab_type": "code",
        "id": "NDsKpREcEs2D",
        "outputId": "b72bbec1-f787-4b1d-ca7f-693b7b44ac3f",
        "scrolled": true,
        "colab": {
          "base_uri": "https://localhost:8080/",
          "height": 972
        }
      },
      "source": [
        "# Setup some training parameters\n",
        "#from keras.optimizers import adam\n",
        "batch_size = 10000\n",
        "epochs = 20\n",
        "input_shape = Xtrain.shape[1]\n",
        "\n",
        "# Build and train model\n",
        "model8 = build_DNN(input_shape = input_shape,\n",
        "                   n_layers = 2,\n",
        "                   n_nodes = 20,\n",
        "                   use_bn = False,\n",
        "                   act_fun = 'sigmoid',\n",
        "                   optimizer = 'adam',\n",
        "                   learning_rate = 0.1)\n",
        "\n",
        "history8 = model8.fit(x = Xtrain,\n",
        "                      y = Ytrain,\n",
        "                      validation_data = (Xval,Yval),\n",
        "                      epochs = epochs,\n",
        "                      batch_size = batch_size,\n",
        "                      class_weight = class_weights_set)\n",
        "model8.summary()"
      ],
      "execution_count": 200,
      "outputs": [
        {
          "output_type": "stream",
          "text": [
            "Train on 534895 samples, validate on 114621 samples\n",
            "Epoch 1/20\n",
            "534895/534895 [==============================] - 1s 1us/step - loss: 0.2032 - accuracy: 0.8822 - val_loss: 0.1585 - val_accuracy: 0.9159\n",
            "Epoch 2/20\n",
            "534895/534895 [==============================] - 1s 1us/step - loss: 0.1552 - accuracy: 0.9180 - val_loss: 0.1534 - val_accuracy: 0.9196\n",
            "Epoch 3/20\n",
            "534895/534895 [==============================] - 1s 1us/step - loss: 0.1507 - accuracy: 0.9200 - val_loss: 0.1486 - val_accuracy: 0.9182\n",
            "Epoch 4/20\n",
            "534895/534895 [==============================] - 1s 1us/step - loss: 0.1460 - accuracy: 0.9208 - val_loss: 0.1468 - val_accuracy: 0.9197\n",
            "Epoch 5/20\n",
            "534895/534895 [==============================] - 1s 1us/step - loss: 0.1437 - accuracy: 0.9212 - val_loss: 0.1415 - val_accuracy: 0.9220\n",
            "Epoch 6/20\n",
            "534895/534895 [==============================] - 1s 1us/step - loss: 0.1412 - accuracy: 0.9223 - val_loss: 0.1405 - val_accuracy: 0.9226\n",
            "Epoch 7/20\n",
            "534895/534895 [==============================] - 1s 1us/step - loss: 0.1386 - accuracy: 0.9235 - val_loss: 0.1370 - val_accuracy: 0.9267\n",
            "Epoch 8/20\n",
            "534895/534895 [==============================] - 1s 1us/step - loss: 0.1363 - accuracy: 0.9257 - val_loss: 0.1323 - val_accuracy: 0.9304\n",
            "Epoch 9/20\n",
            "534895/534895 [==============================] - 1s 1us/step - loss: 0.1332 - accuracy: 0.9275 - val_loss: 0.1322 - val_accuracy: 0.9280\n",
            "Epoch 10/20\n",
            "534895/534895 [==============================] - 1s 1us/step - loss: 0.1313 - accuracy: 0.9290 - val_loss: 0.1306 - val_accuracy: 0.9287\n",
            "Epoch 11/20\n",
            "534895/534895 [==============================] - 1s 1us/step - loss: 0.1304 - accuracy: 0.9289 - val_loss: 0.1297 - val_accuracy: 0.9290\n",
            "Epoch 12/20\n",
            "534895/534895 [==============================] - 1s 1us/step - loss: 0.1271 - accuracy: 0.9304 - val_loss: 0.1251 - val_accuracy: 0.9318\n",
            "Epoch 13/20\n",
            "534895/534895 [==============================] - 1s 1us/step - loss: 0.1241 - accuracy: 0.9323 - val_loss: 0.1253 - val_accuracy: 0.9323\n",
            "Epoch 14/20\n",
            "534895/534895 [==============================] - 1s 1us/step - loss: 0.1232 - accuracy: 0.9328 - val_loss: 0.1272 - val_accuracy: 0.9306\n",
            "Epoch 15/20\n",
            "534895/534895 [==============================] - 1s 1us/step - loss: 0.1271 - accuracy: 0.9300 - val_loss: 0.1224 - val_accuracy: 0.9346\n",
            "Epoch 16/20\n",
            "534895/534895 [==============================] - 1s 1us/step - loss: 0.1223 - accuracy: 0.9329 - val_loss: 0.1202 - val_accuracy: 0.9330\n",
            "Epoch 17/20\n",
            "534895/534895 [==============================] - 1s 1us/step - loss: 0.1207 - accuracy: 0.9339 - val_loss: 0.1245 - val_accuracy: 0.9317\n",
            "Epoch 18/20\n",
            "534895/534895 [==============================] - 1s 1us/step - loss: 0.1204 - accuracy: 0.9342 - val_loss: 0.1211 - val_accuracy: 0.9342\n",
            "Epoch 19/20\n",
            "534895/534895 [==============================] - 1s 1us/step - loss: 0.1194 - accuracy: 0.9352 - val_loss: 0.1209 - val_accuracy: 0.9358\n",
            "Epoch 20/20\n",
            "534895/534895 [==============================] - 1s 1us/step - loss: 0.1178 - accuracy: 0.9368 - val_loss: 0.1275 - val_accuracy: 0.9321\n",
            "Model: \"sequential_51\"\n",
            "_________________________________________________________________\n",
            "Layer (type)                 Output Shape              Param #   \n",
            "=================================================================\n",
            "dense_243 (Dense)            (None, 20)                1860      \n",
            "_________________________________________________________________\n",
            "dense_244 (Dense)            (None, 20)                420       \n",
            "_________________________________________________________________\n",
            "dense_245 (Dense)            (None, 1)                 21        \n",
            "=================================================================\n",
            "Total params: 2,301\n",
            "Trainable params: 2,301\n",
            "Non-trainable params: 0\n",
            "_________________________________________________________________\n"
          ],
          "name": "stdout"
        }
      ]
    },
    {
      "cell_type": "code",
      "metadata": {
        "colab_type": "code",
        "id": "QZA21IMbEs2G",
        "outputId": "af478d9e-694d-4c12-df33-1fe26b5cb39a",
        "colab": {
          "base_uri": "https://localhost:8080/",
          "height": 68
        }
      },
      "source": [
        "# Evaluate model on test data\n",
        "score = model8.evaluate(x = Xtest, \n",
        "                        y = Ytest)\n",
        "\n",
        "print('Test loss: %.4f' % score[0])\n",
        "print('Test accuracy: %.4f' % score[1])"
      ],
      "execution_count": 201,
      "outputs": [
        {
          "output_type": "stream",
          "text": [
            "114621/114621 [==============================] - 4s 36us/step\n",
            "Test loss: 0.1281\n",
            "Test accuracy: 0.9325\n"
          ],
          "name": "stdout"
        }
      ]
    },
    {
      "cell_type": "code",
      "metadata": {
        "colab_type": "code",
        "id": "bxrs-Iv4Es2H",
        "outputId": "6ad2c029-6a20-4a40-a816-de18e909298e",
        "colab": {
          "base_uri": "https://localhost:8080/",
          "height": 541
        }
      },
      "source": [
        "plot_results(history8)"
      ],
      "execution_count": 202,
      "outputs": [
        {
          "output_type": "display_data",
          "data": {
            "image/png": "[encoded data removed]",
            "text/plain": [
              "<Figure size 720x288 with 1 Axes>"
            ]
          },
          "metadata": {
            "tags": [],
            "needs_background": "light"
          }
        },
        {
          "output_type": "display_data",
          "data": {
            "image/png": "[encoded data removed]",
            "text/plain": [
              "<Figure size 720x288 with 1 Axes>"
            ]
          },
          "metadata": {
            "tags": [],
            "needs_background": "light"
          }
        }
      ]
    },
    {
      "cell_type": "markdown",
      "metadata": {
        "colab_type": "text",
        "id": "_9jFP__KEs2K"
      },
      "source": [
        "# Part 19: Dropout regularization\n",
        "\n",
        "Dropout is a type of regularization that can improve accuracy for validation and test data. \n",
        "\n",
        "Add a Dropout layer after each Dense layer (but not after the final dense layer), with a dropout probability of 50%. Remember to first import the Dropout layer from keras.layers\n",
        "\n",
        "See https://keras.io/layers/core/ for how the Dropout layer works.\n",
        "\n",
        "---\n",
        "\n",
        "Question 19: How does the validation accuracy change when adding dropout?  \n",
        "\n",
        "**When adding dropout the validation accuracy is: 0.93**  \n",
        "\n",
        "Question 20: How does the test accuracy change when adding dropout?  \n",
        "\n",
        "**When adding dropout the test accuracy is: 0.8412**"
      ]
    },
    {
      "cell_type": "markdown",
      "metadata": {
        "colab_type": "text",
        "id": "o4f3OvnyEs2M"
      },
      "source": [
        "### 2 layers, 20 nodes, class weights, dropout, SGD optimizer, no batch normalization, sigmoid activations"
      ]
    },
    {
      "cell_type": "code",
      "metadata": {
        "colab_type": "code",
        "id": "i0BjANcMEs2P",
        "scrolled": true,
        "outputId": "42477d74-e409-4190-d7f6-bed8c6dd16e5",
        "colab": {
          "base_uri": "https://localhost:8080/",
          "height": 1000
        }
      },
      "source": [
        "# Setup some training parameters\n",
        "#from keras.layers import dropout\n",
        "batch_size = 10000\n",
        "epochs = 20\n",
        "input_shape = Xtrain.shape[1]\n",
        "\n",
        "# Build and train model\n",
        "model9 = build_DNN(input_shape = input_shape,\n",
        "                   n_layers = 2,\n",
        "                   n_nodes = 20,\n",
        "                   use_bn = False,\n",
        "                   act_fun = 'sigmoid',\n",
        "                   optimizer = 'sgd',\n",
        "                   use_dropout = True)\n",
        "\n",
        "history9 = model8.fit(x = Xtrain,\n",
        "                      y = Ytrain,\n",
        "                      validation_data = (Xval,Yval),\n",
        "                      epochs = epochs,\n",
        "                      batch_size = batch_size,\n",
        "                      class_weight = class_weights_set)\n",
        "model9.summary()"
      ],
      "execution_count": 203,
      "outputs": [
        {
          "output_type": "stream",
          "text": [
            "Train on 534895 samples, validate on 114621 samples\n",
            "Epoch 1/20\n",
            "534895/534895 [==============================] - 1s 1us/step - loss: 0.1220 - accuracy: 0.9337 - val_loss: 0.1188 - val_accuracy: 0.9343\n",
            "Epoch 2/20\n",
            "534895/534895 [==============================] - 1s 1us/step - loss: 0.1179 - accuracy: 0.9362 - val_loss: 0.1174 - val_accuracy: 0.9350\n",
            "Epoch 3/20\n",
            "534895/534895 [==============================] - 1s 1us/step - loss: 0.1216 - accuracy: 0.9335 - val_loss: 0.1188 - val_accuracy: 0.9357\n",
            "Epoch 4/20\n",
            "534895/534895 [==============================] - 1s 1us/step - loss: 0.1174 - accuracy: 0.9362 - val_loss: 0.1165 - val_accuracy: 0.9379\n",
            "Epoch 5/20\n",
            "534895/534895 [==============================] - 1s 1us/step - loss: 0.1163 - accuracy: 0.9370 - val_loss: 0.1252 - val_accuracy: 0.9333\n",
            "Epoch 6/20\n",
            "534895/534895 [==============================] - 1s 1us/step - loss: 0.1190 - accuracy: 0.9350 - val_loss: 0.1163 - val_accuracy: 0.9357\n",
            "Epoch 7/20\n",
            "534895/534895 [==============================] - 1s 1us/step - loss: 0.1167 - accuracy: 0.9363 - val_loss: 0.1194 - val_accuracy: 0.9341\n",
            "Epoch 8/20\n",
            "534895/534895 [==============================] - 1s 1us/step - loss: 0.1158 - accuracy: 0.9367 - val_loss: 0.1140 - val_accuracy: 0.9385\n",
            "Epoch 9/20\n",
            "534895/534895 [==============================] - 1s 1us/step - loss: 0.1163 - accuracy: 0.9371 - val_loss: 0.1199 - val_accuracy: 0.9345\n",
            "Epoch 10/20\n",
            "534895/534895 [==============================] - 1s 1us/step - loss: 0.1170 - accuracy: 0.9360 - val_loss: 0.1158 - val_accuracy: 0.9368\n",
            "Epoch 11/20\n",
            "534895/534895 [==============================] - 1s 1us/step - loss: 0.1149 - accuracy: 0.9377 - val_loss: 0.1167 - val_accuracy: 0.9370\n",
            "Epoch 12/20\n",
            "534895/534895 [==============================] - 1s 1us/step - loss: 0.1158 - accuracy: 0.9367 - val_loss: 0.1133 - val_accuracy: 0.9392\n",
            "Epoch 13/20\n",
            "534895/534895 [==============================] - 1s 1us/step - loss: 0.1157 - accuracy: 0.9372 - val_loss: 0.1158 - val_accuracy: 0.9363\n",
            "Epoch 14/20\n",
            "534895/534895 [==============================] - 1s 1us/step - loss: 0.1144 - accuracy: 0.9376 - val_loss: 0.1153 - val_accuracy: 0.9376\n",
            "Epoch 15/20\n",
            "534895/534895 [==============================] - 1s 1us/step - loss: 0.1164 - accuracy: 0.9365 - val_loss: 0.1121 - val_accuracy: 0.9399\n",
            "Epoch 16/20\n",
            "534895/534895 [==============================] - 1s 1us/step - loss: 0.1137 - accuracy: 0.9385 - val_loss: 0.1136 - val_accuracy: 0.9393\n",
            "Epoch 17/20\n",
            "534895/534895 [==============================] - 1s 1us/step - loss: 0.1158 - accuracy: 0.9366 - val_loss: 0.1147 - val_accuracy: 0.9375\n",
            "Epoch 18/20\n",
            "534895/534895 [==============================] - 1s 1us/step - loss: 0.1141 - accuracy: 0.9379 - val_loss: 0.1134 - val_accuracy: 0.9389\n",
            "Epoch 19/20\n",
            "534895/534895 [==============================] - 1s 1us/step - loss: 0.1182 - accuracy: 0.9358 - val_loss: 0.1130 - val_accuracy: 0.9381\n",
            "Epoch 20/20\n",
            "534895/534895 [==============================] - 1s 1us/step - loss: 0.1128 - accuracy: 0.9393 - val_loss: 0.1127 - val_accuracy: 0.9392\n",
            "Model: \"sequential_52\"\n",
            "_________________________________________________________________\n",
            "Layer (type)                 Output Shape              Param #   \n",
            "=================================================================\n",
            "dense_246 (Dense)            (None, 20)                1860      \n",
            "_________________________________________________________________\n",
            "dropout_7 (Dropout)          (None, 20)                0         \n",
            "_________________________________________________________________\n",
            "dense_247 (Dense)            (None, 20)                420       \n",
            "_________________________________________________________________\n",
            "dropout_8 (Dropout)          (None, 20)                0         \n",
            "_________________________________________________________________\n",
            "dense_248 (Dense)            (None, 1)                 21        \n",
            "=================================================================\n",
            "Total params: 2,301\n",
            "Trainable params: 2,301\n",
            "Non-trainable params: 0\n",
            "_________________________________________________________________\n"
          ],
          "name": "stdout"
        }
      ]
    },
    {
      "cell_type": "code",
      "metadata": {
        "colab_type": "code",
        "id": "qdjRHjusEs2S",
        "outputId": "7fedcce1-1de7-44c8-8a75-5d14d8d84494",
        "colab": {
          "base_uri": "https://localhost:8080/",
          "height": 68
        }
      },
      "source": [
        "# Evaluate model on test data\n",
        "score = model9.evaluate(x = Xtest, \n",
        "                        y = Ytest)\n",
        "\n",
        "print('Test loss: %.4f' % score[0])\n",
        "print('Test accuracy: %.4f' % score[1])"
      ],
      "execution_count": 204,
      "outputs": [
        {
          "output_type": "stream",
          "text": [
            "114621/114621 [==============================] - 5s 41us/step\n",
            "Test loss: 0.5479\n",
            "Test accuracy: 0.8402\n"
          ],
          "name": "stdout"
        }
      ]
    },
    {
      "cell_type": "code",
      "metadata": {
        "colab_type": "code",
        "id": "qjEFsHqmEs2U",
        "outputId": "a724273d-5a61-4f19-f9b7-25ca648a917b",
        "colab": {
          "base_uri": "https://localhost:8080/",
          "height": 541
        }
      },
      "source": [
        "plot_results(history9)"
      ],
      "execution_count": 205,
      "outputs": [
        {
          "output_type": "display_data",
          "data": {
            "image/png": "[encoded data removed]",
            "text/plain": [
              "<Figure size 720x288 with 1 Axes>"
            ]
          },
          "metadata": {
            "tags": [],
            "needs_background": "light"
          }
        },
        {
          "output_type": "display_data",
          "data": {
            "image/png": "[encoded data removed]",
            "text/plain": [
              "<Figure size 720x288 with 1 Axes>"
            ]
          },
          "metadata": {
            "tags": [],
            "needs_background": "light"
          }
        }
      ]
    },
    {
      "cell_type": "markdown",
      "metadata": {
        "colab_type": "text",
        "id": "26iXNdP3Es2Y"
      },
      "source": [
        "# Part 20: Improving performance\n",
        "\n",
        "Spend some time (30 - 90 minutes) playing with the network architecture (number of layers, number of nodes per layer, activation function) and other hyper parameters (optimizer, learning rate, batch size, number of epochs, degree of regularization). For example, try a much deeper network. How much does the training time increase for a network with 10 layers?\n",
        "\n",
        "Question 21: How high classification accuracy can you achieve for the test data? What is your best configuration?  \n",
        "**The highest classification accuracy is 0.9390  \n",
        "And that's obtained when using the following parameters:  \n",
        "Activation Function = sigmoid    \n",
        "Optimizer = Adam  \n",
        "Tow layers with 50 nodes in each layer  \n",
        "with a batch size of 10000  \n",
        "30 epochs and class weight**"
      ]
    },
    {
      "cell_type": "code",
      "metadata": {
        "colab_type": "code",
        "id": "1btyTqfHEs2Y",
        "scrolled": true,
        "outputId": "84e4f34d-bc18-430e-fed6-e9e403bd3ef4",
        "colab": {
          "base_uri": "https://localhost:8080/",
          "height": 1000
        }
      },
      "source": [
        "# Find your best configuration for the DNN\n",
        "##These are initial values :) \n",
        "batch_size = 10000\n",
        "epochs = 30\n",
        "input_shape = Xtrain.shape[1]\n",
        "\n",
        "# Build and train DNN\n",
        "model10 = build_DNN(input_shape = input_shape,\n",
        "                   n_layers = 2,\n",
        "                   n_nodes = 50,\n",
        "                   use_bn = False,\n",
        "                   act_fun = 'sigmoid',\n",
        "                   optimizer = 'adam',\n",
        "                   learning_rate = 0.01)\n",
        "\n",
        "history10 = model10.fit(x = Xtrain,\n",
        "                      y = Ytrain,\n",
        "                      validation_data = (Xval,Yval),\n",
        "                      epochs = epochs,\n",
        "                      batch_size = batch_size,\n",
        "                       class_weight = class_weights_set)\n",
        "model10.summary()\n",
        "#93.68"
      ],
      "execution_count": 206,
      "outputs": [
        {
          "output_type": "stream",
          "text": [
            "Train on 534895 samples, validate on 114621 samples\n",
            "Epoch 1/30\n",
            "534895/534895 [==============================] - 1s 1us/step - loss: 0.2645 - accuracy: 0.8526 - val_loss: 0.1791 - val_accuracy: 0.9042\n",
            "Epoch 2/30\n",
            "534895/534895 [==============================] - 1s 1us/step - loss: 0.1703 - accuracy: 0.9108 - val_loss: 0.1645 - val_accuracy: 0.9147\n",
            "Epoch 3/30\n",
            "534895/534895 [==============================] - 1s 1us/step - loss: 0.1609 - accuracy: 0.9163 - val_loss: 0.1578 - val_accuracy: 0.9179\n",
            "Epoch 4/30\n",
            "534895/534895 [==============================] - 1s 1us/step - loss: 0.1547 - accuracy: 0.9181 - val_loss: 0.1522 - val_accuracy: 0.9190\n",
            "Epoch 5/30\n",
            "534895/534895 [==============================] - 1s 1us/step - loss: 0.1498 - accuracy: 0.9192 - val_loss: 0.1476 - val_accuracy: 0.9199\n",
            "Epoch 6/30\n",
            "534895/534895 [==============================] - 1s 1us/step - loss: 0.1459 - accuracy: 0.9210 - val_loss: 0.1445 - val_accuracy: 0.9206\n",
            "Epoch 7/30\n",
            "534895/534895 [==============================] - 1s 1us/step - loss: 0.1427 - accuracy: 0.9229 - val_loss: 0.1423 - val_accuracy: 0.9218\n",
            "Epoch 8/30\n",
            "534895/534895 [==============================] - 1s 1us/step - loss: 0.1401 - accuracy: 0.9247 - val_loss: 0.1404 - val_accuracy: 0.9261\n",
            "Epoch 9/30\n",
            "534895/534895 [==============================] - 1s 1us/step - loss: 0.1377 - accuracy: 0.9263 - val_loss: 0.1370 - val_accuracy: 0.9279\n",
            "Epoch 10/30\n",
            "534895/534895 [==============================] - 1s 1us/step - loss: 0.1352 - accuracy: 0.9280 - val_loss: 0.1348 - val_accuracy: 0.9269\n",
            "Epoch 11/30\n",
            "534895/534895 [==============================] - 1s 1us/step - loss: 0.1329 - accuracy: 0.9294 - val_loss: 0.1329 - val_accuracy: 0.9322\n",
            "Epoch 12/30\n",
            "534895/534895 [==============================] - 1s 1us/step - loss: 0.1312 - accuracy: 0.9303 - val_loss: 0.1307 - val_accuracy: 0.9311\n",
            "Epoch 13/30\n",
            "534895/534895 [==============================] - 1s 1us/step - loss: 0.1291 - accuracy: 0.9315 - val_loss: 0.1290 - val_accuracy: 0.9318\n",
            "Epoch 14/30\n",
            "534895/534895 [==============================] - 1s 1us/step - loss: 0.1274 - accuracy: 0.9327 - val_loss: 0.1278 - val_accuracy: 0.9338\n",
            "Epoch 15/30\n",
            "534895/534895 [==============================] - 1s 1us/step - loss: 0.1263 - accuracy: 0.9332 - val_loss: 0.1261 - val_accuracy: 0.9345\n",
            "Epoch 16/30\n",
            "534895/534895 [==============================] - 1s 1us/step - loss: 0.1246 - accuracy: 0.9346 - val_loss: 0.1246 - val_accuracy: 0.9349\n",
            "Epoch 17/30\n",
            "534895/534895 [==============================] - 1s 1us/step - loss: 0.1231 - accuracy: 0.9356 - val_loss: 0.1237 - val_accuracy: 0.9357\n",
            "Epoch 18/30\n",
            "534895/534895 [==============================] - 1s 1us/step - loss: 0.1221 - accuracy: 0.9362 - val_loss: 0.1235 - val_accuracy: 0.9368\n",
            "Epoch 19/30\n",
            "534895/534895 [==============================] - 1s 1us/step - loss: 0.1214 - accuracy: 0.9365 - val_loss: 0.1221 - val_accuracy: 0.9341\n",
            "Epoch 20/30\n",
            "534895/534895 [==============================] - 1s 1us/step - loss: 0.1209 - accuracy: 0.9367 - val_loss: 0.1209 - val_accuracy: 0.9388\n",
            "Epoch 21/30\n",
            "534895/534895 [==============================] - 1s 1us/step - loss: 0.1192 - accuracy: 0.9379 - val_loss: 0.1205 - val_accuracy: 0.9382\n",
            "Epoch 22/30\n",
            "534895/534895 [==============================] - 1s 1us/step - loss: 0.1190 - accuracy: 0.9381 - val_loss: 0.1208 - val_accuracy: 0.9359\n",
            "Epoch 23/30\n",
            "534895/534895 [==============================] - 1s 1us/step - loss: 0.1182 - accuracy: 0.9388 - val_loss: 0.1189 - val_accuracy: 0.9379\n",
            "Epoch 24/30\n",
            "534895/534895 [==============================] - 1s 1us/step - loss: 0.1173 - accuracy: 0.9391 - val_loss: 0.1195 - val_accuracy: 0.9383\n",
            "Epoch 25/30\n",
            "534895/534895 [==============================] - 1s 1us/step - loss: 0.1167 - accuracy: 0.9395 - val_loss: 0.1194 - val_accuracy: 0.9368\n",
            "Epoch 26/30\n",
            "534895/534895 [==============================] - 1s 1us/step - loss: 0.1166 - accuracy: 0.9394 - val_loss: 0.1168 - val_accuracy: 0.9401\n",
            "Epoch 27/30\n",
            "534895/534895 [==============================] - 1s 1us/step - loss: 0.1159 - accuracy: 0.9399 - val_loss: 0.1164 - val_accuracy: 0.9403\n",
            "Epoch 28/30\n",
            "534895/534895 [==============================] - 1s 1us/step - loss: 0.1151 - accuracy: 0.9402 - val_loss: 0.1171 - val_accuracy: 0.9387\n",
            "Epoch 29/30\n",
            "534895/534895 [==============================] - 1s 1us/step - loss: 0.1154 - accuracy: 0.9396 - val_loss: 0.1164 - val_accuracy: 0.9417\n",
            "Epoch 30/30\n",
            "534895/534895 [==============================] - 1s 1us/step - loss: 0.1143 - accuracy: 0.9407 - val_loss: 0.1175 - val_accuracy: 0.9344\n",
            "Model: \"sequential_53\"\n",
            "_________________________________________________________________\n",
            "Layer (type)                 Output Shape              Param #   \n",
            "=================================================================\n",
            "dense_249 (Dense)            (None, 50)                4650      \n",
            "_________________________________________________________________\n",
            "dense_250 (Dense)            (None, 50)                2550      \n",
            "_________________________________________________________________\n",
            "dense_251 (Dense)            (None, 1)                 51        \n",
            "=================================================================\n",
            "Total params: 7,251\n",
            "Trainable params: 7,251\n",
            "Non-trainable params: 0\n",
            "_________________________________________________________________\n"
          ],
          "name": "stdout"
        }
      ]
    },
    {
      "cell_type": "code",
      "metadata": {
        "colab_type": "code",
        "id": "0JlqqW6sEs2d",
        "scrolled": true,
        "outputId": "f0254ba2-4460-4157-b8e8-57204ef6a51f",
        "colab": {
          "base_uri": "https://localhost:8080/",
          "height": 68
        }
      },
      "source": [
        "# Evaluate DNN on test data\n",
        "score = model10.evaluate(x = Xtest, \n",
        "                        y = Ytest)\n",
        "\n",
        "print('Test loss: %.4f' % score[0])\n",
        "print('Test accuracy: %.4f' % score[1])"
      ],
      "execution_count": 207,
      "outputs": [
        {
          "output_type": "stream",
          "text": [
            "114621/114621 [==============================] - 4s 36us/step\n",
            "Test loss: 0.1165\n",
            "Test accuracy: 0.9358\n"
          ],
          "name": "stdout"
        }
      ]
    },
    {
      "cell_type": "code",
      "metadata": {
        "id": "EXmDhPuUkHkA",
        "colab_type": "code",
        "outputId": "0578f3fa-5fe2-4708-d65f-fecf67f439b9",
        "colab": {
          "base_uri": "https://localhost:8080/",
          "height": 541
        }
      },
      "source": [
        "plot_results(history10)"
      ],
      "execution_count": 208,
      "outputs": [
        {
          "output_type": "display_data",
          "data": {
            "image/png": "[encoded data removed]",
            "text/plain": [
              "<Figure size 720x288 with 1 Axes>"
            ]
          },
          "metadata": {
            "tags": [],
            "needs_background": "light"
          }
        },
        {
          "output_type": "display_data",
          "data": {
            "image/png": "[encoded data removed]",
            "text/plain": [
              "<Figure size 720x288 with 1 Axes>"
            ]
          },
          "metadata": {
            "tags": [],
            "needs_background": "light"
          }
        }
      ]
    },
    {
      "cell_type": "markdown",
      "metadata": {
        "colab_type": "text",
        "id": "Y1U6r2SnEs2g"
      },
      "source": [
        "# Part 21: Dropout uncertainty\n",
        "\n",
        "Dropout can also be used during testing, to obtain an estimate of the model uncertainty. Since dropout will randomly remove connections, the network will produce different results every time the same (test) data is put into the network. This technique is called Monte Carlo dropout. For more information, see this paper http://proceedings.mlr.press/v48/gal16.pdf\n",
        "\n",
        "To achieve this, we need to redefine the Keras Dropout call by running the cell below, and use 'myDropout' in each call to Dropout, in the cell that defines the DNN.\n",
        "\n",
        "Run the same test data through the trained network 100 times, with dropout turned on. \n",
        "\n",
        "Question 22: What is the mean and the standard deviation of the test accuracy?"
      ]
    },
    {
      "cell_type": "code",
      "metadata": {
        "colab_type": "code",
        "id": "62WophJDEs2h",
        "colab": {}
      },
      "source": [
        "import keras\n",
        "\n",
        "class myDropout(keras.layers.Dropout):\n",
        "    \"\"\"Applies Dropout to the input.\n",
        "    Dropout consists in randomly setting\n",
        "    a fraction `rate` of input units to 0 at each update during training time,\n",
        "    which helps prevent overfitting.\n",
        "    # Arguments\n",
        "        rate: float between 0 and 1. Fraction of the input units to drop.\n",
        "        noise_shape: 1D integer tensor representing the shape of the\n",
        "            binary dropout mask that will be multiplied with the input.\n",
        "            For instance, if your inputs have shape\n",
        "            `(batch_size, timesteps, features)` and\n",
        "            you want the dropout mask to be the same for all timesteps,\n",
        "            you can use `noise_shape=(batch_size, 1, features)`.\n",
        "        seed: A Python integer to use as random seed.\n",
        "    # References\n",
        "        - [Dropout: A Simple Way to Prevent Neural Networks from Overfitting](\n",
        "           http://www.jmlr.org/papers/volume15/srivastava14a/srivastava14a.pdf)\n",
        "    \"\"\"\n",
        "    def __init__(self, rate, training=True, noise_shape=None, seed=None, **kwargs):\n",
        "        super(myDropout, self).__init__(rate, noise_shape=None, seed=None,**kwargs)\n",
        "        self.training = training\n",
        "\n",
        "        \n",
        "    def call(self, inputs, training=None):\n",
        "        if 0. < self.rate < 1.:\n",
        "            noise_shape = self._get_noise_shape(inputs)\n",
        "\n",
        "            def dropped_inputs():\n",
        "                return K.dropout(inputs, self.rate, noise_shape,\n",
        "                                 seed=self.seed)\n",
        "            if not training: \n",
        "                return K.in_train_phase(dropped_inputs, inputs, training=self.training)\n",
        "            return K.in_train_phase(dropped_inputs, inputs, training=training)\n",
        "        return inputs"
      ],
      "execution_count": 0,
      "outputs": []
    },
    {
      "cell_type": "markdown",
      "metadata": {
        "colab_type": "text",
        "id": "RKpFIde0Es2k"
      },
      "source": [
        "### Your best config, custom dropout"
      ]
    },
    {
      "cell_type": "code",
      "metadata": {
        "colab_type": "code",
        "id": "mmn04zO1Es2k",
        "scrolled": true,
        "outputId": "ad8bd61d-0b00-40f0-a08e-3f20da764068",
        "colab": {
          "base_uri": "https://localhost:8080/",
          "height": 1000
        }
      },
      "source": [
        "# Your best training parameters\n",
        "batch_size = 10000\n",
        "epochs = 30\n",
        "input_shape = Xtrain.shape[1]\n",
        "\n",
        "\n",
        "# Build and train model\n",
        "model11 = build_DNN(input_shape = input_shape,\n",
        "                   n_layers = 2,\n",
        "                   n_nodes = 50,\n",
        "                   use_bn = False,\n",
        "                   act_fun = 'sigmoid',\n",
        "                   optimizer = 'adam',\n",
        "                   learning_rate = 0.01,\n",
        "                   use_custom_dropout = True\n",
        "                   )\n",
        "\n",
        "history11 = model10.fit(x = Xtrain,\n",
        "                      y = Ytrain,\n",
        "                      validation_data = (Xval,Yval),\n",
        "                      epochs = epochs,\n",
        "                      batch_size = batch_size,\n",
        "                      class_weight = class_weights_set\n",
        "                    )\n",
        "model11.summary()"
      ],
      "execution_count": 210,
      "outputs": [
        {
          "output_type": "stream",
          "text": [
            "Train on 534895 samples, validate on 114621 samples\n",
            "Epoch 1/30\n",
            "534895/534895 [==============================] - 1s 1us/step - loss: 0.1143 - accuracy: 0.9401 - val_loss: 0.1147 - val_accuracy: 0.9422\n",
            "Epoch 2/30\n",
            "534895/534895 [==============================] - 1s 1us/step - loss: 0.1142 - accuracy: 0.9404 - val_loss: 0.1146 - val_accuracy: 0.9420\n",
            "Epoch 3/30\n",
            "534895/534895 [==============================] - 1s 1us/step - loss: 0.1132 - accuracy: 0.9414 - val_loss: 0.1147 - val_accuracy: 0.9398\n",
            "Epoch 4/30\n",
            "534895/534895 [==============================] - 1s 1us/step - loss: 0.1129 - accuracy: 0.9412 - val_loss: 0.1167 - val_accuracy: 0.9364\n",
            "Epoch 5/30\n",
            "534895/534895 [==============================] - 1s 1us/step - loss: 0.1134 - accuracy: 0.9407 - val_loss: 0.1156 - val_accuracy: 0.9398\n",
            "Epoch 6/30\n",
            "534895/534895 [==============================] - 1s 1us/step - loss: 0.1121 - accuracy: 0.9416 - val_loss: 0.1142 - val_accuracy: 0.9417\n",
            "Epoch 7/30\n",
            "534895/534895 [==============================] - 1s 1us/step - loss: 0.1117 - accuracy: 0.9421 - val_loss: 0.1146 - val_accuracy: 0.9386\n",
            "Epoch 8/30\n",
            "534895/534895 [==============================] - 1s 1us/step - loss: 0.1117 - accuracy: 0.9415 - val_loss: 0.1132 - val_accuracy: 0.9401\n",
            "Epoch 9/30\n",
            "534895/534895 [==============================] - 1s 1us/step - loss: 0.1116 - accuracy: 0.9419 - val_loss: 0.1134 - val_accuracy: 0.9411\n",
            "Epoch 10/30\n",
            "534895/534895 [==============================] - 1s 1us/step - loss: 0.1115 - accuracy: 0.9421 - val_loss: 0.1121 - val_accuracy: 0.9427\n",
            "Epoch 11/30\n",
            "534895/534895 [==============================] - 1s 1us/step - loss: 0.1113 - accuracy: 0.9417 - val_loss: 0.1129 - val_accuracy: 0.9428\n",
            "Epoch 12/30\n",
            "534895/534895 [==============================] - 1s 1us/step - loss: 0.1107 - accuracy: 0.9419 - val_loss: 0.1135 - val_accuracy: 0.9400\n",
            "Epoch 13/30\n",
            "534895/534895 [==============================] - 1s 1us/step - loss: 0.1103 - accuracy: 0.9426 - val_loss: 0.1122 - val_accuracy: 0.9402\n",
            "Epoch 14/30\n",
            "534895/534895 [==============================] - 1s 1us/step - loss: 0.1102 - accuracy: 0.9426 - val_loss: 0.1114 - val_accuracy: 0.9430\n",
            "Epoch 15/30\n",
            "534895/534895 [==============================] - 1s 1us/step - loss: 0.1102 - accuracy: 0.9421 - val_loss: 0.1120 - val_accuracy: 0.9409\n",
            "Epoch 16/30\n",
            "534895/534895 [==============================] - 1s 1us/step - loss: 0.1098 - accuracy: 0.9424 - val_loss: 0.1115 - val_accuracy: 0.9407\n",
            "Epoch 17/30\n",
            "534895/534895 [==============================] - 1s 1us/step - loss: 0.1096 - accuracy: 0.9426 - val_loss: 0.1109 - val_accuracy: 0.9429\n",
            "Epoch 18/30\n",
            "534895/534895 [==============================] - 1s 1us/step - loss: 0.1094 - accuracy: 0.9425 - val_loss: 0.1113 - val_accuracy: 0.9421\n",
            "Epoch 19/30\n",
            "534895/534895 [==============================] - 1s 1us/step - loss: 0.1090 - accuracy: 0.9430 - val_loss: 0.1105 - val_accuracy: 0.9423\n",
            "Epoch 20/30\n",
            "534895/534895 [==============================] - 1s 1us/step - loss: 0.1096 - accuracy: 0.9420 - val_loss: 0.1107 - val_accuracy: 0.9411\n",
            "Epoch 21/30\n",
            "534895/534895 [==============================] - 1s 1us/step - loss: 0.1095 - accuracy: 0.9415 - val_loss: 0.1180 - val_accuracy: 0.9287\n",
            "Epoch 22/30\n",
            "534895/534895 [==============================] - 1s 1us/step - loss: 0.1106 - accuracy: 0.9401 - val_loss: 0.1108 - val_accuracy: 0.9428\n",
            "Epoch 23/30\n",
            "534895/534895 [==============================] - 1s 1us/step - loss: 0.1085 - accuracy: 0.9430 - val_loss: 0.1110 - val_accuracy: 0.9432\n",
            "Epoch 24/30\n",
            "534895/534895 [==============================] - 1s 1us/step - loss: 0.1080 - accuracy: 0.9437 - val_loss: 0.1115 - val_accuracy: 0.9402\n",
            "Epoch 25/30\n",
            "534895/534895 [==============================] - 1s 1us/step - loss: 0.1082 - accuracy: 0.9436 - val_loss: 0.1101 - val_accuracy: 0.9411\n",
            "Epoch 26/30\n",
            "534895/534895 [==============================] - 1s 1us/step - loss: 0.1074 - accuracy: 0.9440 - val_loss: 0.1097 - val_accuracy: 0.9427\n",
            "Epoch 27/30\n",
            "534895/534895 [==============================] - 1s 1us/step - loss: 0.1075 - accuracy: 0.9439 - val_loss: 0.1096 - val_accuracy: 0.9421\n",
            "Epoch 28/30\n",
            "534895/534895 [==============================] - 1s 1us/step - loss: 0.1081 - accuracy: 0.9429 - val_loss: 0.1095 - val_accuracy: 0.9442\n",
            "Epoch 29/30\n",
            "534895/534895 [==============================] - 1s 1us/step - loss: 0.1072 - accuracy: 0.9440 - val_loss: 0.1106 - val_accuracy: 0.9407\n",
            "Epoch 30/30\n",
            "534895/534895 [==============================] - 1s 1us/step - loss: 0.1070 - accuracy: 0.9443 - val_loss: 0.1092 - val_accuracy: 0.9426\n",
            "Model: \"sequential_54\"\n",
            "_________________________________________________________________\n",
            "Layer (type)                 Output Shape              Param #   \n",
            "=================================================================\n",
            "dense_252 (Dense)            (None, 50)                4650      \n",
            "_________________________________________________________________\n",
            "my_dropout_19 (myDropout)    (None, 50)                0         \n",
            "_________________________________________________________________\n",
            "dense_253 (Dense)            (None, 50)                2550      \n",
            "_________________________________________________________________\n",
            "my_dropout_20 (myDropout)    (None, 50)                0         \n",
            "_________________________________________________________________\n",
            "dense_254 (Dense)            (None, 1)                 51        \n",
            "=================================================================\n",
            "Total params: 7,251\n",
            "Trainable params: 7,251\n",
            "Non-trainable params: 0\n",
            "_________________________________________________________________\n"
          ],
          "name": "stdout"
        }
      ]
    },
    {
      "cell_type": "code",
      "metadata": {
        "colab_type": "code",
        "id": "eYOM5czuEs2p",
        "outputId": "719ea7cc-2a8c-4a40-bc60-6c578a4d5082",
        "colab": {
          "base_uri": "https://localhost:8080/",
          "height": 51
        }
      },
      "source": [
        "# Run this cell a few times to evalute the model on test data, \n",
        "# if you get slightly different test accuracy every time, Dropout during testing is working\n",
        "\n",
        "# Evaluate model on test data\n",
        "score = model11.evaluate(x = Xtest, \n",
        "                        y = Ytest)\n",
        "                       \n",
        "print('Test accuracy: %.4f' % score[1])"
      ],
      "execution_count": 215,
      "outputs": [
        {
          "output_type": "stream",
          "text": [
            "114621/114621 [==============================] - 5s 40us/step\n",
            "Test accuracy: 0.5807\n"
          ],
          "name": "stdout"
        }
      ]
    },
    {
      "cell_type": "code",
      "metadata": {
        "colab_type": "code",
        "id": "jbVDkAFQEs2r",
        "outputId": "7d174a23-7679-45b2-f678-fe904f1f9276",
        "colab": {
          "base_uri": "https://localhost:8080/",
          "height": 1000
        }
      },
      "source": [
        "# Run the testing 100 times, and save the accuracies in an array\n",
        "from math import sqrt\n",
        "accuracy = [model11.evaluate(x = Xtest, y = Ytest)[1] for _ in range(100)]\n",
        "\n",
        "# Calculate and print mean and std of accuracies\n",
        "\n",
        "print('The mean of the accuracy is: {}'.format(np.mean(accuracy)))\n",
        "print('The SD of the accuracy is: {}'.format(np.std(accuracy)))"
      ],
      "execution_count": 212,
      "outputs": [
        {
          "output_type": "stream",
          "text": [
            "114621/114621 [==============================] - 4s 39us/step\n",
            "114621/114621 [==============================] - 4s 39us/step\n",
            "114621/114621 [==============================] - 4s 39us/step\n",
            "114621/114621 [==============================] - 4s 39us/step\n",
            "114621/114621 [==============================] - 4s 39us/step\n",
            "114621/114621 [==============================] - 4s 39us/step\n",
            "114621/114621 [==============================] - 5s 40us/step\n",
            "114621/114621 [==============================] - 5s 40us/step\n",
            "114621/114621 [==============================] - 5s 39us/step\n",
            "114621/114621 [==============================] - 4s 39us/step\n",
            "114621/114621 [==============================] - 4s 39us/step\n",
            "114621/114621 [==============================] - 4s 39us/step\n",
            "114621/114621 [==============================] - 4s 39us/step\n",
            "114621/114621 [==============================] - 4s 39us/step\n",
            "114621/114621 [==============================] - 4s 39us/step\n",
            "114621/114621 [==============================] - 4s 39us/step\n",
            "114621/114621 [==============================] - 4s 38us/step\n",
            "114621/114621 [==============================] - 4s 39us/step\n",
            "114621/114621 [==============================] - 5s 44us/step\n",
            "114621/114621 [==============================] - 5s 46us/step\n",
            "114621/114621 [==============================] - 5s 40us/step\n",
            "114621/114621 [==============================] - 5s 40us/step\n",
            "114621/114621 [==============================] - 5s 42us/step\n",
            "114621/114621 [==============================] - 4s 39us/step\n",
            "114621/114621 [==============================] - 4s 39us/step\n",
            "114621/114621 [==============================] - 4s 39us/step\n",
            "114621/114621 [==============================] - 4s 39us/step\n",
            "114621/114621 [==============================] - 4s 39us/step\n",
            "114621/114621 [==============================] - 4s 39us/step\n",
            "114621/114621 [==============================] - 4s 39us/step\n",
            "114621/114621 [==============================] - 4s 39us/step\n",
            "114621/114621 [==============================] - 4s 38us/step\n",
            "114621/114621 [==============================] - 4s 39us/step\n",
            "114621/114621 [==============================] - 4s 38us/step\n",
            "114621/114621 [==============================] - 4s 39us/step\n",
            "114621/114621 [==============================] - 4s 39us/step\n",
            "114621/114621 [==============================] - 4s 39us/step\n",
            "114621/114621 [==============================] - 4s 39us/step\n",
            "114621/114621 [==============================] - 4s 39us/step\n",
            "114621/114621 [==============================] - 4s 39us/step\n",
            "114621/114621 [==============================] - 4s 39us/step\n",
            "114621/114621 [==============================] - 4s 39us/step\n",
            "114621/114621 [==============================] - 5s 39us/step\n",
            "114621/114621 [==============================] - 4s 39us/step\n",
            "114621/114621 [==============================] - 4s 39us/step\n",
            "114621/114621 [==============================] - 4s 39us/step\n",
            "114621/114621 [==============================] - 4s 39us/step\n",
            "114621/114621 [==============================] - 4s 39us/step\n",
            "114621/114621 [==============================] - 4s 39us/step\n",
            "114621/114621 [==============================] - 4s 39us/step\n",
            "114621/114621 [==============================] - 4s 39us/step\n",
            "114621/114621 [==============================] - 4s 38us/step\n",
            "114621/114621 [==============================] - 4s 39us/step\n",
            "114621/114621 [==============================] - 4s 39us/step\n",
            "114621/114621 [==============================] - 4s 39us/step\n",
            "114621/114621 [==============================] - 4s 39us/step\n",
            "114621/114621 [==============================] - 4s 39us/step\n",
            "114621/114621 [==============================] - 4s 39us/step\n",
            "114621/114621 [==============================] - 4s 39us/step\n",
            "114621/114621 [==============================] - 4s 39us/step\n",
            "114621/114621 [==============================] - 4s 39us/step\n",
            "114621/114621 [==============================] - 5s 40us/step\n",
            "114621/114621 [==============================] - 4s 39us/step\n",
            "114621/114621 [==============================] - 4s 39us/step\n",
            "114621/114621 [==============================] - 4s 39us/step\n",
            "114621/114621 [==============================] - 4s 39us/step\n",
            "114621/114621 [==============================] - 4s 39us/step\n",
            "114621/114621 [==============================] - 5s 39us/step\n",
            "114621/114621 [==============================] - 4s 39us/step\n",
            "114621/114621 [==============================] - 4s 39us/step\n",
            "114621/114621 [==============================] - 4s 39us/step\n",
            "114621/114621 [==============================] - 4s 39us/step\n",
            "114621/114621 [==============================] - 4s 39us/step\n",
            "114621/114621 [==============================] - 4s 38us/step\n",
            "114621/114621 [==============================] - 4s 39us/step\n",
            "114621/114621 [==============================] - 4s 39us/step\n",
            "114621/114621 [==============================] - 4s 39us/step\n",
            "114621/114621 [==============================] - 4s 39us/step\n",
            "114621/114621 [==============================] - 5s 40us/step\n",
            "114621/114621 [==============================] - 5s 39us/step\n",
            "114621/114621 [==============================] - 4s 39us/step\n",
            "114621/114621 [==============================] - 4s 39us/step\n",
            "114621/114621 [==============================] - 4s 39us/step\n",
            "114621/114621 [==============================] - 4s 38us/step\n",
            "114621/114621 [==============================] - 4s 39us/step\n",
            "114621/114621 [==============================] - 4s 39us/step\n",
            "114621/114621 [==============================] - 4s 39us/step\n",
            "114621/114621 [==============================] - 5s 42us/step\n",
            "114621/114621 [==============================] - 5s 45us/step\n",
            "114621/114621 [==============================] - 5s 42us/step\n",
            "114621/114621 [==============================] - 5s 42us/step\n",
            "114621/114621 [==============================] - 4s 38us/step\n",
            "114621/114621 [==============================] - 4s 38us/step\n",
            "114621/114621 [==============================] - 4s 39us/step\n",
            "114621/114621 [==============================] - 4s 39us/step\n",
            "114621/114621 [==============================] - 4s 39us/step\n",
            "114621/114621 [==============================] - 4s 39us/step\n",
            "114621/114621 [==============================] - 5s 40us/step\n",
            "114621/114621 [==============================] - 4s 38us/step\n",
            "114621/114621 [==============================] - 4s 39us/step\n",
            "The mean of the accuracy is: 0.5783156669139862\n",
            "The SD of the accuracy is: 0.0014454476904310098\n"
          ],
          "name": "stdout"
        }
      ]
    },
    {
      "cell_type": "markdown",
      "metadata": {
        "colab_type": "text",
        "id": "5yfFoxNEEs2u"
      },
      "source": [
        "# Part 22: Cross validation uncertainty\n",
        "\n",
        "Cross validation (CV) is often used to evaluate a model, by training and testing using different subsets of the data it is possible to get the uncertainty as the standard deviation over folds. We here use a help function from scikit-learn to setup the CV, see https://scikit-learn.org/stable/modules/generated/sklearn.model_selection.StratifiedKFold.html . Use 10 folds with shuffling, random state 1234. \n",
        "\n",
        "Note: We here assume that you have found the best hyper parameters, so here the data are only split into training and testing, no validation.\n",
        "\n",
        "---\n",
        "\n",
        "Question 23: What is the mean and the standard deviation of the test accuracy?    \n",
        "\n",
        "**The mean is: 0.5783156669139862, and the SD is: 0.0.0014454476904310098, due to different values used for testing the model by dropout**\n",
        "\n",
        "Question 24: What is the main advantage of dropout compared to CV for estimating test uncertainty?  \n",
        "\n",
        "**The main advantage of dropout over CV, is that it is faster than CV, if training time is one day using dropout it will take 5 days for a 5-folds CV**"
      ]
    },
    {
      "cell_type": "code",
      "metadata": {
        "colab_type": "code",
        "id": "kON62449Es2v",
        "outputId": "d0f7e5e2-9376-4fc1-d95f-f01f30b935b6",
        "colab": {
          "base_uri": "https://localhost:8080/",
          "height": 1000
        }
      },
      "source": [
        "from sklearn.model_selection import StratifiedKFold\n",
        "import math\n",
        "\n",
        "# Define 10-fold cross validation \n",
        "\n",
        "ten_folds = StratifiedKFold(n_splits=10, shuffle=True, random_state=1234)\n",
        "folds = ten_folds.get_n_splits(X_floats, Y_floats)\n",
        "accuracy = []\n",
        "# Loop over cross validation folds\n",
        "for train_index, test_index in ten_folds.split(Xtrain, Ytrain):\n",
        "        # Calculate class weights for current split\n",
        "        class_weights_set = class_weight.compute_class_weight('balanced',\n",
        "                                                          np.unique(Y_floats[train_index]),\n",
        "                                                          Y_floats[train_index])\n",
        "        input_shape = X_floats[train_index].shape[1]\n",
        "        # Print the class weights\n",
        "        print(class_weights_set)\n",
        "    # Rebuild the DNN model, to not continue training on the previously trained model\n",
        "        model = build_DNN(input_shape = input_shape,\n",
        "                   n_layers = 10,\n",
        "                   n_nodes = 20,\n",
        "                   use_bn = True,\n",
        "                   act_fun = 'relu',\n",
        "                   optimizer = 'adam',\n",
        "                   use_dropout = False,\n",
        "                   learning_rate = 0.1)\n",
        "    # Fit the model with training set and class weights for this fold\n",
        "        history = model.fit(x = X_floats[train_index],\n",
        "                      y = Y_floats[train_index],\n",
        "                      validation_data = (X_floats[test_index],Y_floats[test_index]),\n",
        "                      epochs = epochs,\n",
        "                      batch_size = batch_size,\n",
        "                      class_weight = class_weights_set)\n",
        "    # Evaluate the model using the test set for this fold\n",
        "        score = model.evaluate(x = X_floats[test_index], y = Y_floats[test_index])\n",
        "    # Save the test accuracy in an array\n",
        "        accuracy.append(score[1])\n",
        "# Calculate and print mean and std of accuracies\n",
        "accuracy = np.array(accuracy)\n",
        "print('The mean of the accuracy is: {}'.format(np.mean(accuracy)))\n",
        "print('The STD of the accuracy is: {}'.format(np.std(accuracy)))\n"
      ],
      "execution_count": 214,
      "outputs": [
        {
          "output_type": "stream",
          "text": [
            "[3.14606778 0.59447982]\n",
            "Train on 481405 samples, validate on 53490 samples\n",
            "Epoch 1/30\n",
            "481405/481405 [==============================] - 3s 5us/step - loss: 0.2134 - accuracy: 0.8888 - val_loss: 30.8787 - val_accuracy: 0.1595\n",
            "Epoch 2/30\n",
            "481405/481405 [==============================] - 1s 2us/step - loss: 0.1603 - accuracy: 0.9128 - val_loss: 1.9583 - val_accuracy: 0.1532\n",
            "Epoch 3/30\n",
            "481405/481405 [==============================] - 1s 2us/step - loss: 0.1546 - accuracy: 0.9164 - val_loss: 0.1968 - val_accuracy: 0.9099\n",
            "Epoch 4/30\n",
            "481405/481405 [==============================] - 1s 2us/step - loss: 0.1528 - accuracy: 0.9171 - val_loss: 0.2199 - val_accuracy: 0.9137\n",
            "Epoch 5/30\n",
            "481405/481405 [==============================] - 1s 2us/step - loss: 0.1525 - accuracy: 0.9166 - val_loss: 0.1882 - val_accuracy: 0.9177\n",
            "Epoch 6/30\n",
            "481405/481405 [==============================] - 1s 2us/step - loss: 0.1501 - accuracy: 0.9177 - val_loss: 0.1867 - val_accuracy: 0.9179\n",
            "Epoch 7/30\n",
            "481405/481405 [==============================] - 1s 2us/step - loss: 0.1469 - accuracy: 0.9201 - val_loss: 0.1990 - val_accuracy: 0.9125\n",
            "Epoch 8/30\n",
            "481405/481405 [==============================] - 1s 2us/step - loss: 0.1464 - accuracy: 0.9200 - val_loss: 0.1871 - val_accuracy: 0.9041\n",
            "Epoch 9/30\n",
            "481405/481405 [==============================] - 1s 2us/step - loss: 0.1427 - accuracy: 0.9225 - val_loss: 0.1551 - val_accuracy: 0.9178\n",
            "Epoch 10/30\n",
            "481405/481405 [==============================] - 1s 2us/step - loss: 0.1366 - accuracy: 0.9278 - val_loss: 0.4988 - val_accuracy: 0.9139\n",
            "Epoch 11/30\n",
            "481405/481405 [==============================] - 1s 2us/step - loss: 0.1272 - accuracy: 0.9325 - val_loss: 0.3007 - val_accuracy: 0.9021\n",
            "Epoch 12/30\n",
            "481405/481405 [==============================] - 1s 2us/step - loss: 0.1269 - accuracy: 0.9307 - val_loss: 0.4917 - val_accuracy: 0.9161\n",
            "Epoch 13/30\n",
            "481405/481405 [==============================] - 1s 2us/step - loss: 0.1254 - accuracy: 0.9307 - val_loss: 0.2941 - val_accuracy: 0.9155\n",
            "Epoch 14/30\n",
            "481405/481405 [==============================] - 1s 2us/step - loss: 0.1264 - accuracy: 0.9308 - val_loss: 0.1929 - val_accuracy: 0.9199\n",
            "Epoch 15/30\n",
            "481405/481405 [==============================] - 1s 2us/step - loss: 0.1243 - accuracy: 0.9306 - val_loss: 0.3883 - val_accuracy: 0.9157\n",
            "Epoch 16/30\n",
            "481405/481405 [==============================] - 1s 2us/step - loss: 0.1208 - accuracy: 0.9323 - val_loss: 0.1779 - val_accuracy: 0.9238\n",
            "Epoch 17/30\n",
            "481405/481405 [==============================] - 1s 2us/step - loss: 0.1212 - accuracy: 0.9327 - val_loss: 0.2034 - val_accuracy: 0.9200\n",
            "Epoch 18/30\n",
            "481405/481405 [==============================] - 1s 2us/step - loss: 0.1191 - accuracy: 0.9342 - val_loss: 0.2376 - val_accuracy: 0.9205\n",
            "Epoch 19/30\n",
            "481405/481405 [==============================] - 1s 2us/step - loss: 0.1230 - accuracy: 0.9329 - val_loss: 0.2417 - val_accuracy: 0.9021\n",
            "Epoch 20/30\n",
            "481405/481405 [==============================] - 1s 2us/step - loss: 0.1224 - accuracy: 0.9325 - val_loss: 0.1483 - val_accuracy: 0.9233\n",
            "Epoch 21/30\n",
            "481405/481405 [==============================] - 1s 2us/step - loss: 0.1197 - accuracy: 0.9334 - val_loss: 0.1726 - val_accuracy: 0.9207\n",
            "Epoch 22/30\n",
            "481405/481405 [==============================] - 1s 2us/step - loss: 0.1208 - accuracy: 0.9329 - val_loss: 0.3703 - val_accuracy: 0.9187\n",
            "Epoch 23/30\n",
            "481405/481405 [==============================] - 1s 2us/step - loss: 0.1199 - accuracy: 0.9329 - val_loss: 0.1944 - val_accuracy: 0.9213\n",
            "Epoch 24/30\n",
            "481405/481405 [==============================] - 1s 2us/step - loss: 0.1184 - accuracy: 0.9349 - val_loss: 0.2194 - val_accuracy: 0.9187\n",
            "Epoch 25/30\n",
            "481405/481405 [==============================] - 1s 2us/step - loss: 0.1177 - accuracy: 0.9352 - val_loss: 0.1938 - val_accuracy: 0.9378\n",
            "Epoch 26/30\n",
            "481405/481405 [==============================] - 1s 2us/step - loss: 0.1165 - accuracy: 0.9376 - val_loss: 0.1927 - val_accuracy: 0.9216\n",
            "Epoch 27/30\n",
            "481405/481405 [==============================] - 1s 2us/step - loss: 0.1157 - accuracy: 0.9369 - val_loss: 0.1663 - val_accuracy: 0.9221\n",
            "Epoch 28/30\n",
            "481405/481405 [==============================] - 1s 2us/step - loss: 0.1159 - accuracy: 0.9365 - val_loss: 0.3946 - val_accuracy: 0.9175\n",
            "Epoch 29/30\n",
            "481405/481405 [==============================] - 1s 2us/step - loss: 0.1415 - accuracy: 0.9237 - val_loss: 1.0454 - val_accuracy: 0.8874\n",
            "Epoch 30/30\n",
            "481405/481405 [==============================] - 1s 2us/step - loss: 0.1251 - accuracy: 0.9318 - val_loss: 0.2640 - val_accuracy: 0.8839\n",
            "53490/53490 [==============================] - 5s 92us/step\n",
            "[3.14606778 0.59447982]\n",
            "Train on 481405 samples, validate on 53490 samples\n",
            "Epoch 1/30\n",
            "481405/481405 [==============================] - 2s 5us/step - loss: 0.2336 - accuracy: 0.8783 - val_loss: 234.7703 - val_accuracy: 0.1599\n",
            "Epoch 2/30\n",
            "481405/481405 [==============================] - 1s 2us/step - loss: 0.1594 - accuracy: 0.9124 - val_loss: 2.3903 - val_accuracy: 0.1977\n",
            "Epoch 3/30\n",
            "481405/481405 [==============================] - 1s 2us/step - loss: 0.1552 - accuracy: 0.9145 - val_loss: 1.5888 - val_accuracy: 0.2888\n",
            "Epoch 4/30\n",
            "481405/481405 [==============================] - 1s 2us/step - loss: 0.1512 - accuracy: 0.9173 - val_loss: 0.9132 - val_accuracy: 0.5174\n",
            "Epoch 5/30\n",
            "481405/481405 [==============================] - 1s 2us/step - loss: 0.1495 - accuracy: 0.9181 - val_loss: 0.1650 - val_accuracy: 0.9161\n",
            "Epoch 6/30\n",
            "481405/481405 [==============================] - 1s 2us/step - loss: 0.1507 - accuracy: 0.9171 - val_loss: 1.2196 - val_accuracy: 0.4487\n",
            "Epoch 7/30\n",
            "481405/481405 [==============================] - 1s 2us/step - loss: 0.1484 - accuracy: 0.9176 - val_loss: 0.2579 - val_accuracy: 0.9162\n",
            "Epoch 8/30\n",
            "481405/481405 [==============================] - 1s 2us/step - loss: 0.1476 - accuracy: 0.9169 - val_loss: 0.2891 - val_accuracy: 0.9173\n",
            "Epoch 9/30\n",
            "481405/481405 [==============================] - 1s 2us/step - loss: 0.1420 - accuracy: 0.9223 - val_loss: 0.3263 - val_accuracy: 0.8869\n",
            "Epoch 10/30\n",
            "481405/481405 [==============================] - 1s 2us/step - loss: 0.1399 - accuracy: 0.9233 - val_loss: 0.6496 - val_accuracy: 0.8736\n",
            "Epoch 11/30\n",
            "481405/481405 [==============================] - 1s 2us/step - loss: 0.1329 - accuracy: 0.9278 - val_loss: 0.2485 - val_accuracy: 0.9091\n",
            "Epoch 12/30\n",
            "481405/481405 [==============================] - 1s 2us/step - loss: 0.1258 - accuracy: 0.9311 - val_loss: 0.2614 - val_accuracy: 0.9125\n",
            "Epoch 13/30\n",
            "481405/481405 [==============================] - 1s 2us/step - loss: 0.1247 - accuracy: 0.9314 - val_loss: 0.3962 - val_accuracy: 0.9125\n",
            "Epoch 14/30\n",
            "481405/481405 [==============================] - 1s 2us/step - loss: 0.1479 - accuracy: 0.9209 - val_loss: 0.4682 - val_accuracy: 0.9109\n",
            "Epoch 15/30\n",
            "481405/481405 [==============================] - 1s 2us/step - loss: 0.1298 - accuracy: 0.9298 - val_loss: 0.3829 - val_accuracy: 0.9055\n",
            "Epoch 16/30\n",
            "481405/481405 [==============================] - 1s 2us/step - loss: 0.1390 - accuracy: 0.9271 - val_loss: 0.4476 - val_accuracy: 0.8958\n",
            "Epoch 17/30\n",
            "481405/481405 [==============================] - 1s 2us/step - loss: 0.1284 - accuracy: 0.9309 - val_loss: 0.5708 - val_accuracy: 0.9288\n",
            "Epoch 18/30\n",
            "481405/481405 [==============================] - 1s 2us/step - loss: 0.1250 - accuracy: 0.9326 - val_loss: 0.4703 - val_accuracy: 0.9307\n",
            "Epoch 19/30\n",
            "481405/481405 [==============================] - 1s 2us/step - loss: 0.1243 - accuracy: 0.9331 - val_loss: 0.1612 - val_accuracy: 0.9324\n",
            "Epoch 20/30\n",
            "481405/481405 [==============================] - 1s 2us/step - loss: 0.1236 - accuracy: 0.9338 - val_loss: 0.1583 - val_accuracy: 0.9273\n",
            "Epoch 21/30\n",
            "481405/481405 [==============================] - 1s 2us/step - loss: 0.1237 - accuracy: 0.9332 - val_loss: 0.7052 - val_accuracy: 0.9107\n",
            "Epoch 22/30\n",
            "481405/481405 [==============================] - 1s 2us/step - loss: 0.1235 - accuracy: 0.9318 - val_loss: 0.3534 - val_accuracy: 0.9127\n",
            "Epoch 23/30\n",
            "481405/481405 [==============================] - 1s 2us/step - loss: 0.1226 - accuracy: 0.9317 - val_loss: 0.2175 - val_accuracy: 0.9192\n",
            "Epoch 24/30\n",
            "481405/481405 [==============================] - 1s 2us/step - loss: 0.1216 - accuracy: 0.9319 - val_loss: 0.1311 - val_accuracy: 0.9293\n",
            "Epoch 25/30\n",
            "481405/481405 [==============================] - 1s 2us/step - loss: 0.1207 - accuracy: 0.9330 - val_loss: 0.2644 - val_accuracy: 0.9316\n",
            "Epoch 26/30\n",
            "481405/481405 [==============================] - 1s 2us/step - loss: 0.1197 - accuracy: 0.9341 - val_loss: 0.1509 - val_accuracy: 0.9330\n",
            "Epoch 27/30\n",
            "481405/481405 [==============================] - 1s 2us/step - loss: 0.1182 - accuracy: 0.9350 - val_loss: 0.3098 - val_accuracy: 0.9322\n",
            "Epoch 28/30\n",
            "481405/481405 [==============================] - 1s 2us/step - loss: 0.1183 - accuracy: 0.9353 - val_loss: 0.1678 - val_accuracy: 0.9326\n",
            "Epoch 29/30\n",
            "481405/481405 [==============================] - 1s 2us/step - loss: 0.1166 - accuracy: 0.9362 - val_loss: 0.2016 - val_accuracy: 0.9258\n",
            "Epoch 30/30\n",
            "481405/481405 [==============================] - 1s 2us/step - loss: 0.1177 - accuracy: 0.9351 - val_loss: 0.3623 - val_accuracy: 0.9321\n",
            "53490/53490 [==============================] - 5s 91us/step\n",
            "[3.14606778 0.59447982]\n",
            "Train on 481405 samples, validate on 53490 samples\n",
            "Epoch 1/30\n",
            "481405/481405 [==============================] - 3s 6us/step - loss: 0.2313 - accuracy: 0.8814 - val_loss: 3.7013 - val_accuracy: 0.6821\n",
            "Epoch 2/30\n",
            "481405/481405 [==============================] - 1s 2us/step - loss: 0.1611 - accuracy: 0.9135 - val_loss: 0.5176 - val_accuracy: 0.8586\n",
            "Epoch 3/30\n",
            "481405/481405 [==============================] - 1s 2us/step - loss: 0.1612 - accuracy: 0.9126 - val_loss: 0.3081 - val_accuracy: 0.8755\n",
            "Epoch 4/30\n",
            "481405/481405 [==============================] - 1s 2us/step - loss: 0.1547 - accuracy: 0.9153 - val_loss: 0.4745 - val_accuracy: 0.8575\n",
            "Epoch 5/30\n",
            "481405/481405 [==============================] - 1s 2us/step - loss: 0.1526 - accuracy: 0.9166 - val_loss: 0.1556 - val_accuracy: 0.9172\n",
            "Epoch 6/30\n",
            "481405/481405 [==============================] - 1s 2us/step - loss: 0.1514 - accuracy: 0.9170 - val_loss: 0.1890 - val_accuracy: 0.8664\n",
            "Epoch 7/30\n",
            "481405/481405 [==============================] - 1s 2us/step - loss: 0.1467 - accuracy: 0.9203 - val_loss: 0.1531 - val_accuracy: 0.9176\n",
            "Epoch 8/30\n",
            "481405/481405 [==============================] - 1s 2us/step - loss: 0.1464 - accuracy: 0.9193 - val_loss: 0.1659 - val_accuracy: 0.8981\n",
            "Epoch 9/30\n",
            "481405/481405 [==============================] - 1s 2us/step - loss: 0.1427 - accuracy: 0.9228 - val_loss: 0.2603 - val_accuracy: 0.8643\n",
            "Epoch 10/30\n",
            "481405/481405 [==============================] - 1s 2us/step - loss: 0.1421 - accuracy: 0.9234 - val_loss: 0.3138 - val_accuracy: 0.9019\n",
            "Epoch 11/30\n",
            "481405/481405 [==============================] - 1s 2us/step - loss: 0.1473 - accuracy: 0.9197 - val_loss: 0.3451 - val_accuracy: 0.8848\n",
            "Epoch 12/30\n",
            "481405/481405 [==============================] - 1s 2us/step - loss: 0.1360 - accuracy: 0.9276 - val_loss: 0.2908 - val_accuracy: 0.9119\n",
            "Epoch 13/30\n",
            "481405/481405 [==============================] - 1s 2us/step - loss: 0.1299 - accuracy: 0.9303 - val_loss: 0.2928 - val_accuracy: 0.9221\n",
            "Epoch 14/30\n",
            "481405/481405 [==============================] - 1s 2us/step - loss: 0.1262 - accuracy: 0.9318 - val_loss: 0.3634 - val_accuracy: 0.9180\n",
            "Epoch 15/30\n",
            "481405/481405 [==============================] - 1s 2us/step - loss: 0.1260 - accuracy: 0.9318 - val_loss: 0.2971 - val_accuracy: 0.9210\n",
            "Epoch 16/30\n",
            "481405/481405 [==============================] - 1s 2us/step - loss: 0.1230 - accuracy: 0.9325 - val_loss: 0.1737 - val_accuracy: 0.9267\n",
            "Epoch 17/30\n",
            "481405/481405 [==============================] - 1s 2us/step - loss: 0.1218 - accuracy: 0.9337 - val_loss: 0.3044 - val_accuracy: 0.9131\n",
            "Epoch 18/30\n",
            "481405/481405 [==============================] - 1s 2us/step - loss: 0.1200 - accuracy: 0.9339 - val_loss: 0.2581 - val_accuracy: 0.9153\n",
            "Epoch 19/30\n",
            "481405/481405 [==============================] - 1s 2us/step - loss: 0.1210 - accuracy: 0.9337 - val_loss: 0.1943 - val_accuracy: 0.9191\n",
            "Epoch 20/30\n",
            "481405/481405 [==============================] - 1s 2us/step - loss: 0.1188 - accuracy: 0.9345 - val_loss: 0.1425 - val_accuracy: 0.9295\n",
            "Epoch 21/30\n",
            "481405/481405 [==============================] - 1s 2us/step - loss: 0.1199 - accuracy: 0.9339 - val_loss: 0.2396 - val_accuracy: 0.9181\n",
            "Epoch 22/30\n",
            "481405/481405 [==============================] - 1s 2us/step - loss: 0.1188 - accuracy: 0.9355 - val_loss: 0.1760 - val_accuracy: 0.9278\n",
            "Epoch 23/30\n",
            "481405/481405 [==============================] - 1s 2us/step - loss: 0.1211 - accuracy: 0.9335 - val_loss: 0.3436 - val_accuracy: 0.9153\n",
            "Epoch 24/30\n",
            "481405/481405 [==============================] - 1s 2us/step - loss: 0.1181 - accuracy: 0.9340 - val_loss: 0.3636 - val_accuracy: 0.9159\n",
            "Epoch 25/30\n",
            "481405/481405 [==============================] - 1s 2us/step - loss: 0.1178 - accuracy: 0.9350 - val_loss: 0.2849 - val_accuracy: 0.9179\n",
            "Epoch 26/30\n",
            "481405/481405 [==============================] - 1s 2us/step - loss: 0.1176 - accuracy: 0.9352 - val_loss: 0.2301 - val_accuracy: 0.9195\n",
            "Epoch 27/30\n",
            "481405/481405 [==============================] - 1s 2us/step - loss: 0.1176 - accuracy: 0.9347 - val_loss: 0.2132 - val_accuracy: 0.9184\n",
            "Epoch 28/30\n",
            "481405/481405 [==============================] - 1s 2us/step - loss: 0.1173 - accuracy: 0.9352 - val_loss: 0.1688 - val_accuracy: 0.9327\n",
            "Epoch 29/30\n",
            "481405/481405 [==============================] - 1s 2us/step - loss: 0.1176 - accuracy: 0.9349 - val_loss: 0.3247 - val_accuracy: 0.9184\n",
            "Epoch 30/30\n",
            "481405/481405 [==============================] - 1s 2us/step - loss: 0.1181 - accuracy: 0.9358 - val_loss: 0.2067 - val_accuracy: 0.9235\n",
            "53490/53490 [==============================] - 5s 88us/step\n",
            "[3.14606778 0.59447982]\n",
            "Train on 481405 samples, validate on 53490 samples\n",
            "Epoch 1/30\n",
            "481405/481405 [==============================] - 3s 5us/step - loss: 0.2164 - accuracy: 0.8853 - val_loss: 41.7128 - val_accuracy: 0.1885\n",
            "Epoch 2/30\n",
            "481405/481405 [==============================] - 1s 2us/step - loss: 0.1597 - accuracy: 0.9126 - val_loss: 1.2011 - val_accuracy: 0.9059\n",
            "Epoch 3/30\n",
            "481405/481405 [==============================] - 1s 2us/step - loss: 0.1525 - accuracy: 0.9172 - val_loss: 0.3459 - val_accuracy: 0.9092\n",
            "Epoch 4/30\n",
            "481405/481405 [==============================] - 1s 2us/step - loss: 0.1513 - accuracy: 0.9179 - val_loss: 0.2219 - val_accuracy: 0.9168\n",
            "Epoch 5/30\n",
            "481405/481405 [==============================] - 1s 2us/step - loss: 0.1503 - accuracy: 0.9172 - val_loss: 0.1683 - val_accuracy: 0.9180\n",
            "Epoch 6/30\n",
            "481405/481405 [==============================] - 1s 2us/step - loss: 0.1474 - accuracy: 0.9190 - val_loss: 0.1666 - val_accuracy: 0.9129\n",
            "Epoch 7/30\n",
            "481405/481405 [==============================] - 1s 2us/step - loss: 0.1475 - accuracy: 0.9187 - val_loss: 0.2199 - val_accuracy: 0.9208\n",
            "Epoch 8/30\n",
            "481405/481405 [==============================] - 1s 2us/step - loss: 0.1449 - accuracy: 0.9211 - val_loss: 0.3854 - val_accuracy: 0.9146\n",
            "Epoch 9/30\n",
            "481405/481405 [==============================] - 1s 2us/step - loss: 0.1438 - accuracy: 0.9224 - val_loss: 0.2223 - val_accuracy: 0.9198\n",
            "Epoch 10/30\n",
            "481405/481405 [==============================] - 1s 2us/step - loss: 0.1434 - accuracy: 0.9227 - val_loss: 0.4087 - val_accuracy: 0.9186\n",
            "Epoch 11/30\n",
            "481405/481405 [==============================] - 1s 2us/step - loss: 0.1408 - accuracy: 0.9237 - val_loss: 0.3106 - val_accuracy: 0.9182\n",
            "Epoch 12/30\n",
            "481405/481405 [==============================] - 1s 2us/step - loss: 0.1316 - accuracy: 0.9292 - val_loss: 1.0067 - val_accuracy: 0.9131\n",
            "Epoch 13/30\n",
            "481405/481405 [==============================] - 1s 2us/step - loss: 0.1298 - accuracy: 0.9305 - val_loss: 1.5759 - val_accuracy: 0.9094\n",
            "Epoch 14/30\n",
            "481405/481405 [==============================] - 1s 2us/step - loss: 0.1246 - accuracy: 0.9314 - val_loss: 0.7744 - val_accuracy: 0.9126\n",
            "Epoch 15/30\n",
            "481405/481405 [==============================] - 1s 2us/step - loss: 0.1245 - accuracy: 0.9324 - val_loss: 0.6031 - val_accuracy: 0.9122\n",
            "Epoch 16/30\n",
            "481405/481405 [==============================] - 1s 2us/step - loss: 0.1189 - accuracy: 0.9340 - val_loss: 0.6651 - val_accuracy: 0.9173\n",
            "Epoch 17/30\n",
            "481405/481405 [==============================] - 1s 2us/step - loss: 0.1185 - accuracy: 0.9351 - val_loss: 0.3090 - val_accuracy: 0.9205\n",
            "Epoch 18/30\n",
            "481405/481405 [==============================] - 1s 2us/step - loss: 0.1170 - accuracy: 0.9351 - val_loss: 0.2886 - val_accuracy: 0.9194\n",
            "Epoch 19/30\n",
            "481405/481405 [==============================] - 1s 2us/step - loss: 0.1167 - accuracy: 0.9355 - val_loss: 0.2002 - val_accuracy: 0.9254\n",
            "Epoch 20/30\n",
            "481405/481405 [==============================] - 1s 2us/step - loss: 0.1155 - accuracy: 0.9362 - val_loss: 0.3228 - val_accuracy: 0.9217\n",
            "Epoch 21/30\n",
            "481405/481405 [==============================] - 1s 2us/step - loss: 0.1156 - accuracy: 0.9345 - val_loss: 0.3338 - val_accuracy: 0.9197\n",
            "Epoch 22/30\n",
            "481405/481405 [==============================] - 1s 2us/step - loss: 0.1152 - accuracy: 0.9354 - val_loss: 0.2887 - val_accuracy: 0.9196\n",
            "Epoch 23/30\n",
            "481405/481405 [==============================] - 1s 2us/step - loss: 0.1141 - accuracy: 0.9369 - val_loss: 0.3379 - val_accuracy: 0.9188\n",
            "Epoch 24/30\n",
            "481405/481405 [==============================] - 1s 2us/step - loss: 0.1128 - accuracy: 0.9366 - val_loss: 0.2604 - val_accuracy: 0.9196\n",
            "Epoch 25/30\n",
            "481405/481405 [==============================] - 1s 2us/step - loss: 0.1136 - accuracy: 0.9378 - val_loss: 0.1926 - val_accuracy: 0.9192\n",
            "Epoch 26/30\n",
            "481405/481405 [==============================] - 1s 2us/step - loss: 0.1127 - accuracy: 0.9370 - val_loss: 0.1381 - val_accuracy: 0.9317\n",
            "Epoch 27/30\n",
            "481405/481405 [==============================] - 1s 2us/step - loss: 0.1130 - accuracy: 0.9375 - val_loss: 0.3173 - val_accuracy: 0.9157\n",
            "Epoch 28/30\n",
            "481405/481405 [==============================] - 1s 2us/step - loss: 0.1128 - accuracy: 0.9370 - val_loss: 0.2599 - val_accuracy: 0.9220\n",
            "Epoch 29/30\n",
            "481405/481405 [==============================] - 1s 2us/step - loss: 0.1147 - accuracy: 0.9377 - val_loss: 0.2688 - val_accuracy: 0.9289\n",
            "Epoch 30/30\n",
            "481405/481405 [==============================] - 1s 2us/step - loss: 0.1126 - accuracy: 0.9364 - val_loss: 0.1447 - val_accuracy: 0.9266\n",
            "53490/53490 [==============================] - 5s 92us/step\n",
            "[3.14606778 0.59447982]\n",
            "Train on 481405 samples, validate on 53490 samples\n",
            "Epoch 1/30\n",
            "481405/481405 [==============================] - 2s 5us/step - loss: 0.2420 - accuracy: 0.8730 - val_loss: 186.5794 - val_accuracy: 0.1626\n",
            "Epoch 2/30\n",
            "481405/481405 [==============================] - 1s 2us/step - loss: 0.1614 - accuracy: 0.9130 - val_loss: 1.0686 - val_accuracy: 0.5938\n",
            "Epoch 3/30\n",
            "481405/481405 [==============================] - 1s 2us/step - loss: 0.1565 - accuracy: 0.9154 - val_loss: 0.4178 - val_accuracy: 0.8808\n",
            "Epoch 4/30\n",
            "481405/481405 [==============================] - 1s 2us/step - loss: 0.1625 - accuracy: 0.9121 - val_loss: 0.4275 - val_accuracy: 0.8711\n",
            "Epoch 5/30\n",
            "481405/481405 [==============================] - 1s 2us/step - loss: 0.1581 - accuracy: 0.9163 - val_loss: 0.2638 - val_accuracy: 0.9061\n",
            "Epoch 6/30\n",
            "481405/481405 [==============================] - 1s 2us/step - loss: 0.1590 - accuracy: 0.9160 - val_loss: 0.1718 - val_accuracy: 0.9098\n",
            "Epoch 7/30\n",
            "481405/481405 [==============================] - 1s 2us/step - loss: 0.1578 - accuracy: 0.9157 - val_loss: 0.1627 - val_accuracy: 0.9113\n",
            "Epoch 8/30\n",
            "481405/481405 [==============================] - 1s 2us/step - loss: 0.1567 - accuracy: 0.9163 - val_loss: 0.1559 - val_accuracy: 0.9170\n",
            "Epoch 9/30\n",
            "481405/481405 [==============================] - 1s 2us/step - loss: 0.1535 - accuracy: 0.9164 - val_loss: 0.2168 - val_accuracy: 0.8420\n",
            "Epoch 10/30\n",
            "481405/481405 [==============================] - 1s 2us/step - loss: 0.1513 - accuracy: 0.9171 - val_loss: 0.1659 - val_accuracy: 0.8970\n",
            "Epoch 11/30\n",
            "481405/481405 [==============================] - 1s 2us/step - loss: 0.1492 - accuracy: 0.9175 - val_loss: 0.2378 - val_accuracy: 0.9167\n",
            "Epoch 12/30\n",
            "481405/481405 [==============================] - 1s 2us/step - loss: 0.1454 - accuracy: 0.9200 - val_loss: 0.2819 - val_accuracy: 0.9072\n",
            "Epoch 13/30\n",
            "481405/481405 [==============================] - 1s 2us/step - loss: 0.1447 - accuracy: 0.9209 - val_loss: 0.1790 - val_accuracy: 0.9258\n",
            "Epoch 14/30\n",
            "481405/481405 [==============================] - 1s 2us/step - loss: 0.1420 - accuracy: 0.9236 - val_loss: 0.2074 - val_accuracy: 0.9042\n",
            "Epoch 15/30\n",
            "481405/481405 [==============================] - 1s 2us/step - loss: 0.1381 - accuracy: 0.9253 - val_loss: 0.2892 - val_accuracy: 0.9116\n",
            "Epoch 16/30\n",
            "481405/481405 [==============================] - 1s 2us/step - loss: 0.1294 - accuracy: 0.9304 - val_loss: 0.1473 - val_accuracy: 0.9104\n",
            "Epoch 17/30\n",
            "481405/481405 [==============================] - 1s 2us/step - loss: 0.1251 - accuracy: 0.9331 - val_loss: 0.1733 - val_accuracy: 0.9207\n",
            "Epoch 18/30\n",
            "481405/481405 [==============================] - 1s 2us/step - loss: 0.1240 - accuracy: 0.9333 - val_loss: 0.1861 - val_accuracy: 0.9372\n",
            "Epoch 19/30\n",
            "481405/481405 [==============================] - 1s 2us/step - loss: 0.1207 - accuracy: 0.9349 - val_loss: 0.2215 - val_accuracy: 0.9285\n",
            "Epoch 20/30\n",
            "481405/481405 [==============================] - 1s 2us/step - loss: 0.1207 - accuracy: 0.9346 - val_loss: 0.2107 - val_accuracy: 0.9266\n",
            "Epoch 21/30\n",
            "481405/481405 [==============================] - 1s 2us/step - loss: 0.1188 - accuracy: 0.9356 - val_loss: 0.2686 - val_accuracy: 0.9191\n",
            "Epoch 22/30\n",
            "481405/481405 [==============================] - 1s 2us/step - loss: 0.1308 - accuracy: 0.9303 - val_loss: 0.1965 - val_accuracy: 0.9177\n",
            "Epoch 23/30\n",
            "481405/481405 [==============================] - 1s 2us/step - loss: 0.1220 - accuracy: 0.9343 - val_loss: 0.1711 - val_accuracy: 0.9338\n",
            "Epoch 24/30\n",
            "481405/481405 [==============================] - 1s 2us/step - loss: 0.1209 - accuracy: 0.9351 - val_loss: 0.1824 - val_accuracy: 0.9329\n",
            "Epoch 25/30\n",
            "481405/481405 [==============================] - 1s 2us/step - loss: 0.1216 - accuracy: 0.9328 - val_loss: 0.1700 - val_accuracy: 0.9315\n",
            "Epoch 26/30\n",
            "481405/481405 [==============================] - 1s 2us/step - loss: 0.1228 - accuracy: 0.9333 - val_loss: 0.1834 - val_accuracy: 0.9228\n",
            "Epoch 27/30\n",
            "481405/481405 [==============================] - 1s 2us/step - loss: 0.1200 - accuracy: 0.9347 - val_loss: 0.2865 - val_accuracy: 0.9325\n",
            "Epoch 28/30\n",
            "481405/481405 [==============================] - 1s 2us/step - loss: 0.1186 - accuracy: 0.9354 - val_loss: 0.1228 - val_accuracy: 0.9371\n",
            "Epoch 29/30\n",
            "481405/481405 [==============================] - 1s 2us/step - loss: 0.1186 - accuracy: 0.9358 - val_loss: 0.1665 - val_accuracy: 0.9371\n",
            "Epoch 30/30\n",
            "481405/481405 [==============================] - 1s 2us/step - loss: 0.1210 - accuracy: 0.9339 - val_loss: 0.2756 - val_accuracy: 0.9307\n",
            "53490/53490 [==============================] - 5s 92us/step\n",
            "[3.14607432 0.59447958]\n",
            "Train on 481406 samples, validate on 53489 samples\n",
            "Epoch 1/30\n",
            "481406/481406 [==============================] - 2s 5us/step - loss: 0.2164 - accuracy: 0.8834 - val_loss: 31.2773 - val_accuracy: 0.2028\n",
            "Epoch 2/30\n",
            "481406/481406 [==============================] - 1s 2us/step - loss: 0.1597 - accuracy: 0.9125 - val_loss: 1.4623 - val_accuracy: 0.8865\n",
            "Epoch 3/30\n",
            "481406/481406 [==============================] - 1s 2us/step - loss: 0.1545 - accuracy: 0.9161 - val_loss: 0.6714 - val_accuracy: 0.9042\n",
            "Epoch 4/30\n",
            "481406/481406 [==============================] - 1s 2us/step - loss: 0.1536 - accuracy: 0.9153 - val_loss: 0.3150 - val_accuracy: 0.9134\n",
            "Epoch 5/30\n",
            "481406/481406 [==============================] - 1s 2us/step - loss: 0.1503 - accuracy: 0.9180 - val_loss: 0.3189 - val_accuracy: 0.9133\n",
            "Epoch 6/30\n",
            "481406/481406 [==============================] - 1s 2us/step - loss: 0.1492 - accuracy: 0.9178 - val_loss: 0.2568 - val_accuracy: 0.9153\n",
            "Epoch 7/30\n",
            "481406/481406 [==============================] - 1s 2us/step - loss: 0.1456 - accuracy: 0.9197 - val_loss: 0.1569 - val_accuracy: 0.9170\n",
            "Epoch 8/30\n",
            "481406/481406 [==============================] - 1s 2us/step - loss: 0.1425 - accuracy: 0.9216 - val_loss: 0.3784 - val_accuracy: 0.9121\n",
            "Epoch 9/30\n",
            "481406/481406 [==============================] - 1s 2us/step - loss: 0.1435 - accuracy: 0.9211 - val_loss: 0.4184 - val_accuracy: 0.9153\n",
            "Epoch 10/30\n",
            "481406/481406 [==============================] - 1s 2us/step - loss: 0.1378 - accuracy: 0.9248 - val_loss: 0.1488 - val_accuracy: 0.9253\n",
            "Epoch 11/30\n",
            "481406/481406 [==============================] - 1s 2us/step - loss: 0.1344 - accuracy: 0.9279 - val_loss: 0.2545 - val_accuracy: 0.9166\n",
            "Epoch 12/30\n",
            "481406/481406 [==============================] - 1s 2us/step - loss: 0.1317 - accuracy: 0.9291 - val_loss: 0.3018 - val_accuracy: 0.9176\n",
            "Epoch 13/30\n",
            "481406/481406 [==============================] - 1s 2us/step - loss: 0.1265 - accuracy: 0.9310 - val_loss: 0.2842 - val_accuracy: 0.9182\n",
            "Epoch 14/30\n",
            "481406/481406 [==============================] - 1s 2us/step - loss: 0.1272 - accuracy: 0.9325 - val_loss: 0.2362 - val_accuracy: 0.9194\n",
            "Epoch 15/30\n",
            "481406/481406 [==============================] - 1s 2us/step - loss: 0.1285 - accuracy: 0.9320 - val_loss: 0.3351 - val_accuracy: 0.9176\n",
            "Epoch 16/30\n",
            "481406/481406 [==============================] - 1s 2us/step - loss: 0.1252 - accuracy: 0.9320 - val_loss: 0.1871 - val_accuracy: 0.9265\n",
            "Epoch 17/30\n",
            "481406/481406 [==============================] - 1s 2us/step - loss: 0.1214 - accuracy: 0.9340 - val_loss: 0.1616 - val_accuracy: 0.9306\n",
            "Epoch 18/30\n",
            "481406/481406 [==============================] - 1s 2us/step - loss: 0.1235 - accuracy: 0.9321 - val_loss: 0.1377 - val_accuracy: 0.9264\n",
            "Epoch 19/30\n",
            "481406/481406 [==============================] - 1s 2us/step - loss: 0.1209 - accuracy: 0.9353 - val_loss: 0.1598 - val_accuracy: 0.9273\n",
            "Epoch 20/30\n",
            "481406/481406 [==============================] - 1s 2us/step - loss: 0.1184 - accuracy: 0.9347 - val_loss: 0.3560 - val_accuracy: 0.9308\n",
            "Epoch 21/30\n",
            "481406/481406 [==============================] - 1s 2us/step - loss: 0.1185 - accuracy: 0.9349 - val_loss: 0.3837 - val_accuracy: 0.9200\n",
            "Epoch 22/30\n",
            "481406/481406 [==============================] - 1s 2us/step - loss: 0.1177 - accuracy: 0.9350 - val_loss: 0.2334 - val_accuracy: 0.9202\n",
            "Epoch 23/30\n",
            "481406/481406 [==============================] - 1s 2us/step - loss: 0.1170 - accuracy: 0.9368 - val_loss: 0.1947 - val_accuracy: 0.9228\n",
            "Epoch 24/30\n",
            "481406/481406 [==============================] - 1s 2us/step - loss: 0.1163 - accuracy: 0.9369 - val_loss: 0.3155 - val_accuracy: 0.9315\n",
            "Epoch 25/30\n",
            "481406/481406 [==============================] - 1s 2us/step - loss: 0.1146 - accuracy: 0.9366 - val_loss: 0.5064 - val_accuracy: 0.9322\n",
            "Epoch 26/30\n",
            "481406/481406 [==============================] - 1s 2us/step - loss: 0.1255 - accuracy: 0.9335 - val_loss: 0.2205 - val_accuracy: 0.9273\n",
            "Epoch 27/30\n",
            "481406/481406 [==============================] - 1s 2us/step - loss: 0.1161 - accuracy: 0.9362 - val_loss: 0.1352 - val_accuracy: 0.9339\n",
            "Epoch 28/30\n",
            "481406/481406 [==============================] - 1s 2us/step - loss: 0.1162 - accuracy: 0.9361 - val_loss: 0.1384 - val_accuracy: 0.9304\n",
            "Epoch 29/30\n",
            "481406/481406 [==============================] - 1s 2us/step - loss: 0.1148 - accuracy: 0.9363 - val_loss: 0.1577 - val_accuracy: 0.9308\n",
            "Epoch 30/30\n",
            "481406/481406 [==============================] - 1s 2us/step - loss: 0.1131 - accuracy: 0.9373 - val_loss: 0.2154 - val_accuracy: 0.9204\n",
            "53489/53489 [==============================] - 5s 99us/step\n",
            "[3.14607432 0.59447958]\n",
            "Train on 481406 samples, validate on 53489 samples\n",
            "Epoch 1/30\n",
            "481406/481406 [==============================] - 3s 6us/step - loss: 0.2094 - accuracy: 0.8872 - val_loss: 13.5756 - val_accuracy: 0.1814\n",
            "Epoch 2/30\n",
            "481406/481406 [==============================] - 1s 2us/step - loss: 0.1571 - accuracy: 0.9139 - val_loss: 0.7197 - val_accuracy: 0.7381\n",
            "Epoch 3/30\n",
            "481406/481406 [==============================] - 1s 2us/step - loss: 0.1535 - accuracy: 0.9158 - val_loss: 0.2000 - val_accuracy: 0.9147\n",
            "Epoch 4/30\n",
            "481406/481406 [==============================] - 1s 2us/step - loss: 0.1508 - accuracy: 0.9180 - val_loss: 0.1587 - val_accuracy: 0.9166\n",
            "Epoch 5/30\n",
            "481406/481406 [==============================] - 1s 2us/step - loss: 0.1497 - accuracy: 0.9185 - val_loss: 0.1610 - val_accuracy: 0.9177\n",
            "Epoch 6/30\n",
            "481406/481406 [==============================] - 1s 2us/step - loss: 0.1491 - accuracy: 0.9182 - val_loss: 0.1654 - val_accuracy: 0.9182\n",
            "Epoch 7/30\n",
            "481406/481406 [==============================] - 1s 2us/step - loss: 0.1503 - accuracy: 0.9188 - val_loss: 1.1274 - val_accuracy: 0.4341\n",
            "Epoch 8/30\n",
            "481406/481406 [==============================] - 1s 2us/step - loss: 0.1489 - accuracy: 0.9198 - val_loss: 0.1839 - val_accuracy: 0.9166\n",
            "Epoch 9/30\n",
            "481406/481406 [==============================] - 1s 2us/step - loss: 0.1427 - accuracy: 0.9248 - val_loss: 0.1790 - val_accuracy: 0.9164\n",
            "Epoch 10/30\n",
            "481406/481406 [==============================] - 1s 2us/step - loss: 0.1391 - accuracy: 0.9247 - val_loss: 0.3079 - val_accuracy: 0.9241\n",
            "Epoch 11/30\n",
            "481406/481406 [==============================] - 1s 2us/step - loss: 0.1297 - accuracy: 0.9295 - val_loss: 0.2054 - val_accuracy: 0.9185\n",
            "Epoch 12/30\n",
            "481406/481406 [==============================] - 1s 2us/step - loss: 0.1286 - accuracy: 0.9302 - val_loss: 0.3715 - val_accuracy: 0.9137\n",
            "Epoch 13/30\n",
            "481406/481406 [==============================] - 1s 2us/step - loss: 0.1293 - accuracy: 0.9299 - val_loss: 0.4128 - val_accuracy: 0.9126\n",
            "Epoch 14/30\n",
            "481406/481406 [==============================] - 1s 2us/step - loss: 0.1260 - accuracy: 0.9324 - val_loss: 0.5523 - val_accuracy: 0.9139\n",
            "Epoch 15/30\n",
            "481406/481406 [==============================] - 1s 2us/step - loss: 0.1241 - accuracy: 0.9320 - val_loss: 0.7706 - val_accuracy: 0.9153\n",
            "Epoch 16/30\n",
            "481406/481406 [==============================] - 1s 2us/step - loss: 0.1212 - accuracy: 0.9341 - val_loss: 0.3835 - val_accuracy: 0.9164\n",
            "Epoch 17/30\n",
            "481406/481406 [==============================] - 1s 2us/step - loss: 0.1219 - accuracy: 0.9340 - val_loss: 0.2946 - val_accuracy: 0.9160\n",
            "Epoch 18/30\n",
            "481406/481406 [==============================] - 1s 2us/step - loss: 0.1196 - accuracy: 0.9341 - val_loss: 0.2562 - val_accuracy: 0.9174\n",
            "Epoch 19/30\n",
            "481406/481406 [==============================] - 1s 2us/step - loss: 0.1189 - accuracy: 0.9346 - val_loss: 0.1404 - val_accuracy: 0.9313\n",
            "Epoch 20/30\n",
            "481406/481406 [==============================] - 1s 2us/step - loss: 0.1176 - accuracy: 0.9353 - val_loss: 0.1983 - val_accuracy: 0.9255\n",
            "Epoch 21/30\n",
            "481406/481406 [==============================] - 1s 2us/step - loss: 0.1160 - accuracy: 0.9368 - val_loss: 0.2173 - val_accuracy: 0.9191\n",
            "Epoch 22/30\n",
            "481406/481406 [==============================] - 1s 2us/step - loss: 0.1155 - accuracy: 0.9362 - val_loss: 0.2655 - val_accuracy: 0.9178\n",
            "Epoch 23/30\n",
            "481406/481406 [==============================] - 1s 2us/step - loss: 0.1171 - accuracy: 0.9351 - val_loss: 0.2827 - val_accuracy: 0.9116\n",
            "Epoch 24/30\n",
            "481406/481406 [==============================] - 1s 2us/step - loss: 0.1227 - accuracy: 0.9309 - val_loss: 0.3795 - val_accuracy: 0.9196\n",
            "Epoch 25/30\n",
            "481406/481406 [==============================] - 1s 2us/step - loss: 0.1182 - accuracy: 0.9327 - val_loss: 0.4763 - val_accuracy: 0.9138\n",
            "Epoch 26/30\n",
            "481406/481406 [==============================] - 1s 2us/step - loss: 0.1170 - accuracy: 0.9345 - val_loss: 0.1221 - val_accuracy: 0.9353\n",
            "Epoch 27/30\n",
            "481406/481406 [==============================] - 1s 2us/step - loss: 0.1171 - accuracy: 0.9346 - val_loss: 0.1297 - val_accuracy: 0.9331\n",
            "Epoch 28/30\n",
            "481406/481406 [==============================] - 1s 2us/step - loss: 0.1150 - accuracy: 0.9359 - val_loss: 0.1606 - val_accuracy: 0.9292\n",
            "Epoch 29/30\n",
            "481406/481406 [==============================] - 1s 2us/step - loss: 0.1174 - accuracy: 0.9340 - val_loss: 0.1604 - val_accuracy: 0.9271\n",
            "Epoch 30/30\n",
            "481406/481406 [==============================] - 1s 2us/step - loss: 0.1163 - accuracy: 0.9353 - val_loss: 0.1538 - val_accuracy: 0.9275\n",
            "53489/53489 [==============================] - 5s 93us/step\n",
            "[3.14607432 0.59447958]\n",
            "Train on 481406 samples, validate on 53489 samples\n",
            "Epoch 1/30\n",
            "481406/481406 [==============================] - 3s 5us/step - loss: 0.2399 - accuracy: 0.8773 - val_loss: 28.9609 - val_accuracy: 0.1626\n",
            "Epoch 2/30\n",
            "481406/481406 [==============================] - 1s 2us/step - loss: 0.1627 - accuracy: 0.9089 - val_loss: 3.1876 - val_accuracy: 0.5414\n",
            "Epoch 3/30\n",
            "481406/481406 [==============================] - 1s 2us/step - loss: 0.1571 - accuracy: 0.9145 - val_loss: 0.3885 - val_accuracy: 0.8857\n",
            "Epoch 4/30\n",
            "481406/481406 [==============================] - 1s 2us/step - loss: 0.1545 - accuracy: 0.9152 - val_loss: 0.3422 - val_accuracy: 0.8801\n",
            "Epoch 5/30\n",
            "481406/481406 [==============================] - 1s 2us/step - loss: 0.1552 - accuracy: 0.9132 - val_loss: 0.1786 - val_accuracy: 0.9165\n",
            "Epoch 6/30\n",
            "481406/481406 [==============================] - 1s 2us/step - loss: 0.1488 - accuracy: 0.9199 - val_loss: 0.2450 - val_accuracy: 0.9030\n",
            "Epoch 7/30\n",
            "481406/481406 [==============================] - 1s 2us/step - loss: 0.1435 - accuracy: 0.9226 - val_loss: 0.2207 - val_accuracy: 0.9119\n",
            "Epoch 8/30\n",
            "481406/481406 [==============================] - 1s 2us/step - loss: 0.1398 - accuracy: 0.9244 - val_loss: 0.2169 - val_accuracy: 0.9103\n",
            "Epoch 9/30\n",
            "481406/481406 [==============================] - 1s 2us/step - loss: 0.1326 - accuracy: 0.9298 - val_loss: 0.3456 - val_accuracy: 0.9143\n",
            "Epoch 10/30\n",
            "481406/481406 [==============================] - 1s 2us/step - loss: 0.1332 - accuracy: 0.9288 - val_loss: 0.1961 - val_accuracy: 0.9240\n",
            "Epoch 11/30\n",
            "481406/481406 [==============================] - 1s 2us/step - loss: 0.1305 - accuracy: 0.9290 - val_loss: 0.2110 - val_accuracy: 0.9152\n",
            "Epoch 12/30\n",
            "481406/481406 [==============================] - 1s 2us/step - loss: 0.1279 - accuracy: 0.9306 - val_loss: 0.2972 - val_accuracy: 0.9131\n",
            "Epoch 13/30\n",
            "481406/481406 [==============================] - 1s 2us/step - loss: 0.1285 - accuracy: 0.9303 - val_loss: 0.3385 - val_accuracy: 0.9129\n",
            "Epoch 14/30\n",
            "481406/481406 [==============================] - 1s 2us/step - loss: 0.1297 - accuracy: 0.9303 - val_loss: 0.2806 - val_accuracy: 0.9131\n",
            "Epoch 15/30\n",
            "481406/481406 [==============================] - 1s 2us/step - loss: 0.1258 - accuracy: 0.9314 - val_loss: 0.2276 - val_accuracy: 0.9145\n",
            "Epoch 16/30\n",
            "481406/481406 [==============================] - 1s 2us/step - loss: 0.1252 - accuracy: 0.9303 - val_loss: 0.1602 - val_accuracy: 0.9191\n",
            "Epoch 17/30\n",
            "481406/481406 [==============================] - 1s 2us/step - loss: 0.1253 - accuracy: 0.9312 - val_loss: 0.1292 - val_accuracy: 0.9327\n",
            "Epoch 18/30\n",
            "481406/481406 [==============================] - 1s 2us/step - loss: 0.1236 - accuracy: 0.9311 - val_loss: 0.2136 - val_accuracy: 0.9086\n",
            "Epoch 19/30\n",
            "481406/481406 [==============================] - 1s 2us/step - loss: 0.1250 - accuracy: 0.9315 - val_loss: 0.1647 - val_accuracy: 0.9201\n",
            "Epoch 20/30\n",
            "481406/481406 [==============================] - 1s 2us/step - loss: 0.1239 - accuracy: 0.9321 - val_loss: 0.1418 - val_accuracy: 0.9260\n",
            "Epoch 21/30\n",
            "481406/481406 [==============================] - 1s 2us/step - loss: 0.1224 - accuracy: 0.9325 - val_loss: 0.1392 - val_accuracy: 0.9319\n",
            "Epoch 22/30\n",
            "481406/481406 [==============================] - 1s 2us/step - loss: 0.1233 - accuracy: 0.9318 - val_loss: 0.2839 - val_accuracy: 0.9132\n",
            "Epoch 23/30\n",
            "481406/481406 [==============================] - 1s 2us/step - loss: 0.1234 - accuracy: 0.9328 - val_loss: 0.2589 - val_accuracy: 0.9132\n",
            "Epoch 24/30\n",
            "481406/481406 [==============================] - 1s 2us/step - loss: 0.1244 - accuracy: 0.9314 - val_loss: 0.1301 - val_accuracy: 0.9297\n",
            "Epoch 25/30\n",
            "481406/481406 [==============================] - 1s 2us/step - loss: 0.1225 - accuracy: 0.9312 - val_loss: 0.2142 - val_accuracy: 0.9191\n",
            "Epoch 26/30\n",
            "481406/481406 [==============================] - 1s 2us/step - loss: 0.1257 - accuracy: 0.9317 - val_loss: 0.5444 - val_accuracy: 0.9124\n",
            "Epoch 27/30\n",
            "481406/481406 [==============================] - 1s 2us/step - loss: 0.1238 - accuracy: 0.9322 - val_loss: 0.2419 - val_accuracy: 0.9130\n",
            "Epoch 28/30\n",
            "481406/481406 [==============================] - 1s 2us/step - loss: 0.1233 - accuracy: 0.9321 - val_loss: 0.1441 - val_accuracy: 0.9326\n",
            "Epoch 29/30\n",
            "481406/481406 [==============================] - 1s 2us/step - loss: 0.1240 - accuracy: 0.9314 - val_loss: 0.3609 - val_accuracy: 0.9134\n",
            "Epoch 30/30\n",
            "481406/481406 [==============================] - 1s 2us/step - loss: 0.1224 - accuracy: 0.9318 - val_loss: 0.4850 - val_accuracy: 0.9123\n",
            "53489/53489 [==============================] - 5s 92us/step\n",
            "[3.14607432 0.59447958]\n",
            "Train on 481406 samples, validate on 53489 samples\n",
            "Epoch 1/30\n",
            "481406/481406 [==============================] - 2s 5us/step - loss: 0.2084 - accuracy: 0.8886 - val_loss: 18.5746 - val_accuracy: 0.1845\n",
            "Epoch 2/30\n",
            "481406/481406 [==============================] - 1s 2us/step - loss: 0.1620 - accuracy: 0.9102 - val_loss: 2.9248 - val_accuracy: 0.8926\n",
            "Epoch 3/30\n",
            "481406/481406 [==============================] - 1s 2us/step - loss: 0.1536 - accuracy: 0.9151 - val_loss: 0.7257 - val_accuracy: 0.9077\n",
            "Epoch 4/30\n",
            "481406/481406 [==============================] - 1s 2us/step - loss: 0.1505 - accuracy: 0.9170 - val_loss: 0.1571 - val_accuracy: 0.9112\n",
            "Epoch 5/30\n",
            "481406/481406 [==============================] - 1s 2us/step - loss: 0.1540 - accuracy: 0.9127 - val_loss: 0.2096 - val_accuracy: 0.9135\n",
            "Epoch 6/30\n",
            "481406/481406 [==============================] - 1s 2us/step - loss: 0.1472 - accuracy: 0.9197 - val_loss: 0.1772 - val_accuracy: 0.9162\n",
            "Epoch 7/30\n",
            "481406/481406 [==============================] - 1s 2us/step - loss: 0.1444 - accuracy: 0.9221 - val_loss: 0.1649 - val_accuracy: 0.9158\n",
            "Epoch 8/30\n",
            "481406/481406 [==============================] - 1s 2us/step - loss: 0.1430 - accuracy: 0.9232 - val_loss: 0.1541 - val_accuracy: 0.9167\n",
            "Epoch 9/30\n",
            "481406/481406 [==============================] - 1s 2us/step - loss: 0.1464 - accuracy: 0.9219 - val_loss: 0.4869 - val_accuracy: 0.9099\n",
            "Epoch 10/30\n",
            "481406/481406 [==============================] - 1s 2us/step - loss: 0.1461 - accuracy: 0.9210 - val_loss: 0.6692 - val_accuracy: 0.9055\n",
            "Epoch 11/30\n",
            "481406/481406 [==============================] - 1s 2us/step - loss: 0.1373 - accuracy: 0.9269 - val_loss: 1.0473 - val_accuracy: 0.9069\n",
            "Epoch 12/30\n",
            "481406/481406 [==============================] - 1s 2us/step - loss: 0.1274 - accuracy: 0.9325 - val_loss: 0.5202 - val_accuracy: 0.9127\n",
            "Epoch 13/30\n",
            "481406/481406 [==============================] - 1s 2us/step - loss: 0.1244 - accuracy: 0.9332 - val_loss: 0.4347 - val_accuracy: 0.9131\n",
            "Epoch 14/30\n",
            "481406/481406 [==============================] - 1s 2us/step - loss: 0.1266 - accuracy: 0.9322 - val_loss: 0.2155 - val_accuracy: 0.9144\n",
            "Epoch 15/30\n",
            "481406/481406 [==============================] - 1s 2us/step - loss: 0.1250 - accuracy: 0.9333 - val_loss: 0.1932 - val_accuracy: 0.9192\n",
            "Epoch 16/30\n",
            "481406/481406 [==============================] - 1s 2us/step - loss: 0.1222 - accuracy: 0.9344 - val_loss: 0.2723 - val_accuracy: 0.9120\n",
            "Epoch 17/30\n",
            "481406/481406 [==============================] - 1s 2us/step - loss: 0.1220 - accuracy: 0.9343 - val_loss: 0.5243 - val_accuracy: 0.9128\n",
            "Epoch 18/30\n",
            "481406/481406 [==============================] - 1s 2us/step - loss: 0.1226 - accuracy: 0.9345 - val_loss: 0.2238 - val_accuracy: 0.9130\n",
            "Epoch 19/30\n",
            "481406/481406 [==============================] - 1s 2us/step - loss: 0.1218 - accuracy: 0.9341 - val_loss: 0.2139 - val_accuracy: 0.9148\n",
            "Epoch 20/30\n",
            "481406/481406 [==============================] - 1s 2us/step - loss: 0.1204 - accuracy: 0.9352 - val_loss: 0.1569 - val_accuracy: 0.9302\n",
            "Epoch 21/30\n",
            "481406/481406 [==============================] - 1s 2us/step - loss: 0.1195 - accuracy: 0.9353 - val_loss: 0.1408 - val_accuracy: 0.9336\n",
            "Epoch 22/30\n",
            "481406/481406 [==============================] - 1s 2us/step - loss: 0.1192 - accuracy: 0.9359 - val_loss: 0.1911 - val_accuracy: 0.9267\n",
            "Epoch 23/30\n",
            "481406/481406 [==============================] - 1s 2us/step - loss: 0.1176 - accuracy: 0.9367 - val_loss: 0.2911 - val_accuracy: 0.9270\n",
            "Epoch 24/30\n",
            "481406/481406 [==============================] - 1s 2us/step - loss: 0.1194 - accuracy: 0.9354 - val_loss: 0.1741 - val_accuracy: 0.9262\n",
            "Epoch 25/30\n",
            "481406/481406 [==============================] - 1s 2us/step - loss: 0.1198 - accuracy: 0.9344 - val_loss: 0.2326 - val_accuracy: 0.9161\n",
            "Epoch 26/30\n",
            "481406/481406 [==============================] - 1s 2us/step - loss: 0.1204 - accuracy: 0.9341 - val_loss: 0.3453 - val_accuracy: 0.9114\n",
            "Epoch 27/30\n",
            "481406/481406 [==============================] - 1s 2us/step - loss: 0.1225 - accuracy: 0.9339 - val_loss: 0.4833 - val_accuracy: 0.9114\n",
            "Epoch 28/30\n",
            "481406/481406 [==============================] - 1s 2us/step - loss: 0.1230 - accuracy: 0.9302 - val_loss: 0.4065 - val_accuracy: 0.9124\n",
            "Epoch 29/30\n",
            "481406/481406 [==============================] - 1s 2us/step - loss: 0.1225 - accuracy: 0.9322 - val_loss: 0.3856 - val_accuracy: 0.9113\n",
            "Epoch 30/30\n",
            "481406/481406 [==============================] - 1s 2us/step - loss: 0.1224 - accuracy: 0.9335 - val_loss: 0.2138 - val_accuracy: 0.9182\n",
            "53489/53489 [==============================] - 5s 92us/step\n",
            "[3.14607432 0.59447958]\n",
            "Train on 481406 samples, validate on 53489 samples\n",
            "Epoch 1/30\n",
            "481406/481406 [==============================] - 3s 6us/step - loss: 0.2144 - accuracy: 0.8853 - val_loss: 37.4513 - val_accuracy: 0.1649\n",
            "Epoch 2/30\n",
            "481406/481406 [==============================] - 1s 2us/step - loss: 0.1584 - accuracy: 0.9151 - val_loss: 0.7678 - val_accuracy: 0.8997\n",
            "Epoch 3/30\n",
            "481406/481406 [==============================] - 1s 2us/step - loss: 0.1548 - accuracy: 0.9154 - val_loss: 0.4563 - val_accuracy: 0.9081\n",
            "Epoch 4/30\n",
            "481406/481406 [==============================] - 1s 2us/step - loss: 0.1507 - accuracy: 0.9172 - val_loss: 0.4145 - val_accuracy: 0.9128\n",
            "Epoch 5/30\n",
            "481406/481406 [==============================] - 1s 2us/step - loss: 0.1497 - accuracy: 0.9187 - val_loss: 0.1988 - val_accuracy: 0.9145\n",
            "Epoch 6/30\n",
            "481406/481406 [==============================] - 1s 2us/step - loss: 0.1462 - accuracy: 0.9211 - val_loss: 0.2373 - val_accuracy: 0.9181\n",
            "Epoch 7/30\n",
            "481406/481406 [==============================] - 1s 2us/step - loss: 0.1455 - accuracy: 0.9221 - val_loss: 0.3412 - val_accuracy: 0.9119\n",
            "Epoch 8/30\n",
            "481406/481406 [==============================] - 1s 2us/step - loss: 0.1467 - accuracy: 0.9189 - val_loss: 0.3126 - val_accuracy: 0.9170\n",
            "Epoch 9/30\n",
            "481406/481406 [==============================] - 1s 2us/step - loss: 0.1395 - accuracy: 0.9252 - val_loss: 0.2648 - val_accuracy: 0.9195\n",
            "Epoch 10/30\n",
            "481406/481406 [==============================] - 1s 2us/step - loss: 0.1377 - accuracy: 0.9273 - val_loss: 0.2292 - val_accuracy: 0.9195\n",
            "Epoch 11/30\n",
            "481406/481406 [==============================] - 1s 2us/step - loss: 0.1326 - accuracy: 0.9295 - val_loss: 0.6240 - val_accuracy: 0.9187\n",
            "Epoch 12/30\n",
            "481406/481406 [==============================] - 1s 2us/step - loss: 0.1249 - accuracy: 0.9337 - val_loss: 0.4169 - val_accuracy: 0.9223\n",
            "Epoch 13/30\n",
            "481406/481406 [==============================] - 1s 2us/step - loss: 0.1265 - accuracy: 0.9323 - val_loss: 0.7022 - val_accuracy: 0.9107\n",
            "Epoch 14/30\n",
            "481406/481406 [==============================] - 1s 2us/step - loss: 0.1228 - accuracy: 0.9337 - val_loss: 0.2501 - val_accuracy: 0.9318\n",
            "Epoch 15/30\n",
            "481406/481406 [==============================] - 1s 2us/step - loss: 0.1233 - accuracy: 0.9339 - val_loss: 0.3662 - val_accuracy: 0.9168\n",
            "Epoch 16/30\n",
            "481406/481406 [==============================] - 1s 2us/step - loss: 0.1239 - accuracy: 0.9325 - val_loss: 0.4251 - val_accuracy: 0.9120\n",
            "Epoch 17/30\n",
            "481406/481406 [==============================] - 1s 2us/step - loss: 0.1223 - accuracy: 0.9331 - val_loss: 0.2520 - val_accuracy: 0.9259\n",
            "Epoch 18/30\n",
            "481406/481406 [==============================] - 1s 2us/step - loss: 0.1204 - accuracy: 0.9340 - val_loss: 0.3329 - val_accuracy: 0.9294\n",
            "Epoch 19/30\n",
            "481406/481406 [==============================] - 1s 2us/step - loss: 0.1205 - accuracy: 0.9347 - val_loss: 0.1725 - val_accuracy: 0.9249\n",
            "Epoch 20/30\n",
            "481406/481406 [==============================] - 1s 2us/step - loss: 0.1212 - accuracy: 0.9343 - val_loss: 0.2683 - val_accuracy: 0.9214\n",
            "Epoch 21/30\n",
            "481406/481406 [==============================] - 1s 2us/step - loss: 0.1214 - accuracy: 0.9336 - val_loss: 0.2063 - val_accuracy: 0.9201\n",
            "Epoch 22/30\n",
            "481406/481406 [==============================] - 1s 2us/step - loss: 0.1181 - accuracy: 0.9356 - val_loss: 0.1730 - val_accuracy: 0.9265\n",
            "Epoch 23/30\n",
            "481406/481406 [==============================] - 1s 2us/step - loss: 0.1179 - accuracy: 0.9357 - val_loss: 0.1767 - val_accuracy: 0.9326\n",
            "Epoch 24/30\n",
            "481406/481406 [==============================] - 1s 2us/step - loss: 0.1180 - accuracy: 0.9350 - val_loss: 0.1397 - val_accuracy: 0.9343\n",
            "Epoch 25/30\n",
            "481406/481406 [==============================] - 1s 2us/step - loss: 0.1172 - accuracy: 0.9361 - val_loss: 0.2151 - val_accuracy: 0.9225\n",
            "Epoch 26/30\n",
            "481406/481406 [==============================] - 1s 2us/step - loss: 0.1185 - accuracy: 0.9354 - val_loss: 0.4628 - val_accuracy: 0.9109\n",
            "Epoch 27/30\n",
            "481406/481406 [==============================] - 1s 2us/step - loss: 0.1209 - accuracy: 0.9323 - val_loss: 0.5635 - val_accuracy: 0.9136\n",
            "Epoch 28/30\n",
            "481406/481406 [==============================] - 1s 2us/step - loss: 0.1196 - accuracy: 0.9350 - val_loss: 0.1599 - val_accuracy: 0.9317\n",
            "Epoch 29/30\n",
            "481406/481406 [==============================] - 1s 2us/step - loss: 0.1177 - accuracy: 0.9349 - val_loss: 0.2801 - val_accuracy: 0.9270\n",
            "Epoch 30/30\n",
            "481406/481406 [==============================] - 1s 2us/step - loss: 0.1172 - accuracy: 0.9360 - val_loss: 0.1909 - val_accuracy: 0.9244\n",
            "53489/53489 [==============================] - 5s 89us/step\n",
            "The mean of the accuracy is: 0.9199712216854096\n",
            "The STD of the accuracy is: 0.013266387748206555\n"
          ],
          "name": "stdout"
        }
      ]
    },
    {
      "cell_type": "markdown",
      "metadata": {
        "colab_type": "text",
        "id": "b5PYXUabEs2x"
      },
      "source": [
        "# Part 23: DNN regression\n",
        "\n",
        "A similar DNN can be used for regression, instead of classification.\n",
        "\n",
        "Question 25: How would you change the DNN in order to use it for regression instead?\n",
        "\n",
        "**In regression, the output variable is numerical (or continuous) we can use mean_squared_error (MSE) as a loss function instead of crossentropy or categorical_crossentropy in classification. As for the optimizer we can use Adaptive moment estimation (Adam) for both classification and regression. And we need to change the activation function for the last layer to a linear one in regression (well noted)**"
      ]
    },
    {
      "cell_type": "markdown",
      "metadata": {
        "colab_type": "text",
        "id": "Q-hXBDH2Es2y"
      },
      "source": [
        "## Report\n",
        "\n",
        "Send in this jupyter notebook, with answers to all questions."
      ]
    },
    {
      "cell_type": "markdown",
      "metadata": {
        "colab_type": "text",
        "id": "z5UHljyUZ30d"
      },
      "source": [
        "## References\n",
        "\n",
        "https://machinelearningmastery.com/display-deep-learning-model-training-history-in-keras/\n",
        "\n",
        "https://medium.com/lean-in-women-in-tech-india/google-colab-the-beginners-guide-5ad3b417dfa\n",
        "\n",
        "https://machinelearningmastery.com/understand-the-dynamics-of-learning-rate-on-deep-learning-neural-networks/\n",
        "\n",
        "https://datascience.stackexchange.com/questions/13490/how-to-set-class-weights-for-imbalanced-classes-in-keras"
      ]
    }
  ]
}