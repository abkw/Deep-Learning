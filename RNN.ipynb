{
  "nbformat": 4,
  "nbformat_minor": 0,
  "metadata": {
    "kernelspec": {
      "display_name": "Python 3",
      "language": "python",
      "name": "python3"
    },
    "language_info": {
      "codemirror_mode": {
        "name": "ipython",
        "version": 3
      },
      "file_extension": ".py",
      "mimetype": "text/x-python",
      "name": "python",
      "nbconvert_exporter": "python",
      "pygments_lexer": "ipython3",
      "version": "3.7.7"
    },
    "colab": {
      "name": "RNN_Lab_GPU (3).ipynb",
      "provenance": [],
      "collapsed_sections": [],
      "toc_visible": true
    },
    "accelerator": "GPU"
  },
  "cells": [
    {
      "cell_type": "markdown",
      "metadata": {
        "id": "RpaZQDS9RKSk",
        "colab_type": "text"
      },
      "source": [
        "# Part-of-Speech Tagging with Recurrent Neural Networks"
      ]
    },
    {
      "cell_type": "markdown",
      "metadata": {
        "id": "vNDSxqoXRKSm",
        "colab_type": "text"
      },
      "source": [
        "Your task in this assignment is to implement a simple part-of-speech tagger based on recurrent neural networks."
      ]
    },
    {
      "cell_type": "markdown",
      "metadata": {
        "id": "AKuuMxkKRKSo",
        "colab_type": "text"
      },
      "source": [
        "## Get a graphics card"
      ]
    },
    {
      "cell_type": "code",
      "metadata": {
        "id": "anKxv3qaRKSq",
        "colab_type": "code",
        "colab": {}
      },
      "source": [
        "import os\n",
        "import warnings\n",
        "\n",
        "# Ignore FutureWarning from numpy\n",
        "warnings.simplefilter(action='ignore', category=FutureWarning)\n",
        "\n",
        "import keras.backend as K\n",
        "import tensorflow as tf\n",
        "\n",
        "os.environ[\"CUDA_DEVICE_ORDER\"]=\"PCI_BUS_ID\";\n",
        " \n",
        "# The GPU id to use, usually either \"0\" or \"1\";\n",
        "os.environ[\"CUDA_VISIBLE_DEVICES\"]=\"0\"; "
      ],
      "execution_count": null,
      "outputs": []
    },
    {
      "cell_type": "markdown",
      "metadata": {
        "id": "cBbSgj8RRKS2",
        "colab_type": "text"
      },
      "source": [
        "## Problem specification"
      ]
    },
    {
      "cell_type": "markdown",
      "metadata": {
        "id": "Ml-ReEQZRKS3",
        "colab_type": "text"
      },
      "source": [
        "Your task in this assignment is\n",
        "\n",
        "1. to build a part-of-speech tagger based on a recurrent neural network architecture\n",
        "2. to train this tagger on the provided training data and identify a good model\n",
        "2. to evaluate the performance of this model on the provided test data\n",
        "\n",
        "To identify a good model, you can use the provided development (validation) data."
      ]
    },
    {
      "cell_type": "markdown",
      "metadata": {
        "id": "N5tToQVHRKS4",
        "colab_type": "text"
      },
      "source": [
        "## Part-of-speech tagging"
      ]
    },
    {
      "cell_type": "markdown",
      "metadata": {
        "id": "SmVy8HHYRKS5",
        "colab_type": "text"
      },
      "source": [
        "Part-of-speech (POS) tagging is the task of labelling words (tokens) with [parts of speech](https://en.wikipedia.org/wiki/Part_of_speech). To give an example, consider the  sentence *Parker hates parsnips*. In this sentence, the word *Parker* should be labelled as a proper noun (a noun that is the name of a person), *hates* should be labelled as a verb, and *parsnips* should be labelled as a (common) noun. Part-of-speech tagging is an essential ingredient of many state-of-the-art natural language understanding systems.\n",
        "\n",
        "Part-of-speech tagging can be cast as a supervised machine learning problem where the gold-standard data consists of sentences whose words have been manually annotated with parts of speech. For the present assignment you will be using a corpus built over the source material of the [English Web Treebank](https://catalog.ldc.upenn.edu/ldc2012t13), consisting of approximately 16,000&nbsp;sentences with 254,000&nbsp;tokens. The corpus has been released by the [Universal Dependencies Project](http://universaldependencies.org).\n",
        "\n",
        "To make it easier to compare systems, the gold-standard data has been split into three parts: training, development (validation), and test. The following cell provides a function that can be used to load the data."
      ]
    },
    {
      "cell_type": "code",
      "metadata": {
        "id": "ayAIAeOlRKS9",
        "colab_type": "code",
        "colab": {}
      },
      "source": [
        "def read_data(path):\n",
        "    with open(path, encoding='utf-8') as fp:\n",
        "        result = []\n",
        "        for line in fp:\n",
        "            line = line.rstrip()\n",
        "            if len(line) == 0:\n",
        "                yield result\n",
        "                result = []\n",
        "            elif not line.startswith('#'):\n",
        "                columns = line.split()\n",
        "                if columns[0].isdigit():\n",
        "                    result.append((columns[1], columns[3]))"
      ],
      "execution_count": null,
      "outputs": []
    },
    {
      "cell_type": "markdown",
      "metadata": {
        "id": "gpehg-25RKTG",
        "colab_type": "text"
      },
      "source": [
        "The next cell loads the data:"
      ]
    },
    {
      "cell_type": "code",
      "metadata": {
        "id": "3RkEtZ1gRKTH",
        "colab_type": "code",
        "colab": {
          "base_uri": "https://localhost:8080/",
          "height": 105
        },
        "outputId": "96926043-055a-490c-8762-8d63f90a7fa0"
      },
      "source": [
        "train_data = list(read_data('en_ewt-ud-train.conllu'))\n",
        "print('Number of sentences in the training data: {}'.format(len(train_data)))\n",
        "\n",
        "dev_data = list(read_data('en_ewt-ud-dev.conllu'))\n",
        "print('Number of sentences in the development data: {}'.format(len(dev_data)))\n",
        "\n",
        "test_data = list(read_data('en_ewt-ud-test.conllu'))\n",
        "print('Number of sentences in the test data: {}'.format(len(test_data)))\n",
        "print([x for x,y in train_data[1]])"
      ],
      "execution_count": null,
      "outputs": [
        {
          "output_type": "stream",
          "text": [
            "Number of sentences in the training data: 12543\n",
            "Number of sentences in the development data: 2002\n",
            "Number of sentences in the test data: 2077\n",
            "['[', 'This', 'killing', 'of', 'a', 'respected', 'cleric', 'will', 'be', 'causing', 'us', 'trouble', 'for', 'years', 'to', 'come', '.', ']']\n"
          ],
          "name": "stdout"
        }
      ]
    },
    {
      "cell_type": "markdown",
      "metadata": {
        "id": "SzPltziERKTQ",
        "colab_type": "text"
      },
      "source": [
        "From a Python perspective, each of the data sets is a list of what we shall refer to as *tagged sentences*. A tagged sentence, in turn, is a list of pairs $(w,t)$, where $w$ is a word token and $t$ is the word&rsquo;s POS tag. Here is an example from the training data to show you how this looks like:"
      ]
    },
    {
      "cell_type": "code",
      "metadata": {
        "id": "5cBlsHd4RKTS",
        "colab_type": "code",
        "colab": {
          "base_uri": "https://localhost:8080/",
          "height": 238
        },
        "outputId": "73da8f8b-f133-42ec-9651-b704d8e8ced4"
      },
      "source": [
        "train_data[42]  # Type = list\n",
        "# type(train_data[42][0]) - Type = Tuple\n",
        "\n",
        "# def getWord(word_pair):  \n",
        "#   return word_pair[0]\n",
        "\n",
        "# def getTag(word_pair):  \n",
        "#   return word_pair[1]\n",
        "\n",
        "# getTag(train_data[42][0])\n"
      ],
      "execution_count": null,
      "outputs": [
        {
          "output_type": "execute_result",
          "data": {
            "text/plain": [
              "[('There', 'PRON'),\n",
              " ('has', 'AUX'),\n",
              " ('been', 'VERB'),\n",
              " ('talk', 'NOUN'),\n",
              " ('that', 'SCONJ'),\n",
              " ('the', 'DET'),\n",
              " ('night', 'NOUN'),\n",
              " ('curfew', 'NOUN'),\n",
              " ('might', 'AUX'),\n",
              " ('be', 'AUX'),\n",
              " ('implemented', 'VERB'),\n",
              " ('again', 'ADV'),\n",
              " ('.', 'PUNCT')]"
            ]
          },
          "metadata": {
            "tags": []
          },
          "execution_count": 17
        }
      ]
    },
    {
      "cell_type": "markdown",
      "metadata": {
        "id": "R40x9x36RKTZ",
        "colab_type": "text"
      },
      "source": [
        "You will see part-of-speech tags such as `VERB` for verb, `NOUN` for noun, and `ADV` for adverb. If you are interested in learning more about the tag set used in the gold-standard data, you can have a look at the documentation of the [Universal POS tags](http://universaldependencies.org/u/pos/all.html). However, you do not need to understand the meaning of the POS tags to solve this assignment; you can simply treat them as labels drawn from a finite set of alternatives."
      ]
    },
    {
      "cell_type": "markdown",
      "metadata": {
        "id": "gQ6yXFRtRKTZ",
        "colab_type": "text"
      },
      "source": [
        "## Network architecture"
      ]
    },
    {
      "cell_type": "markdown",
      "metadata": {
        "id": "rR3HeuamRKTa",
        "colab_type": "text"
      },
      "source": [
        "The proposed network architecture for your tagger is a sequential model with three layers, illustrated below: an embedding, a bidirectional LSTM, and a softmax layer. The embedding turns word indexes (integers representing words) into fixed-size dense vectors which are then fed into the bidirectional LSTM. The output of the LSTM at each position of the sentence is passed to a softmax layer which predicts the POS tag for the word at that position.\n",
        "\n",
        "![architecture.png](attachment:architecture.png)\n",
        "\n",
        "To implement the network architecture, you will use [Keras](https://keras.io/). Keras comes with an extensive online documentation, and reading the relevant parts of this documentation will be essential when working on this assignment. We suggest to start with the tutorial [Getting started with the Keras Sequential model](https://keras.io/getting-started/sequential-model-guide/). After that, you should have a look at some of the examples mentioned in that tutorial, and in particular the [Bidirectional LSTM](https://keras.io/examples/imdb_bidirectional_lstm/) example."
      ]
    },
    {
      "cell_type": "markdown",
      "metadata": {
        "id": "h9RW_Ft1RKTb",
        "colab_type": "text"
      },
      "source": [
        "## Evaluation"
      ]
    },
    {
      "cell_type": "markdown",
      "metadata": {
        "id": "OEwArbt3RKTd",
        "colab_type": "text"
      },
      "source": [
        "The most widely-used evaluation measure for part-of-speech tagging is per-word accuracy, which is the percentage of words to which the tagger assigns the correct tag (according to the gold standard). This is one of the default metrics in Keras.\n",
        "\n",
        "One problem that you will encounter during evaluation is that the evaluation data contains words that you did not see (and did not add to your index) during training. The simplest solution to this problem is to introduce a special &lsquo;word&rsquo; `<unk>` and replace each unknown word with this pseudoword."
      ]
    },
    {
      "cell_type": "markdown",
      "metadata": {
        "id": "-5yXkYXBRKTk",
        "colab_type": "text"
      },
      "source": [
        "## Part 1: Pre-process the data"
      ]
    },
    {
      "cell_type": "markdown",
      "metadata": {
        "id": "u7z2BNWIRKTl",
        "colab_type": "text"
      },
      "source": [
        "Before you can start to implement the network architecture as such, you will have to bring the tagged sentences from the gold-standard data into a form that can be used with the network. One important step in this is to map the words and tags (strings) to integers. Here is code that illustrates the idea:"
      ]
    },
    {
      "cell_type": "code",
      "metadata": {
        "id": "CUT5fukbRKTm",
        "colab_type": "code",
        "colab": {
          "base_uri": "https://localhost:8080/",
          "height": 51
        },
        "outputId": "44a4cff8-94bc-40e3-f37f-a8426838d8b3"
      },
      "source": [
        "word_to_index = {}\n",
        "for tagged_sentence in train_data:\n",
        "    for word, tag in tagged_sentence:\n",
        "        if word not in word_to_index:\n",
        "            word_to_index[word] = len(word_to_index)\n",
        "\n",
        "print('Number of unique words in the training data: {}'.format(len(word_to_index)))\n",
        "print('Index of the word \"hates\": {}'.format(word_to_index['hates']))\n"
      ],
      "execution_count": null,
      "outputs": [
        {
          "output_type": "stream",
          "text": [
            "Number of unique words in the training data: 19672\n",
            "Index of the word \"hates\": 4579\n"
          ],
          "name": "stdout"
        }
      ]
    },
    {
      "cell_type": "markdown",
      "metadata": {
        "id": "jdRnBYq0RKTv",
        "colab_type": "text"
      },
      "source": [
        "Once you have indexes for the words and the tags, you can construct the input and the gold-standard output tensor required to train the network.\n",
        "\n",
        "### Constructing the input tensor\n",
        "\n",
        "The input tensor should be of shape $(N, n)$ where $N$ is the total number of sentences in the training data and $n$ is the length of the longest sentence. Note that Keras requires all sequences in an input tensor to have the same length, which means that you will have to pad all sequences to that length. You can use the helper function [`pad_sequences`](https://www.tensorflow.org/api_docs/python/tf/keras/preprocessing/sequence/pad_sequences) for this, which by default will front-pad sequences with the value&nbsp;0. It is essential then that you do not use this special padding value as the index of actual words.\n",
        "\n",
        "### Constructing the target output tensor\n",
        "\n",
        "The target output tensor should be of shape $(N, n, T)$ where $T$ is the number of unique tags in the training data, plus one to cater for the special padding value. The additional dimension corresponds to the fact that the softmax layer of the network will output one $T$-dimensional vector for each position of an input sentence. To construct this vector, you can use the helper function [`to_categorical`](https://www.tensorflow.org/api_docs/python/tf/keras/utils/to_categorical)."
      ]
    },
    {
      "cell_type": "code",
      "metadata": {
        "id": "x21lwJkcRKTx",
        "colab_type": "code",
        "colab": {
          "base_uri": "https://localhost:8080/",
          "height": 51
        },
        "outputId": "6f4245a0-260d-48aa-9fd9-1730be3ab06c"
      },
      "source": [
        "# Define a help function to build index from a list of words or tags, each word / tag will have a unique number\n",
        "def build_index(strings, init=[]):\n",
        "    string_to_index = {s: i for i, s in enumerate(init)}\n",
        "    # Loop over strings in 'strings'\n",
        "    for item in strings:\n",
        "      if item not in string_to_index:\n",
        "          string_to_index[item] = len(string_to_index)\n",
        "\n",
        "        # Check if string exists in variable 'string_to_index', \n",
        "        # if string does not exist, add a new element to 'string_to_index': the current length of 'string_to_index'\n",
        "        \n",
        "    return string_to_index\n",
        "        \n",
        "# Convert all words and tags in train_data to lists, start with empty lists and use '.append()' \n",
        "# to add one word / tag at a time, similar to the cell below 'pre-process the data'\n",
        "words, tags = [], []\n",
        "\n",
        "for tagged_sentence in train_data:\n",
        "    for word, tag in tagged_sentence:\n",
        "      words.append(word)\n",
        "      tags.append(tag)\n",
        "\n",
        "\n",
        "# Call the help function you made, to build an index for words (word_to_index), and one index for tags (tag_to_index)\n",
        "word_to_index = build_index(words, init=['<pad>', '<unk>'])\n",
        "tag_to_index = build_index(tags, init=['<pad>'])\n",
        "\n",
        "# Check number of words and tags\n",
        "num_words = len(word_to_index)\n",
        "num_tags = len(tag_to_index)\n",
        "print(f'Number of unique words in the training data: {num_words}')\n",
        "print(f'Number of unique tags in the training_data: {num_tags}')"
      ],
      "execution_count": null,
      "outputs": [
        {
          "output_type": "stream",
          "text": [
            "Number of unique words in the training data: 19674\n",
            "Number of unique tags in the training_data: 18\n"
          ],
          "name": "stdout"
        }
      ]
    },
    {
      "cell_type": "code",
      "metadata": {
        "id": "7IQOi81iRKT5",
        "colab_type": "code",
        "colab": {
          "base_uri": "https://localhost:8080/",
          "height": 51
        },
        "outputId": "73ed7986-a72b-408d-9e37-fb62ab57955f"
      },
      "source": [
        "from tensorflow.keras.preprocessing.sequence import pad_sequences\n",
        "from tensorflow.keras.utils import to_categorical\n",
        "import numpy as np\n",
        "\n",
        "# Make a function that converts the tagged sentences, word indices and tag indices to \n",
        "# X and Y, that can be used when training the RNN\n",
        "def encode(tagged_sentences, word_to_index, tag_to_index):\n",
        "    \n",
        "    # Start with empty lists that will contain all training examples and corresponding output\n",
        "    X, Y = [], []\n",
        "    \n",
        "    # Loop over tagged sentences\n",
        "    for tagged_sentence in tagged_sentences:\n",
        "    \n",
        "      # Make empty lists for current sentence\n",
        "      Xcurrent, Ycurrent = [], []\n",
        "    \n",
        "      # Loop over words and tags in current sentence\n",
        "      for word, tag in tagged_sentence:\n",
        "        # Append the index for the current word to Xcurrent, \n",
        "        # if the word does not exist in 'word_to_index', add the index for '<unk>' instead\n",
        "        Xcurrent.append(word_to_index[word] if word in word_to_index else word_to_index['<unk>'])\n",
        "        Ycurrent.append(tag_to_index[tag])\n",
        "        \n",
        "      X.append(Xcurrent)\n",
        "      Y.append(Ycurrent)\n",
        "        # Append X with Xcurrent, and Y with Ycurrent\n",
        "    \n",
        "      # Pad the sequences, so that all have the same length\n",
        "    X = pad_sequences(X)\n",
        "    Y = pad_sequences(Y)\n",
        "    # Convert labels to categorical, as you did in the CNN lab\n",
        "    Y = to_categorical(Y, \n",
        "                       num_classes = len(tag_to_index),\n",
        "                       dtype = 'float32')\n",
        "    return X, Y\n",
        "    \n",
        "    \n",
        "\n",
        "# Use your 'encode' function to create X and Y from train_data, word_to_index, tag_to_index\n",
        "X,Y = encode(train_data,word_to_index,tag_to_index)\n",
        "\n",
        "# Print the shape of X and Y\n",
        "print(X.shape)\n",
        "print(Y.shape)"
      ],
      "execution_count": null,
      "outputs": [
        {
          "output_type": "stream",
          "text": [
            "(12543, 159)\n",
            "(12543, 159, 18)\n"
          ],
          "name": "stdout"
        }
      ]
    },
    {
      "cell_type": "markdown",
      "metadata": {
        "id": "v3ZvIfJrRKUF",
        "colab_type": "text"
      },
      "source": [
        "## Part 2: Construct the model"
      ]
    },
    {
      "cell_type": "markdown",
      "metadata": {
        "id": "RxlaROh8RKUG",
        "colab_type": "text"
      },
      "source": [
        "To implement the network architecture, you need to find and instantiate the relevant building blocks from the Keras library. Note that Keras layers support a large number of optional parameters; use the default values unless you have a good reason not to. Two mandatory parameters that you will have to specify are the dimensionality of the embedding and the dimensionality of the output of the LSTM layer. The following values are reasonable starting points, but do try a number of different settings.\n",
        "\n",
        "* dimensionality of the embedding: 100\n",
        "* dimensionality of the output of the bidirectional LSTM layer: 100\n",
        "\n",
        "You will also have to choose an appropriate loss function. For training we recommend the Adam optimiser."
      ]
    },
    {
      "cell_type": "code",
      "metadata": {
        "id": "sRntQ-YARKUI",
        "colab_type": "code",
        "colab": {
          "base_uri": "https://localhost:8080/",
          "height": 255
        },
        "outputId": "8a38ba05-c055-4ae3-dbcf-0c1bec255e09"
      },
      "source": [
        "from keras import Sequential\n",
        "from keras.losses import categorical_crossentropy as CC\n",
        "from keras.optimizers import Adam\n",
        "# Import necessary layers\n",
        "from keras.layers import Dense, Embedding, LSTM, Bidirectional, Flatten\n",
        "\n",
        "embedding_dim = 100\n",
        "hidden_dim = 100\n",
        "\n",
        "# Create model, similar to how it was done in the DNN and CNN labs\n",
        "\n",
        "def build_RNN(input_shape = embedding_dim, use_dropout=False, lr=0.01):\n",
        "\n",
        "    # Setup a sequential model\n",
        "    model = Sequential()\n",
        "\n",
        "    opti = Adam(learning_rate=lr)\n",
        "\n",
        "    # Add first embedding layer to the model, requires input shape\n",
        "    model.add(Embedding(input_dim = num_words, output_dim = embedding_dim,mask_zero=True))\n",
        "\n",
        "    #Using dropout if the parameter's value is true\n",
        "    if use_dropout == True:\n",
        "          model.add(Dropout(0.5))\n",
        "\n",
        "    # Adding Bidirectional LSTM layer\n",
        "    model.add(Bidirectional(LSTM(hidden_dim, return_sequences=True)))\n",
        "\n",
        "    # Add final dense layer with 18 classes\n",
        "    model.add(Dense(18, activation='softmax'))\n",
        "   \n",
        "    # Compile model\n",
        "    model.compile(optimizer = opti,\n",
        "                  loss = CC, \n",
        "                  metrics = ['accuracy'])\n",
        "    return model\n",
        "\n",
        "#Building the model\n",
        "model = build_RNN()\n",
        "\n",
        "# Print a summary of the model\n",
        "model.summary()\n"
      ],
      "execution_count": null,
      "outputs": [
        {
          "output_type": "stream",
          "text": [
            "Model: \"sequential_3\"\n",
            "_________________________________________________________________\n",
            "Layer (type)                 Output Shape              Param #   \n",
            "=================================================================\n",
            "embedding_2 (Embedding)      (None, None, 100)         1967400   \n",
            "_________________________________________________________________\n",
            "bidirectional_2 (Bidirection (None, None, 200)         160800    \n",
            "_________________________________________________________________\n",
            "dense_2 (Dense)              (None, None, 18)          3618      \n",
            "=================================================================\n",
            "Total params: 2,131,818\n",
            "Trainable params: 2,131,818\n",
            "Non-trainable params: 0\n",
            "_________________________________________________________________\n"
          ],
          "name": "stdout"
        }
      ]
    },
    {
      "cell_type": "markdown",
      "metadata": {
        "id": "L9u74gziRKUR",
        "colab_type": "text"
      },
      "source": [
        "## Part 3: Train the network"
      ]
    },
    {
      "cell_type": "markdown",
      "metadata": {
        "id": "Po9UlNjQRKUS",
        "colab_type": "text"
      },
      "source": [
        "The next step is to train the network. Use the following parameters:\n",
        "\n",
        "* number of epochs: 10\n",
        "* batch size: 32\n",
        "\n",
        "Training will print the average running loss on the training data after each minibatch. In addition to that, we ask you to also print the loss and accuracy on the development data after each epoch. You can do so by providing the `validation_data` argument to the `fit` method.\n",
        "\n",
        "Note that the `fit` method returns a [`History`](https://keras.io/callbacks/#history) object that contains useful information about the training. We will use that information in the next step."
      ]
    },
    {
      "cell_type": "code",
      "metadata": {
        "id": "JhmgXo5rRKUT",
        "colab_type": "code",
        "colab": {
          "base_uri": "https://localhost:8080/",
          "height": 394
        },
        "outputId": "c29cc7f1-9e69-4763-964c-ef6d36c6dd51"
      },
      "source": [
        "# Encode the development (validation data) using the 'encode' function you created before\n",
        "X_dev, Y_dev = encode(dev_data, word_to_index, tag_to_index)\n",
        "\n",
        "# Train the model and save the history, as you did in the DNN and CNN labs, provide validation data\n",
        "history = model.fit(x = X,\n",
        "                      y = Y,\n",
        "                      validation_data = (X_dev,Y_dev),\n",
        "                      epochs = 10,\n",
        "                      batch_size = 32)\n"
      ],
      "execution_count": null,
      "outputs": [
        {
          "output_type": "stream",
          "text": [
            "Train on 12543 samples, validate on 2002 samples\n",
            "Epoch 1/10\n",
            "12543/12543 [==============================] - 424s 34ms/step - loss: 0.0367 - accuracy: 0.8906 - val_loss: 0.0462 - val_accuracy: 0.9134\n",
            "Epoch 2/10\n",
            "12543/12543 [==============================] - 425s 34ms/step - loss: 0.0101 - accuracy: 0.9691 - val_loss: 0.0486 - val_accuracy: 0.9133\n",
            "Epoch 3/10\n",
            "12543/12543 [==============================] - 423s 34ms/step - loss: 0.0061 - accuracy: 0.9808 - val_loss: 0.0536 - val_accuracy: 0.9136\n",
            "Epoch 4/10\n",
            "12543/12543 [==============================] - 418s 33ms/step - loss: 0.0044 - accuracy: 0.9860 - val_loss: 0.0635 - val_accuracy: 0.9109\n",
            "Epoch 5/10\n",
            "12543/12543 [==============================] - 416s 33ms/step - loss: 0.0036 - accuracy: 0.9886 - val_loss: 0.0664 - val_accuracy: 0.9105\n",
            "Epoch 6/10\n",
            "12543/12543 [==============================] - 416s 33ms/step - loss: 0.0035 - accuracy: 0.9884 - val_loss: 0.0748 - val_accuracy: 0.9095\n",
            "Epoch 7/10\n",
            "12543/12543 [==============================] - 421s 34ms/step - loss: 0.0034 - accuracy: 0.9891 - val_loss: 0.0796 - val_accuracy: 0.9068\n",
            "Epoch 8/10\n",
            "12543/12543 [==============================] - 417s 33ms/step - loss: 0.0034 - accuracy: 0.9891 - val_loss: 0.0819 - val_accuracy: 0.9062\n",
            "Epoch 9/10\n",
            "12543/12543 [==============================] - 414s 33ms/step - loss: 0.0034 - accuracy: 0.9892 - val_loss: 0.0848 - val_accuracy: 0.9063\n",
            "Epoch 10/10\n",
            "12543/12543 [==============================] - 416s 33ms/step - loss: 0.0031 - accuracy: 0.9902 - val_loss: 0.0894 - val_accuracy: 0.9059\n"
          ],
          "name": "stdout"
        }
      ]
    },
    {
      "cell_type": "markdown",
      "metadata": {
        "id": "9WVMO55XRKUa",
        "colab_type": "text"
      },
      "source": [
        "## Part 4: Identify a good model"
      ]
    },
    {
      "cell_type": "markdown",
      "metadata": {
        "id": "1xrqpd5gRKUb",
        "colab_type": "text"
      },
      "source": [
        "The following code will plot the loss on the training data and the loss on the validation data after each epoch:"
      ]
    },
    {
      "cell_type": "code",
      "metadata": {
        "id": "dRCDzOiFRKUc",
        "colab_type": "code",
        "colab": {}
      },
      "source": [
        "# Lets define a help function for plotting the training results\n",
        "import matplotlib.pyplot as plt\n",
        "\n",
        "def plot_results(history):\n",
        "    \n",
        "    val_loss = history.history['val_loss']\n",
        "    acc = history.history['accuracy']\n",
        "    loss = history.history['loss']\n",
        "    val_acc = history.history['val_accuracy']\n",
        "    \n",
        "    plt.figure(figsize=(10,4))\n",
        "    plt.xlabel('Epochs')\n",
        "    plt.ylabel('Loss')\n",
        "    plt.plot(loss)\n",
        "    plt.plot(val_loss)\n",
        "    plt.legend(['Training','Validation'])\n",
        "\n",
        "    plt.figure(figsize=(10,4))\n",
        "    plt.xlabel('Epochs')\n",
        "    plt.ylabel('Accuracy')\n",
        "    plt.plot(acc)\n",
        "    plt.plot(val_acc)\n",
        "    plt.legend(['Training','Validation'])\n",
        "\n",
        "    plt.show()"
      ],
      "execution_count": null,
      "outputs": []
    },
    {
      "cell_type": "code",
      "metadata": {
        "id": "ZHGMkq4ORKUp",
        "colab_type": "code",
        "colab": {
          "base_uri": "https://localhost:8080/",
          "height": 541
        },
        "outputId": "d7e57ca6-c405-4aa2-a201-25c284ad370b"
      },
      "source": [
        "plot_results(history)"
      ],
      "execution_count": null,
      "outputs": [
        {
          "output_type": "display_data",
          "data": {
            "image/png": "[encoded data removed]",
            "text/plain": [
              "<Figure size 720x288 with 1 Axes>"
            ]
          },
          "metadata": {
            "tags": [],
            "needs_background": "light"
          }
        },
        {
          "output_type": "display_data",
          "data": {
            "image/png": "[encoded data removed]",
            "text/plain": [
              "<Figure size 720x288 with 1 Axes>"
            ]
          },
          "metadata": {
            "tags": [],
            "needs_background": "light"
          }
        }
      ]
    },
    {
      "cell_type": "markdown",
      "metadata": {
        "id": "93rup1c6RKU9",
        "colab_type": "text"
      },
      "source": [
        "Look at the plot and determine the epoch after which the model starts to overfit. Then, re-train your model using that many epochs and compute the accuracy of the tagger on the test data."
      ]
    },
    {
      "cell_type": "code",
      "metadata": {
        "id": "i7b1Hl3sRKU-",
        "colab_type": "code",
        "colab": {
          "base_uri": "https://localhost:8080/",
          "height": 68
        },
        "outputId": "6205eac7-684a-4ba2-ef58-26e27e04e0c5"
      },
      "source": [
        "# Encode the test_data using the 'encode' function you created before\n",
        "test_data = list(read_data('en_ewt-ud-test.conllu'))\n",
        "test_data = encode(test_data, word_to_index, tag_to_index)\n",
        "# Evaluate the model on test data, as you did in the DNN and CNN lab\n",
        "\n",
        "score = model.evaluate(x = test_data[0], \n",
        "                        y = test_data[1])\n",
        "print('Test loss: %.4f' % score[0])\n",
        "print('Test accuracy: %.4f' % score[1])\n"
      ],
      "execution_count": null,
      "outputs": [
        {
          "output_type": "stream",
          "text": [
            "2077/2077 [==============================] - 5s 2ms/step\n",
            "Test loss: 0.0710\n",
            "Test accuracy: 0.9084\n"
          ],
          "name": "stdout"
        }
      ]
    },
    {
      "cell_type": "markdown",
      "metadata": {
        "id": "fH9cq800RKVL",
        "colab_type": "text"
      },
      "source": [
        "## Submission"
      ]
    },
    {
      "cell_type": "code",
      "metadata": {
        "id": "B9JjUHEG-Ofh",
        "colab_type": "code",
        "colab": {
          "base_uri": "https://localhost:8080/",
          "height": 51
        },
        "outputId": "425c1422-e4aa-4de9-8250-602cb9f20442"
      },
      "source": [
        "print('The number of embedding dimesions is: ',num_words * embedding_dim )\n",
        "\n",
        "lstm_parameter = 4 * 200 * 200 + 4 * 200\n",
        "\n",
        "print('The number of LSTM layer parameters is', lstm_parameter)"
      ],
      "execution_count": null,
      "outputs": [
        {
          "output_type": "stream",
          "text": [
            "The number of embedding dimesions is:  1967400\n",
            "The number of LSTM layer parameters is 160800\n"
          ],
          "name": "stdout"
        }
      ]
    },
    {
      "cell_type": "markdown",
      "metadata": {
        "id": "7ufi6_ZbRKVN",
        "colab_type": "text"
      },
      "source": [
        "Your notebook should include all your code, and should be runnable without further modification. It should also include answers to the following questions:\n",
        "\n",
        "How many epochs did you train the final model for?  \n",
        "\n",
        "**One epoch was enough for the model, and the model starts overfitting after the first epoch**\n",
        "\n",
        "What accuracy did you achieve on the test data?  \n",
        "\n",
        "**90.8 % was the accuracy of the model for the test data**\n",
        "\n",
        "What dimensionality of the embedding did you use for your best results?  \n",
        "\n",
        "**100 gave a great result for the model, with input dimension of the total number of words**\n",
        "\n",
        "What dimensionality of the output of the bidirectional LSTM layer did you use for your best results?  \n",
        "**also 100 dimentions gave this accuracy rate for the model**\n",
        "\n",
        "Instead of manually identifying a good model, and redoing the training to that number of epochs, how can you automatically stop the training when the validation performance does not improve anymore? Hint: see Lecture 2  \n",
        "\n",
        "**we can use EarlyStopping which stops the training when validation error increases or there's no improvement, we can import it from keras.callbacks**  \n",
        "\n",
        "What did you find particularly surprising or hard?  \n",
        "\n",
        "**The time it took the netowrk to train the model was very high. Additionally, LSTM dimensions in the beginning were not compatible with the categorical Y variable, we spent alot of time on this one, until we found the return_sequence and input_shape that could be defined inside the LSTM layer (This url in particular: https://stackoverflow.com/questions/59020754/keras-lstm-input-output-dimension)**\n",
        "\n",
        "How do you calculate the number of parameters in the embedding layer? Hint: the calculation includes the vocabulary size and the embedding dimension  \n",
        "\n",
        "**The number of dimensions is the number of input dimension (which is the number of our words in this case 19674), multiplied by the number of output_dim dimension (which is 100 in our case), this result in 1967400**\n",
        "\n",
        "How do you calculate the number of parameters in the bidirectional LSTM layer? Hint: A LSTM layer has 4 parts; cell, input gate, output gate, forget gate, each part contains two weight matrices and a bias vector. A bidirectional LSTM contains two LSTMs.  \n",
        "**There are three gates in LSTM and one unit for setting the new value. It's 4 multiplied by 100 for our W, which is 400, plus the number of U parameters which is 4 * 200 * 200 160000, because each LSTM cell has unique 4 * 200, resulting in 8000. In the end we sum 800 and 160000, which results in 160800**\n",
        "\n",
        "https://en.wikipedia.org/wiki/Long_short-term_memory"
      ]
    },
    {
      "cell_type": "markdown",
      "metadata": {
        "id": "lrxv73KXRKVO",
        "colab_type": "text"
      },
      "source": [
        "## Ethics in deep learning\n",
        "\n",
        "Now that you have watched the 5 lectures, and completed the 3 laborations in this course, what do you think is the most important ethical question related to deep learning? Motivate your answer.\n",
        "\n"
      ]
    },
    {
      "cell_type": "markdown",
      "metadata": {
        "id": "1coeM31bRKVS",
        "colab_type": "text"
      },
      "source": [
        "**Deep learning can amazingly make use of data and find patterns and extract knowledge that couldn't be extracted by other means. It's vital that we don't misuse the information gained by using algorithms. More importantly, it's vital that we don't invade others' private information or intervene in people's way of life because we know about them more than they know about them selves.**"
      ]
    }
  ]
}